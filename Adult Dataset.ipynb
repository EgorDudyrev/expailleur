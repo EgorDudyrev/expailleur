{
  "cells": [
    {
      "cell_type": "markdown",
      "metadata": {
        "id": "view-in-github",
        "colab_type": "text"
      },
      "source": [
        "<a href=\"https://colab.research.google.com/github/EgorDudyrev/expailleur/blob/main/Adult%20Dataset.ipynb\" target=\"_parent\"><img src=\"https://colab.research.google.com/assets/colab-badge.svg\" alt=\"Open In Colab\"/></a>"
      ]
    },
    {
      "cell_type": "markdown",
      "metadata": {
        "id": "Zh2md1aBvq_j"
      },
      "source": [
        "# Passpailleur:\n",
        "## an extension of caspailleur to complex data"
      ]
    },
    {
      "cell_type": "markdown",
      "metadata": {
        "id": "NjEehiJcUj9_"
      },
      "source": [
        "The following tutorial shows the steps to visualize a lattice of stable concepts of a real-world \"Adult\" dataset from UCI repository.\n",
        "\n",
        "Therefore, we show how a data analyst can get a comprehensable overview of a dataset with paspailleur framework in just a few minutes."
      ]
    },
    {
      "cell_type": "code",
      "source": [
        "!pip install paspailleur --quiet"
      ],
      "metadata": {
        "id": "F-GDj6thYuUv"
      },
      "execution_count": 19,
      "outputs": []
    },
    {
      "cell_type": "markdown",
      "metadata": {
        "id": "t74cqGSbPDOg"
      },
      "source": [
        "# Part 1. Preprocessing the data"
      ]
    },
    {
      "cell_type": "markdown",
      "metadata": {
        "id": "gl_EeiPBKq8U"
      },
      "source": [
        "## Loading the data"
      ]
    },
    {
      "cell_type": "markdown",
      "metadata": {
        "id": "IQWCWBGm_t2q"
      },
      "source": [
        "First, let us download a real-world dataset for analysis.\n",
        "\n",
        "One of the most popular datasets in UCI repository is \"Adult Data Set\" ([the link](https://archive.ics.uci.edu/ml/datasets/Adult)).\n",
        "The task of the dataset is to predict whether a person more than 50 thousand dollars per year.\n",
        "\n",
        "We will use basic `pandas` functionality to load the data."
      ]
    },
    {
      "cell_type": "code",
      "source": [
        "import pandas as pd\n",
        "\n",
        "df = pd.read_csv('https://archive.ics.uci.edu/ml/machine-learning-databases/adult/adult.data', header=None)\n",
        "df.columns = ['age', 'workclass', 'fnlwgt', 'education', 'education-num', 'marital-status', 'occupation', 'relationship', 'race', 'sex', 'capital-gain', 'capital-loss', 'hours-per-week', 'native-country', 'income-per-year']\n",
        "print(df.shape)\n",
        "df.head()"
      ],
      "metadata": {
        "colab": {
          "base_uri": "https://localhost:8080/",
          "height": 360
        },
        "id": "8RT0TvnIaEVf",
        "outputId": "a1bccad8-7d3a-4227-acde-08f23e7b6674"
      },
      "execution_count": 20,
      "outputs": [
        {
          "output_type": "stream",
          "name": "stdout",
          "text": [
            "(32561, 15)\n"
          ]
        },
        {
          "output_type": "execute_result",
          "data": {
            "text/plain": [
              "   age          workclass  fnlwgt   education  education-num  \\\n",
              "0   39          State-gov   77516   Bachelors             13   \n",
              "1   50   Self-emp-not-inc   83311   Bachelors             13   \n",
              "2   38            Private  215646     HS-grad              9   \n",
              "3   53            Private  234721        11th              7   \n",
              "4   28            Private  338409   Bachelors             13   \n",
              "\n",
              "        marital-status          occupation    relationship    race      sex  \\\n",
              "0        Never-married        Adm-clerical   Not-in-family   White     Male   \n",
              "1   Married-civ-spouse     Exec-managerial         Husband   White     Male   \n",
              "2             Divorced   Handlers-cleaners   Not-in-family   White     Male   \n",
              "3   Married-civ-spouse   Handlers-cleaners         Husband   Black     Male   \n",
              "4   Married-civ-spouse      Prof-specialty            Wife   Black   Female   \n",
              "\n",
              "   capital-gain  capital-loss  hours-per-week  native-country income-per-year  \n",
              "0          2174             0              40   United-States           <=50K  \n",
              "1             0             0              13   United-States           <=50K  \n",
              "2             0             0              40   United-States           <=50K  \n",
              "3             0             0              40   United-States           <=50K  \n",
              "4             0             0              40            Cuba           <=50K  "
            ],
            "text/html": [
              "\n",
              "  <div id=\"df-0b1d44f9-143f-4e55-80a7-52084dcd3f2d\" class=\"colab-df-container\">\n",
              "    <div>\n",
              "<style scoped>\n",
              "    .dataframe tbody tr th:only-of-type {\n",
              "        vertical-align: middle;\n",
              "    }\n",
              "\n",
              "    .dataframe tbody tr th {\n",
              "        vertical-align: top;\n",
              "    }\n",
              "\n",
              "    .dataframe thead th {\n",
              "        text-align: right;\n",
              "    }\n",
              "</style>\n",
              "<table border=\"1\" class=\"dataframe\">\n",
              "  <thead>\n",
              "    <tr style=\"text-align: right;\">\n",
              "      <th></th>\n",
              "      <th>age</th>\n",
              "      <th>workclass</th>\n",
              "      <th>fnlwgt</th>\n",
              "      <th>education</th>\n",
              "      <th>education-num</th>\n",
              "      <th>marital-status</th>\n",
              "      <th>occupation</th>\n",
              "      <th>relationship</th>\n",
              "      <th>race</th>\n",
              "      <th>sex</th>\n",
              "      <th>capital-gain</th>\n",
              "      <th>capital-loss</th>\n",
              "      <th>hours-per-week</th>\n",
              "      <th>native-country</th>\n",
              "      <th>income-per-year</th>\n",
              "    </tr>\n",
              "  </thead>\n",
              "  <tbody>\n",
              "    <tr>\n",
              "      <th>0</th>\n",
              "      <td>39</td>\n",
              "      <td>State-gov</td>\n",
              "      <td>77516</td>\n",
              "      <td>Bachelors</td>\n",
              "      <td>13</td>\n",
              "      <td>Never-married</td>\n",
              "      <td>Adm-clerical</td>\n",
              "      <td>Not-in-family</td>\n",
              "      <td>White</td>\n",
              "      <td>Male</td>\n",
              "      <td>2174</td>\n",
              "      <td>0</td>\n",
              "      <td>40</td>\n",
              "      <td>United-States</td>\n",
              "      <td>&lt;=50K</td>\n",
              "    </tr>\n",
              "    <tr>\n",
              "      <th>1</th>\n",
              "      <td>50</td>\n",
              "      <td>Self-emp-not-inc</td>\n",
              "      <td>83311</td>\n",
              "      <td>Bachelors</td>\n",
              "      <td>13</td>\n",
              "      <td>Married-civ-spouse</td>\n",
              "      <td>Exec-managerial</td>\n",
              "      <td>Husband</td>\n",
              "      <td>White</td>\n",
              "      <td>Male</td>\n",
              "      <td>0</td>\n",
              "      <td>0</td>\n",
              "      <td>13</td>\n",
              "      <td>United-States</td>\n",
              "      <td>&lt;=50K</td>\n",
              "    </tr>\n",
              "    <tr>\n",
              "      <th>2</th>\n",
              "      <td>38</td>\n",
              "      <td>Private</td>\n",
              "      <td>215646</td>\n",
              "      <td>HS-grad</td>\n",
              "      <td>9</td>\n",
              "      <td>Divorced</td>\n",
              "      <td>Handlers-cleaners</td>\n",
              "      <td>Not-in-family</td>\n",
              "      <td>White</td>\n",
              "      <td>Male</td>\n",
              "      <td>0</td>\n",
              "      <td>0</td>\n",
              "      <td>40</td>\n",
              "      <td>United-States</td>\n",
              "      <td>&lt;=50K</td>\n",
              "    </tr>\n",
              "    <tr>\n",
              "      <th>3</th>\n",
              "      <td>53</td>\n",
              "      <td>Private</td>\n",
              "      <td>234721</td>\n",
              "      <td>11th</td>\n",
              "      <td>7</td>\n",
              "      <td>Married-civ-spouse</td>\n",
              "      <td>Handlers-cleaners</td>\n",
              "      <td>Husband</td>\n",
              "      <td>Black</td>\n",
              "      <td>Male</td>\n",
              "      <td>0</td>\n",
              "      <td>0</td>\n",
              "      <td>40</td>\n",
              "      <td>United-States</td>\n",
              "      <td>&lt;=50K</td>\n",
              "    </tr>\n",
              "    <tr>\n",
              "      <th>4</th>\n",
              "      <td>28</td>\n",
              "      <td>Private</td>\n",
              "      <td>338409</td>\n",
              "      <td>Bachelors</td>\n",
              "      <td>13</td>\n",
              "      <td>Married-civ-spouse</td>\n",
              "      <td>Prof-specialty</td>\n",
              "      <td>Wife</td>\n",
              "      <td>Black</td>\n",
              "      <td>Female</td>\n",
              "      <td>0</td>\n",
              "      <td>0</td>\n",
              "      <td>40</td>\n",
              "      <td>Cuba</td>\n",
              "      <td>&lt;=50K</td>\n",
              "    </tr>\n",
              "  </tbody>\n",
              "</table>\n",
              "</div>\n",
              "    <div class=\"colab-df-buttons\">\n",
              "\n",
              "  <div class=\"colab-df-container\">\n",
              "    <button class=\"colab-df-convert\" onclick=\"convertToInteractive('df-0b1d44f9-143f-4e55-80a7-52084dcd3f2d')\"\n",
              "            title=\"Convert this dataframe to an interactive table.\"\n",
              "            style=\"display:none;\">\n",
              "\n",
              "  <svg xmlns=\"http://www.w3.org/2000/svg\" height=\"24px\" viewBox=\"0 -960 960 960\">\n",
              "    <path d=\"M120-120v-720h720v720H120Zm60-500h600v-160H180v160Zm220 220h160v-160H400v160Zm0 220h160v-160H400v160ZM180-400h160v-160H180v160Zm440 0h160v-160H620v160ZM180-180h160v-160H180v160Zm440 0h160v-160H620v160Z\"/>\n",
              "  </svg>\n",
              "    </button>\n",
              "\n",
              "  <style>\n",
              "    .colab-df-container {\n",
              "      display:flex;\n",
              "      gap: 12px;\n",
              "    }\n",
              "\n",
              "    .colab-df-convert {\n",
              "      background-color: #E8F0FE;\n",
              "      border: none;\n",
              "      border-radius: 50%;\n",
              "      cursor: pointer;\n",
              "      display: none;\n",
              "      fill: #1967D2;\n",
              "      height: 32px;\n",
              "      padding: 0 0 0 0;\n",
              "      width: 32px;\n",
              "    }\n",
              "\n",
              "    .colab-df-convert:hover {\n",
              "      background-color: #E2EBFA;\n",
              "      box-shadow: 0px 1px 2px rgba(60, 64, 67, 0.3), 0px 1px 3px 1px rgba(60, 64, 67, 0.15);\n",
              "      fill: #174EA6;\n",
              "    }\n",
              "\n",
              "    .colab-df-buttons div {\n",
              "      margin-bottom: 4px;\n",
              "    }\n",
              "\n",
              "    [theme=dark] .colab-df-convert {\n",
              "      background-color: #3B4455;\n",
              "      fill: #D2E3FC;\n",
              "    }\n",
              "\n",
              "    [theme=dark] .colab-df-convert:hover {\n",
              "      background-color: #434B5C;\n",
              "      box-shadow: 0px 1px 3px 1px rgba(0, 0, 0, 0.15);\n",
              "      filter: drop-shadow(0px 1px 2px rgba(0, 0, 0, 0.3));\n",
              "      fill: #FFFFFF;\n",
              "    }\n",
              "  </style>\n",
              "\n",
              "    <script>\n",
              "      const buttonEl =\n",
              "        document.querySelector('#df-0b1d44f9-143f-4e55-80a7-52084dcd3f2d button.colab-df-convert');\n",
              "      buttonEl.style.display =\n",
              "        google.colab.kernel.accessAllowed ? 'block' : 'none';\n",
              "\n",
              "      async function convertToInteractive(key) {\n",
              "        const element = document.querySelector('#df-0b1d44f9-143f-4e55-80a7-52084dcd3f2d');\n",
              "        const dataTable =\n",
              "          await google.colab.kernel.invokeFunction('convertToInteractive',\n",
              "                                                    [key], {});\n",
              "        if (!dataTable) return;\n",
              "\n",
              "        const docLinkHtml = 'Like what you see? Visit the ' +\n",
              "          '<a target=\"_blank\" href=https://colab.research.google.com/notebooks/data_table.ipynb>data table notebook</a>'\n",
              "          + ' to learn more about interactive tables.';\n",
              "        element.innerHTML = '';\n",
              "        dataTable['output_type'] = 'display_data';\n",
              "        await google.colab.output.renderOutput(dataTable, element);\n",
              "        const docLink = document.createElement('div');\n",
              "        docLink.innerHTML = docLinkHtml;\n",
              "        element.appendChild(docLink);\n",
              "      }\n",
              "    </script>\n",
              "  </div>\n",
              "\n",
              "\n",
              "<div id=\"df-011d8bc8-f5dd-4fd4-ba8e-9be6ff0f7053\">\n",
              "  <button class=\"colab-df-quickchart\" onclick=\"quickchart('df-011d8bc8-f5dd-4fd4-ba8e-9be6ff0f7053')\"\n",
              "            title=\"Suggest charts\"\n",
              "            style=\"display:none;\">\n",
              "\n",
              "<svg xmlns=\"http://www.w3.org/2000/svg\" height=\"24px\"viewBox=\"0 0 24 24\"\n",
              "     width=\"24px\">\n",
              "    <g>\n",
              "        <path d=\"M19 3H5c-1.1 0-2 .9-2 2v14c0 1.1.9 2 2 2h14c1.1 0 2-.9 2-2V5c0-1.1-.9-2-2-2zM9 17H7v-7h2v7zm4 0h-2V7h2v10zm4 0h-2v-4h2v4z\"/>\n",
              "    </g>\n",
              "</svg>\n",
              "  </button>\n",
              "\n",
              "<style>\n",
              "  .colab-df-quickchart {\n",
              "      --bg-color: #E8F0FE;\n",
              "      --fill-color: #1967D2;\n",
              "      --hover-bg-color: #E2EBFA;\n",
              "      --hover-fill-color: #174EA6;\n",
              "      --disabled-fill-color: #AAA;\n",
              "      --disabled-bg-color: #DDD;\n",
              "  }\n",
              "\n",
              "  [theme=dark] .colab-df-quickchart {\n",
              "      --bg-color: #3B4455;\n",
              "      --fill-color: #D2E3FC;\n",
              "      --hover-bg-color: #434B5C;\n",
              "      --hover-fill-color: #FFFFFF;\n",
              "      --disabled-bg-color: #3B4455;\n",
              "      --disabled-fill-color: #666;\n",
              "  }\n",
              "\n",
              "  .colab-df-quickchart {\n",
              "    background-color: var(--bg-color);\n",
              "    border: none;\n",
              "    border-radius: 50%;\n",
              "    cursor: pointer;\n",
              "    display: none;\n",
              "    fill: var(--fill-color);\n",
              "    height: 32px;\n",
              "    padding: 0;\n",
              "    width: 32px;\n",
              "  }\n",
              "\n",
              "  .colab-df-quickchart:hover {\n",
              "    background-color: var(--hover-bg-color);\n",
              "    box-shadow: 0 1px 2px rgba(60, 64, 67, 0.3), 0 1px 3px 1px rgba(60, 64, 67, 0.15);\n",
              "    fill: var(--button-hover-fill-color);\n",
              "  }\n",
              "\n",
              "  .colab-df-quickchart-complete:disabled,\n",
              "  .colab-df-quickchart-complete:disabled:hover {\n",
              "    background-color: var(--disabled-bg-color);\n",
              "    fill: var(--disabled-fill-color);\n",
              "    box-shadow: none;\n",
              "  }\n",
              "\n",
              "  .colab-df-spinner {\n",
              "    border: 2px solid var(--fill-color);\n",
              "    border-color: transparent;\n",
              "    border-bottom-color: var(--fill-color);\n",
              "    animation:\n",
              "      spin 1s steps(1) infinite;\n",
              "  }\n",
              "\n",
              "  @keyframes spin {\n",
              "    0% {\n",
              "      border-color: transparent;\n",
              "      border-bottom-color: var(--fill-color);\n",
              "      border-left-color: var(--fill-color);\n",
              "    }\n",
              "    20% {\n",
              "      border-color: transparent;\n",
              "      border-left-color: var(--fill-color);\n",
              "      border-top-color: var(--fill-color);\n",
              "    }\n",
              "    30% {\n",
              "      border-color: transparent;\n",
              "      border-left-color: var(--fill-color);\n",
              "      border-top-color: var(--fill-color);\n",
              "      border-right-color: var(--fill-color);\n",
              "    }\n",
              "    40% {\n",
              "      border-color: transparent;\n",
              "      border-right-color: var(--fill-color);\n",
              "      border-top-color: var(--fill-color);\n",
              "    }\n",
              "    60% {\n",
              "      border-color: transparent;\n",
              "      border-right-color: var(--fill-color);\n",
              "    }\n",
              "    80% {\n",
              "      border-color: transparent;\n",
              "      border-right-color: var(--fill-color);\n",
              "      border-bottom-color: var(--fill-color);\n",
              "    }\n",
              "    90% {\n",
              "      border-color: transparent;\n",
              "      border-bottom-color: var(--fill-color);\n",
              "    }\n",
              "  }\n",
              "</style>\n",
              "\n",
              "  <script>\n",
              "    async function quickchart(key) {\n",
              "      const quickchartButtonEl =\n",
              "        document.querySelector('#' + key + ' button');\n",
              "      quickchartButtonEl.disabled = true;  // To prevent multiple clicks.\n",
              "      quickchartButtonEl.classList.add('colab-df-spinner');\n",
              "      try {\n",
              "        const charts = await google.colab.kernel.invokeFunction(\n",
              "            'suggestCharts', [key], {});\n",
              "      } catch (error) {\n",
              "        console.error('Error during call to suggestCharts:', error);\n",
              "      }\n",
              "      quickchartButtonEl.classList.remove('colab-df-spinner');\n",
              "      quickchartButtonEl.classList.add('colab-df-quickchart-complete');\n",
              "    }\n",
              "    (() => {\n",
              "      let quickchartButtonEl =\n",
              "        document.querySelector('#df-011d8bc8-f5dd-4fd4-ba8e-9be6ff0f7053 button');\n",
              "      quickchartButtonEl.style.display =\n",
              "        google.colab.kernel.accessAllowed ? 'block' : 'none';\n",
              "    })();\n",
              "  </script>\n",
              "</div>\n",
              "    </div>\n",
              "  </div>\n"
            ]
          },
          "metadata": {},
          "execution_count": 20
        }
      ]
    },
    {
      "cell_type": "markdown",
      "metadata": {
        "id": "_KmZMUmDFSFg"
      },
      "source": [
        "Also, let us do a small prettifcation of the dataset:\n",
        "1. The column \"fnlwgt\" represents the \"final weight\" of a person, which is a complex demographical index. Let us make it a bit more interpretable by scaling the index to the range $(0, 1)$. So that $0$ would be the worst demographical situation of a person, and $1$ would be the best.\n",
        "2. Apparently, some text values in the dataset start with an empty space (e.g. \" Bachelors\"). Let us delete these spaces by calling `strip` function.\n",
        "3. Let us name each row as \"person $i$\", where $i$ is a row number"
      ]
    },
    {
      "cell_type": "code",
      "execution_count": 21,
      "metadata": {
        "id": "pNJrmYqcFRP7"
      },
      "outputs": [],
      "source": [
        "df['fnlwgt'] /= df['fnlwgt'].max()\n",
        "for f in df.columns:\n",
        "    if df[f].dtype == 'object':\n",
        "        df[f] = [x.strip() for x in df[f]]\n",
        "df.index = [f\"person {i+1}\" for i in range(len(df))]"
      ]
    },
    {
      "cell_type": "markdown",
      "metadata": {
        "id": "VwpCrH6MA_Gu"
      },
      "source": [
        "Adult dataset contains about 32K rows and 15 columns. The columns are of two types: numerical (e.g. age, capital-gain) and categorical (e.g. workclass, education, relationship)."
      ]
    },
    {
      "cell_type": "markdown",
      "metadata": {
        "id": "eKDzUlnLKyc2"
      },
      "source": [
        "## Interval and Set pattern structures"
      ]
    },
    {
      "cell_type": "markdown",
      "metadata": {
        "id": "hYtR6PjsCIBt"
      },
      "source": [
        "The traditional Formal Concept Analysis deals with binary datatables represented by Formal Contexts. A **formal context** is a triple $(G, M, I)$ of objects (or rows) $G$, attributres (or columns) $M$ and relation among them $I \\subseteq G \\times M$."
      ]
    },
    {
      "cell_type": "markdown",
      "metadata": {
        "id": "DH9cY-UFDE3-"
      },
      "source": [
        "In order to work with Adult dataset in FCA terms we should either binarize the dataset or describe it with pattern structures.\n",
        "\n",
        "A **pattern structure** is a pair $(D, ⊑)$ where $D$ is a space of descriptions and $⊑$ is inclusion relation on these descriptions.\n",
        "So that, for two descriptions $d_1, d_2 \\in D$, $d_1$ is included in $d_2$ $(d_1 ⊑ d_2)$ when it is \"less precise\" or \"more general\" than $d_2$.\n",
        "Then, we define a **many valued context** as a triplet $(G, (D, ⊑), δ)$ with objects $G$, pattern structure $(D, ⊑)$, and the map $δ: G ↦ D$ assigning a description from $D$ to each object."
      ]
    },
    {
      "cell_type": "markdown",
      "metadata": {
        "id": "y9Drk471Im1g"
      },
      "source": [
        "Now we can represent each column in the dataset as a pattern structure. Numerical columns will be modelled by interval pattern structures, and categorical ones by set pattern structures.\n",
        "\n",
        "For interval pattern structures, the set of descriptions $D$ is a set of closed intervals of real numbers: $D = \\{ [a, b] \\mid a, b \\in \\mathbb{R}, a \\leq b \\}$. For two intervals $d_1 = [a_1, b_1], d_2 = [a_2, b_2] \\in D$, the former interval $d_1$ is included in the latter $d_2$ when the interval $d_2$ is contained in $d_1$: $d_1 ⊑ d_2 \\iff a_1 \\leq a_2, b_2 \\leq\n",
        "b_1$ (yes, this might seem contrintuitive).\n",
        "\n",
        "For set pattern structures, we are given a set of basic values $V$. Then, the set of descriptions $D$ is a powerset of $V$, and for two descriptions $d_1, d_2 \\in D: d_1 ⊑ d_2 \\iff d_2 \\subseteq d_1$."
      ]
    },
    {
      "cell_type": "markdown",
      "metadata": {
        "id": "TqWmDwVMMaYD"
      },
      "source": [
        "For example, consider a small subset of Adult dataset:"
      ]
    },
    {
      "cell_type": "code",
      "execution_count": 22,
      "metadata": {
        "colab": {
          "base_uri": "https://localhost:8080/",
          "height": 111
        },
        "id": "MSp-6ZAK_N0m",
        "outputId": "37dea517-a2e2-4901-9f5e-2641ad272c42"
      },
      "outputs": [
        {
          "output_type": "execute_result",
          "data": {
            "text/plain": [
              "          age         workclass\n",
              "person 1   39         State-gov\n",
              "person 2   50  Self-emp-not-inc"
            ],
            "text/html": [
              "\n",
              "  <div id=\"df-7930a318-f3a4-4b63-b7f7-376a111337be\" class=\"colab-df-container\">\n",
              "    <div>\n",
              "<style scoped>\n",
              "    .dataframe tbody tr th:only-of-type {\n",
              "        vertical-align: middle;\n",
              "    }\n",
              "\n",
              "    .dataframe tbody tr th {\n",
              "        vertical-align: top;\n",
              "    }\n",
              "\n",
              "    .dataframe thead th {\n",
              "        text-align: right;\n",
              "    }\n",
              "</style>\n",
              "<table border=\"1\" class=\"dataframe\">\n",
              "  <thead>\n",
              "    <tr style=\"text-align: right;\">\n",
              "      <th></th>\n",
              "      <th>age</th>\n",
              "      <th>workclass</th>\n",
              "    </tr>\n",
              "  </thead>\n",
              "  <tbody>\n",
              "    <tr>\n",
              "      <th>person 1</th>\n",
              "      <td>39</td>\n",
              "      <td>State-gov</td>\n",
              "    </tr>\n",
              "    <tr>\n",
              "      <th>person 2</th>\n",
              "      <td>50</td>\n",
              "      <td>Self-emp-not-inc</td>\n",
              "    </tr>\n",
              "  </tbody>\n",
              "</table>\n",
              "</div>\n",
              "    <div class=\"colab-df-buttons\">\n",
              "\n",
              "  <div class=\"colab-df-container\">\n",
              "    <button class=\"colab-df-convert\" onclick=\"convertToInteractive('df-7930a318-f3a4-4b63-b7f7-376a111337be')\"\n",
              "            title=\"Convert this dataframe to an interactive table.\"\n",
              "            style=\"display:none;\">\n",
              "\n",
              "  <svg xmlns=\"http://www.w3.org/2000/svg\" height=\"24px\" viewBox=\"0 -960 960 960\">\n",
              "    <path d=\"M120-120v-720h720v720H120Zm60-500h600v-160H180v160Zm220 220h160v-160H400v160Zm0 220h160v-160H400v160ZM180-400h160v-160H180v160Zm440 0h160v-160H620v160ZM180-180h160v-160H180v160Zm440 0h160v-160H620v160Z\"/>\n",
              "  </svg>\n",
              "    </button>\n",
              "\n",
              "  <style>\n",
              "    .colab-df-container {\n",
              "      display:flex;\n",
              "      gap: 12px;\n",
              "    }\n",
              "\n",
              "    .colab-df-convert {\n",
              "      background-color: #E8F0FE;\n",
              "      border: none;\n",
              "      border-radius: 50%;\n",
              "      cursor: pointer;\n",
              "      display: none;\n",
              "      fill: #1967D2;\n",
              "      height: 32px;\n",
              "      padding: 0 0 0 0;\n",
              "      width: 32px;\n",
              "    }\n",
              "\n",
              "    .colab-df-convert:hover {\n",
              "      background-color: #E2EBFA;\n",
              "      box-shadow: 0px 1px 2px rgba(60, 64, 67, 0.3), 0px 1px 3px 1px rgba(60, 64, 67, 0.15);\n",
              "      fill: #174EA6;\n",
              "    }\n",
              "\n",
              "    .colab-df-buttons div {\n",
              "      margin-bottom: 4px;\n",
              "    }\n",
              "\n",
              "    [theme=dark] .colab-df-convert {\n",
              "      background-color: #3B4455;\n",
              "      fill: #D2E3FC;\n",
              "    }\n",
              "\n",
              "    [theme=dark] .colab-df-convert:hover {\n",
              "      background-color: #434B5C;\n",
              "      box-shadow: 0px 1px 3px 1px rgba(0, 0, 0, 0.15);\n",
              "      filter: drop-shadow(0px 1px 2px rgba(0, 0, 0, 0.3));\n",
              "      fill: #FFFFFF;\n",
              "    }\n",
              "  </style>\n",
              "\n",
              "    <script>\n",
              "      const buttonEl =\n",
              "        document.querySelector('#df-7930a318-f3a4-4b63-b7f7-376a111337be button.colab-df-convert');\n",
              "      buttonEl.style.display =\n",
              "        google.colab.kernel.accessAllowed ? 'block' : 'none';\n",
              "\n",
              "      async function convertToInteractive(key) {\n",
              "        const element = document.querySelector('#df-7930a318-f3a4-4b63-b7f7-376a111337be');\n",
              "        const dataTable =\n",
              "          await google.colab.kernel.invokeFunction('convertToInteractive',\n",
              "                                                    [key], {});\n",
              "        if (!dataTable) return;\n",
              "\n",
              "        const docLinkHtml = 'Like what you see? Visit the ' +\n",
              "          '<a target=\"_blank\" href=https://colab.research.google.com/notebooks/data_table.ipynb>data table notebook</a>'\n",
              "          + ' to learn more about interactive tables.';\n",
              "        element.innerHTML = '';\n",
              "        dataTable['output_type'] = 'display_data';\n",
              "        await google.colab.output.renderOutput(dataTable, element);\n",
              "        const docLink = document.createElement('div');\n",
              "        docLink.innerHTML = docLinkHtml;\n",
              "        element.appendChild(docLink);\n",
              "      }\n",
              "    </script>\n",
              "  </div>\n",
              "\n",
              "\n",
              "<div id=\"df-c6670b48-c208-433f-96cb-419afd298345\">\n",
              "  <button class=\"colab-df-quickchart\" onclick=\"quickchart('df-c6670b48-c208-433f-96cb-419afd298345')\"\n",
              "            title=\"Suggest charts\"\n",
              "            style=\"display:none;\">\n",
              "\n",
              "<svg xmlns=\"http://www.w3.org/2000/svg\" height=\"24px\"viewBox=\"0 0 24 24\"\n",
              "     width=\"24px\">\n",
              "    <g>\n",
              "        <path d=\"M19 3H5c-1.1 0-2 .9-2 2v14c0 1.1.9 2 2 2h14c1.1 0 2-.9 2-2V5c0-1.1-.9-2-2-2zM9 17H7v-7h2v7zm4 0h-2V7h2v10zm4 0h-2v-4h2v4z\"/>\n",
              "    </g>\n",
              "</svg>\n",
              "  </button>\n",
              "\n",
              "<style>\n",
              "  .colab-df-quickchart {\n",
              "      --bg-color: #E8F0FE;\n",
              "      --fill-color: #1967D2;\n",
              "      --hover-bg-color: #E2EBFA;\n",
              "      --hover-fill-color: #174EA6;\n",
              "      --disabled-fill-color: #AAA;\n",
              "      --disabled-bg-color: #DDD;\n",
              "  }\n",
              "\n",
              "  [theme=dark] .colab-df-quickchart {\n",
              "      --bg-color: #3B4455;\n",
              "      --fill-color: #D2E3FC;\n",
              "      --hover-bg-color: #434B5C;\n",
              "      --hover-fill-color: #FFFFFF;\n",
              "      --disabled-bg-color: #3B4455;\n",
              "      --disabled-fill-color: #666;\n",
              "  }\n",
              "\n",
              "  .colab-df-quickchart {\n",
              "    background-color: var(--bg-color);\n",
              "    border: none;\n",
              "    border-radius: 50%;\n",
              "    cursor: pointer;\n",
              "    display: none;\n",
              "    fill: var(--fill-color);\n",
              "    height: 32px;\n",
              "    padding: 0;\n",
              "    width: 32px;\n",
              "  }\n",
              "\n",
              "  .colab-df-quickchart:hover {\n",
              "    background-color: var(--hover-bg-color);\n",
              "    box-shadow: 0 1px 2px rgba(60, 64, 67, 0.3), 0 1px 3px 1px rgba(60, 64, 67, 0.15);\n",
              "    fill: var(--button-hover-fill-color);\n",
              "  }\n",
              "\n",
              "  .colab-df-quickchart-complete:disabled,\n",
              "  .colab-df-quickchart-complete:disabled:hover {\n",
              "    background-color: var(--disabled-bg-color);\n",
              "    fill: var(--disabled-fill-color);\n",
              "    box-shadow: none;\n",
              "  }\n",
              "\n",
              "  .colab-df-spinner {\n",
              "    border: 2px solid var(--fill-color);\n",
              "    border-color: transparent;\n",
              "    border-bottom-color: var(--fill-color);\n",
              "    animation:\n",
              "      spin 1s steps(1) infinite;\n",
              "  }\n",
              "\n",
              "  @keyframes spin {\n",
              "    0% {\n",
              "      border-color: transparent;\n",
              "      border-bottom-color: var(--fill-color);\n",
              "      border-left-color: var(--fill-color);\n",
              "    }\n",
              "    20% {\n",
              "      border-color: transparent;\n",
              "      border-left-color: var(--fill-color);\n",
              "      border-top-color: var(--fill-color);\n",
              "    }\n",
              "    30% {\n",
              "      border-color: transparent;\n",
              "      border-left-color: var(--fill-color);\n",
              "      border-top-color: var(--fill-color);\n",
              "      border-right-color: var(--fill-color);\n",
              "    }\n",
              "    40% {\n",
              "      border-color: transparent;\n",
              "      border-right-color: var(--fill-color);\n",
              "      border-top-color: var(--fill-color);\n",
              "    }\n",
              "    60% {\n",
              "      border-color: transparent;\n",
              "      border-right-color: var(--fill-color);\n",
              "    }\n",
              "    80% {\n",
              "      border-color: transparent;\n",
              "      border-right-color: var(--fill-color);\n",
              "      border-bottom-color: var(--fill-color);\n",
              "    }\n",
              "    90% {\n",
              "      border-color: transparent;\n",
              "      border-bottom-color: var(--fill-color);\n",
              "    }\n",
              "  }\n",
              "</style>\n",
              "\n",
              "  <script>\n",
              "    async function quickchart(key) {\n",
              "      const quickchartButtonEl =\n",
              "        document.querySelector('#' + key + ' button');\n",
              "      quickchartButtonEl.disabled = true;  // To prevent multiple clicks.\n",
              "      quickchartButtonEl.classList.add('colab-df-spinner');\n",
              "      try {\n",
              "        const charts = await google.colab.kernel.invokeFunction(\n",
              "            'suggestCharts', [key], {});\n",
              "      } catch (error) {\n",
              "        console.error('Error during call to suggestCharts:', error);\n",
              "      }\n",
              "      quickchartButtonEl.classList.remove('colab-df-spinner');\n",
              "      quickchartButtonEl.classList.add('colab-df-quickchart-complete');\n",
              "    }\n",
              "    (() => {\n",
              "      let quickchartButtonEl =\n",
              "        document.querySelector('#df-c6670b48-c208-433f-96cb-419afd298345 button');\n",
              "      quickchartButtonEl.style.display =\n",
              "        google.colab.kernel.accessAllowed ? 'block' : 'none';\n",
              "    })();\n",
              "  </script>\n",
              "</div>\n",
              "    </div>\n",
              "  </div>\n"
            ]
          },
          "metadata": {},
          "execution_count": 22
        }
      ],
      "source": [
        "df_small = df.loc[['person 1', 'person 2'], ['age', 'workclass']]\n",
        "df_small"
      ]
    },
    {
      "cell_type": "markdown",
      "metadata": {
        "id": "WP6uFN-9Mv7Z"
      },
      "source": [
        "Here, we can say that the age of _person 1_ lies in the interval $[39, 39]$.\n",
        "And the ages of the two people lies in the interval $[39, 50]$.\n",
        "Then, the age range $[39, 50]$ is less precise than $[39, 39]$: $[39, 50] ⊑ [39, 39]$ as it describes the fewer people.\n",
        "\n",
        "Analogously, the workclass of _person 0_ is $\\{$State-gov$\\}$.\n",
        "The workclasses of both people belong to the set $\\{$State-gov, Self-emp-not-inc$\\}$. So $\\{$State-gov, Self-emp-not-inc$\\} ⊑ \\{$State-gov$\\}$."
      ]
    },
    {
      "cell_type": "markdown",
      "metadata": {
        "id": "QQrzAbTOO67E"
      },
      "source": [
        "In `paspailleur` we define many valued context in the following way:"
      ]
    },
    {
      "cell_type": "code",
      "execution_count": 23,
      "metadata": {
        "id": "YNol--xmX67A"
      },
      "outputs": [],
      "source": [
        "from paspailleur import pattern_structures as PS"
      ]
    },
    {
      "cell_type": "code",
      "source": [
        "cartesian_ps = PS.CartesianPS([PS.IntervalPS(), PS.SuperSetPS()])"
      ],
      "metadata": {
        "id": "ppX_jAdSVp6V"
      },
      "execution_count": 29,
      "outputs": []
    },
    {
      "cell_type": "code",
      "source": [
        "data = list(cartesian_ps.preprocess_data(df_small.values))"
      ],
      "metadata": {
        "id": "CtSehUo6VrYG"
      },
      "execution_count": 33,
      "outputs": []
    },
    {
      "cell_type": "code",
      "execution_count": 47,
      "metadata": {
        "colab": {
          "base_uri": "https://localhost:8080/"
        },
        "id": "3FU4CNeNX67B",
        "outputId": "e86ac52e-92bb-4b78-f188-1875d5fc6bd9"
      },
      "outputs": [
        {
          "output_type": "stream",
          "name": "stdout",
          "text": [
            "int ((39.0, 50.0), frozenset({'State-gov', 'Self-emp-not-inc'})) ext [0, 1]\n"
          ]
        }
      ],
      "source": [
        "intent = cartesian_ps.intent(data)\n",
        "extent = list(cartesian_ps.extent(data, intent))\n",
        "print('int', intent, 'ext', extent)"
      ]
    },
    {
      "cell_type": "markdown",
      "metadata": {
        "id": "p7Qw9eORRUzB"
      },
      "source": [
        "In fact, many valued contexts and pattern structures can be considered as a shorter way to describe formal contexts.\n",
        "For example, the many valued context from above can be binarized in the following way:"
      ]
    },
    {
      "cell_type": "code",
      "execution_count": 49,
      "metadata": {
        "colab": {
          "base_uri": "https://localhost:8080/"
        },
        "id": "NXzFPaPxX67C",
        "outputId": "7eebcd72-1b35-4c93-e4be-5fe02740dca3"
      },
      "outputs": [
        {
          "output_type": "stream",
          "name": "stdout",
          "text": [
            "binary attribute names: [(0, (39.0, 50.0)), (0, (50.0, 50.0)), (0, (39.0, 39.0)), (0, (inf, -inf)), (1, frozenset({'State-gov', 'Self-emp-not-inc'})), (1, frozenset({'Self-emp-not-inc'})), (1, frozenset({'State-gov'})), (1, frozenset())]\n",
            "rows: [frozenbitarray('10101010'), frozenbitarray('11001100')]\n"
          ]
        }
      ],
      "source": [
        "bin_col_names, rows = cartesian_ps.binarize(data)\n",
        "print('binary attribute names:', bin_col_names)\n",
        "print('rows:', rows)"
      ]
    },
    {
      "cell_type": "markdown",
      "metadata": {
        "id": "FGCXM98hX67C"
      },
      "source": [
        "Binarized data can be processed with `caspailleur` package functionality."
      ]
    },
    {
      "cell_type": "markdown",
      "metadata": {
        "id": "Ja3E3qmJS5Mr"
      },
      "source": [
        "The number of attributes in the binarized data can be computed by `n_bin_attrs` property:"
      ]
    },
    {
      "cell_type": "code",
      "execution_count": 50,
      "metadata": {
        "colab": {
          "base_uri": "https://localhost:8080/"
        },
        "id": "za98jzl2TD5P",
        "outputId": "10ccf0f4-2710-4da6-cbf9-8a17d780f8ca"
      },
      "outputs": [
        {
          "output_type": "execute_result",
          "data": {
            "text/plain": [
              "8"
            ]
          },
          "metadata": {},
          "execution_count": 50
        }
      ],
      "source": [
        "cartesian_ps.n_bin_attributes(data)"
      ]
    },
    {
      "cell_type": "markdown",
      "metadata": {
        "id": "JaRipWB9TVlF"
      },
      "source": [
        "Finally, let us create a pattern structure for the whole Adum dataset"
      ]
    },
    {
      "cell_type": "code",
      "source": [
        "df.dtypes.values[1] == 'O'"
      ],
      "metadata": {
        "id": "KFtfB1ltXV6y",
        "outputId": "79af261b-bf52-4e70-a283-28e8e69b8875",
        "colab": {
          "base_uri": "https://localhost:8080/"
        }
      },
      "execution_count": 63,
      "outputs": [
        {
          "output_type": "execute_result",
          "data": {
            "text/plain": [
              "True"
            ]
          },
          "metadata": {},
          "execution_count": 63
        }
      ]
    },
    {
      "cell_type": "code",
      "execution_count": 68,
      "metadata": {
        "id": "qQNu1010X67D"
      },
      "outputs": [],
      "source": [
        "def df_to_ps(frame: pd.DataFrame) -> tuple[list, PS.CartesianPS]:\n",
        "    pstructures = [PS.SuperSetPS() if dtype == 'O' else PS.IntervalPS()\n",
        "      for dtype in frame.dtypes.values]\n",
        "    cartesian_ps = PS.CartesianPS(pstructures)\n",
        "    data = list(cartesian_ps.preprocess_data(frame.values))\n",
        "    return data, cartesian_ps"
      ]
    },
    {
      "cell_type": "code",
      "execution_count": 69,
      "metadata": {
        "colab": {
          "base_uri": "https://localhost:8080/"
        },
        "id": "Xm8QxQPTKnvQ",
        "outputId": "29c3e314-3b91-4bbe-f1e1-4af6073ab160"
      },
      "outputs": [
        {
          "output_type": "stream",
          "name": "stdout",
          "text": [
            "# objects 32,561 # bin attributes 4,398,046,654,236\n"
          ]
        }
      ],
      "source": [
        "data, cartesian_ps = df_to_ps(df)\n",
        "print(f\"# objects {len(data):,}\", f'# bin attributes {cartesian_ps.n_bin_attributes(data):,}')"
      ]
    },
    {
      "cell_type": "markdown",
      "metadata": {
        "id": "uW7ZKJU9TghS"
      },
      "source": [
        "However, this many valued context contains 32 thousands objects and an analogue of 4.4 trillion binary attributes. Which is a bit too much to process..."
      ]
    },
    {
      "cell_type": "markdown",
      "metadata": {
        "id": "735fBvhoLASQ"
      },
      "source": [
        "## Simplifying the data"
      ]
    },
    {
      "cell_type": "markdown",
      "metadata": {
        "id": "rDqu-o9lVoTi"
      },
      "source": [
        "In the previous section we presented the dataset as a many valued context. However, we found that such context contains too many descriptions.\n",
        "So let us simplify the dataset."
      ]
    },
    {
      "cell_type": "markdown",
      "metadata": {
        "id": "BFqHkXW0V8HE"
      },
      "source": [
        "First, we should dwell into pattern structures of `mvK` to find out, why there can be so many binary attributes:"
      ]
    },
    {
      "cell_type": "code",
      "execution_count": 70,
      "metadata": {
        "colab": {
          "base_uri": "https://localhost:8080/"
        },
        "id": "fd3Mye35X67D",
        "outputId": "27a35271-080c-4ced-96f4-c990ba822b51"
      },
      "outputs": [
        {
          "output_type": "execute_result",
          "data": {
            "text/plain": [
              "native-country     4398046511104\n",
              "education                  65536\n",
              "fnlwgt                     43296\n",
              "occupation                 32768\n",
              "workclass                    512\n",
              "capital-gain                 238\n",
              "hours-per-week               188\n",
              "capital-loss                 184\n",
              "age                          146\n",
              "marital-status               128\n",
              "relationship                  64\n",
              "education-num                 32\n",
              "race                          32\n",
              "sex                            4\n",
              "income-per-year                4\n",
              "dtype: int64"
            ]
          },
          "metadata": {},
          "execution_count": 70
        }
      ],
      "source": [
        "n_bin_attrs_per_ps = [ps.n_bin_attributes([row[ps_i] for row in data])\n",
        "                      for ps_i, ps in enumerate(cartesian_ps.basic_structures)]\n",
        "n_bin_attrs_per_ps = pd.Series(n_bin_attrs_per_ps, index=df.columns)\n",
        "n_bin_attrs_per_ps.sort_values(ascending=False)"
      ]
    },
    {
      "cell_type": "markdown",
      "metadata": {
        "id": "gzNksX0WWaA0"
      },
      "source": [
        "The huge amount of binary attributes is caused by *native-country* column.\n",
        "The column contains $42$ unique countries, thus resulting in $2^{42}$ possible descriptions.\n",
        "However, each of these countries (except for the United-States) are native for less than $2\\%$ of the population."
      ]
    },
    {
      "cell_type": "code",
      "execution_count": 71,
      "metadata": {
        "colab": {
          "base_uri": "https://localhost:8080/"
        },
        "id": "_fniuAdoWUXN",
        "outputId": "be3e0ba2-9509-41d0-b96a-eccb9b24a192"
      },
      "outputs": [
        {
          "output_type": "stream",
          "name": "stdout",
          "text": [
            "# unique countries 42\n",
            "\n",
            "Percent of natives from the country\n"
          ]
        },
        {
          "output_type": "execute_result",
          "data": {
            "text/plain": [
              "United-States    0.895857\n",
              "Mexico           0.019748\n",
              "?                0.017905\n",
              "Philippines      0.006081\n",
              "Germany          0.004207\n",
              "Name: native-country, dtype: float64"
            ]
          },
          "metadata": {},
          "execution_count": 71
        }
      ],
      "source": [
        "print('# unique countries', df['native-country'].nunique())\n",
        "print()\n",
        "print('Percent of natives from the country')\n",
        "(df['native-country'].value_counts()/len(df)).head()"
      ]
    },
    {
      "cell_type": "markdown",
      "metadata": {
        "id": "vWurX7S1YAgj"
      },
      "source": [
        "The similar situation happens in other categorical columns. So let us group all rare categorical values into 'others' category.\n",
        "\n",
        "We say that the value is rare when it describes less than $10\\%$ of the population."
      ]
    },
    {
      "cell_type": "code",
      "execution_count": 72,
      "metadata": {
        "id": "u1ktJeCHyZkL"
      },
      "outputs": [],
      "source": [
        "MIN_SUPP = 0.1"
      ]
    },
    {
      "cell_type": "code",
      "execution_count": 75,
      "metadata": {
        "id": "EnpQcBpnyEUr"
      },
      "outputs": [],
      "source": [
        "df_groupped = df.copy()\n",
        "for f, ps in zip(df.columns, cartesian_ps.basic_structures):\n",
        "    if not isinstance(ps, PS.SuperSetPS):\n",
        "        continue\n",
        "\n",
        "    values_rate = df[f].value_counts()/len(df)\n",
        "    df_groupped[f] = [x if values_rate[x]>=MIN_SUPP else 'others' for x in df[f]]"
      ]
    },
    {
      "cell_type": "code",
      "execution_count": 76,
      "metadata": {
        "colab": {
          "base_uri": "https://localhost:8080/"
        },
        "id": "G8Zq0VNDyD0w",
        "outputId": "a939cde2-a139-4de7-a002-7dd7ca537ed2"
      },
      "outputs": [
        {
          "output_type": "stream",
          "name": "stdout",
          "text": [
            "# objects 32,561 # bin attributes 44,296\n"
          ]
        }
      ],
      "source": [
        "data, cartesian_ps = df_to_ps(df_groupped)\n",
        "print(f\"# objects {len(data):,}\", f'# bin attributes {cartesian_ps.n_bin_attributes(data):,}')"
      ]
    },
    {
      "cell_type": "markdown",
      "metadata": {
        "id": "NK06fJsbYoq5"
      },
      "source": [
        "We obtained the many valued context equivalent to a formal context with 44 thousands attributes. This is a great decrease, however let us simplify the data a bit further."
      ]
    },
    {
      "cell_type": "code",
      "execution_count": 77,
      "metadata": {
        "colab": {
          "base_uri": "https://localhost:8080/"
        },
        "id": "I1o4bcZ8KnXA",
        "outputId": "59c8b91e-b3aa-4f8f-831f-567d90f1655f"
      },
      "outputs": [
        {
          "output_type": "execute_result",
          "data": {
            "text/plain": [
              "fnlwgt             43296\n",
              "capital-gain         238\n",
              "hours-per-week       188\n",
              "capital-loss         184\n",
              "age                  146\n",
              "occupation           128\n",
              "education-num         32\n",
              "relationship          32\n",
              "education             16\n",
              "marital-status        16\n",
              "workclass              4\n",
              "race                   4\n",
              "sex                    4\n",
              "native-country         4\n",
              "income-per-year        4\n",
              "dtype: int64"
            ]
          },
          "metadata": {},
          "execution_count": 77
        }
      ],
      "source": [
        "n_bin_attrs_per_ps = pd.Series(\n",
        "    [ps.n_bin_attributes([row[ps_i] for row in data])\n",
        "     for ps_i, ps in enumerate(cartesian_ps.basic_structures)],\n",
        "    index=df.columns\n",
        ")\n",
        "n_bin_attrs_per_ps.sort_values(ascending=False)"
      ]
    },
    {
      "cell_type": "markdown",
      "metadata": {
        "id": "I0mVsWlWY3hw"
      },
      "source": [
        "Now, most of the binary attributes come from 'fnlwgt' column, which is numerical and descibes percentage values. So let us round it up to 2 digits after the comma."
      ]
    },
    {
      "cell_type": "code",
      "execution_count": 78,
      "metadata": {
        "id": "otDkYSqRtSwh"
      },
      "outputs": [],
      "source": [
        "df_groupped['fnlwgt'] = df['fnlwgt'].round(2)"
      ]
    },
    {
      "cell_type": "code",
      "execution_count": 79,
      "metadata": {
        "colab": {
          "base_uri": "https://localhost:8080/"
        },
        "id": "F_81a4TNaNl_",
        "outputId": "9c723504-ddaa-4109-ff5f-1155d4301714"
      },
      "outputs": [
        {
          "output_type": "stream",
          "name": "stdout",
          "text": [
            "# objects 32,561 # bin attributes 1,150\n"
          ]
        }
      ],
      "source": [
        "data, cartesian_ps = df_to_ps(df_groupped)\n",
        "print(f\"# objects {len(data):,}\", f'# bin attributes {cartesian_ps.n_bin_attributes(data):,}')"
      ]
    },
    {
      "cell_type": "markdown",
      "metadata": {
        "id": "jw4bNQAWjdlG"
      },
      "source": [
        "Finally, we reached a context with only 1,150 binary attributes. Now, we can start seaching for concepts in this context."
      ]
    },
    {
      "cell_type": "markdown",
      "metadata": {
        "id": "irHujiYLPLUi"
      },
      "source": [
        "# Part 2. Looking for stable concepts"
      ]
    },
    {
      "cell_type": "markdown",
      "metadata": {
        "id": "mnIJhgt4ksGa"
      },
      "source": [
        "A context with thousands of objects and a thousand of attributes surely have enormous number of concepts. Yet, we only need a few of them, that we consider the most ''interesting''."
      ]
    },
    {
      "cell_type": "markdown",
      "metadata": {
        "id": "nOWIRt5Olc7C"
      },
      "source": [
        "The interestingness measure of a concept that we are going to use is Stability index.\n",
        "The intuition behind this index is that some concepts from the dataset are \"stable\" and \"real\" concepts, and some concepts are artifacts of a random noise.\n",
        "A fast estimation of the stability of a concept was proposed in <a name=\"cite_ref-2\"></a>[[1]](#scalable_estimates). The paper states that, given a (sub)lattice of concepts in a context, the stability of a concept is proportional to the cardinality of the set difference between the extent of the concept and the maximal extent of the descendants of this concept in the lattice.\n",
        "\n",
        "\n",
        "In what follows we will use Sofia algorithm<a name=\"cite_ref-1\"></a>[[2]](#cite_note-1) to mine stable concepts from the context in polynomial time. The main parameter of the algorithm is $L_{max}$ that represents the maximal amount of concepts we want to find.\n",
        "The low values of $L_{max}$ make the algorithm work really fast. However, they make concept stability estimation very loose.\n",
        "So we set $L_{max}$ equal to $1000$ to leverage the speed of the computations and their quality.\n",
        "\n",
        "\n",
        "<a name=\"scalable_estimates\"></a>[[1]](#cite_ref-2) Buzmakov, A., Kuznetsov, S. O., & Napoli, A. (2014). Scalable estimates of concept stability. In Formal Concept Analysis: 12th International Conference, ICFCA 2014, Cluj-Napoca, Romania, June 10-13, 2014. Proceedings 12 (pp. 157-172). Springer International Publishing.\n",
        "\n",
        "<a name=\"cite_note-1\"></a>[[2]](#cite_ref-1) presented in Buzmakov, A., Kuznetsov, S., & Napoli, A. (2015, July). Sofia: how to make FCA polynomial?. In Proceedings of the 4th International Conference on What can FCA do for Artificial Intelligence?-Volume 1430 (pp. 27-34)."
      ]
    },
    {
      "cell_type": "code",
      "execution_count": 80,
      "metadata": {
        "colab": {
          "base_uri": "https://localhost:8080/"
        },
        "id": "uVpLPvLQX67G",
        "outputId": "df413d9a-bec5-4c6a-d83b-1020e558dbb4"
      },
      "outputs": [
        {
          "output_type": "stream",
          "name": "stdout",
          "text": [
            "# objects 32,561 # bin attributes 1,150\n"
          ]
        }
      ],
      "source": [
        "data, cartesian_ps = df_to_ps(df_groupped)\n",
        "print(f\"# objects {len(data):,}\", f'# bin attributes {cartesian_ps.n_bin_attributes(data):,}')"
      ]
    },
    {
      "cell_type": "code",
      "execution_count": 83,
      "metadata": {
        "colab": {
          "base_uri": "https://localhost:8080/",
          "height": 100,
          "referenced_widgets": [
            "8834c28521d9496fa2f18675f6290f43",
            "6001feaa00524ab39a0f5fea1f8e3320",
            "bff169fdcd7a4c84b527a1a838d628f5",
            "ed4c9945aed84dadb91b20b659a6c7cf",
            "fcc6e6433dee4f90873c7342180ec66d",
            "7ac417ee56204574b70c1e0b5a3b52ca",
            "b4a6990fd68a47b2aab420f340e28290",
            "2a94a49565964f4f8d6c48aca2f85169",
            "25559747c4ba44febf3aefb726616ec8",
            "3eea3deec5094d7d8285d7b4b22d9e38",
            "a2911f2fb68d4ee6a7908778904bad0f"
          ]
        },
        "id": "lmPmH_P8X67G",
        "outputId": "d5140eaf-6319-4aca-8075-b3c71991bce9"
      },
      "outputs": [
        {
          "output_type": "display_data",
          "data": {
            "text/plain": [
              "  0%|          | 0/1150 [00:00<?, ?it/s]"
            ],
            "application/vnd.jupyter.widget-view+json": {
              "version_major": 2,
              "version_minor": 0,
              "model_id": "8834c28521d9496fa2f18675f6290f43"
            }
          },
          "metadata": {}
        },
        {
          "output_type": "stream",
          "name": "stdout",
          "text": [
            "999\n",
            "CPU times: user 3min 21s, sys: 1 s, total: 3min 22s\n",
            "Wall time: 3min 26s\n"
          ]
        }
      ],
      "source": [
        "%%time\n",
        "\n",
        "import caspailleur as csp\n",
        "extents_stab = csp.mine_equivalence_classes.list_stable_extents_via_sofia(\n",
        "    (extent for name, extent in cartesian_ps.iter_bin_attributes(data)),\n",
        "    n_stable_extents=1000, min_supp=MIN_SUPP,\n",
        "    use_tqdm=True, n_attributes=cartesian_ps.n_bin_attributes(data)\n",
        ")\n",
        "print(len(extents_stab))"
      ]
    },
    {
      "cell_type": "markdown",
      "metadata": {
        "id": "W-165a7TX67G"
      },
      "source": [
        "# Part 3. Visualizing the most stable intents"
      ]
    },
    {
      "cell_type": "markdown",
      "metadata": {
        "id": "pBMd3X_XX67G"
      },
      "source": [
        "Select the top best extents and compute order on them"
      ]
    },
    {
      "cell_type": "code",
      "execution_count": 84,
      "metadata": {
        "id": "7fQsuqYwX67G"
      },
      "outputs": [],
      "source": [
        "extents_stab = csp.order.topological_sorting(extents_stab)[0]\n",
        "delta_stability = list(csp.indices.delta_stability_index(extents_stab))"
      ]
    },
    {
      "cell_type": "code",
      "execution_count": 85,
      "metadata": {
        "colab": {
          "base_uri": "https://localhost:8080/"
        },
        "id": "VvyaKvffX67G",
        "outputId": "2ba97f60-b7d2-4b0a-8352-3026c5560981"
      },
      "outputs": [
        {
          "output_type": "execute_result",
          "data": {
            "text/plain": [
              "array([3178, 3328, 3453, 3608, 3633])"
            ]
          },
          "metadata": {},
          "execution_count": 85
        }
      ],
      "source": [
        "import numpy as np\n",
        "n_best = 5\n",
        "\n",
        "stable_extents_idxs = np.argsort(delta_stability)[-n_best:]\n",
        "np.array(delta_stability)[stable_extents_idxs]"
      ]
    },
    {
      "cell_type": "code",
      "execution_count": 86,
      "metadata": {
        "id": "AoiK6ghIX67H"
      },
      "outputs": [],
      "source": [
        "top_extent, bottom_extent = csp.base_functions.isets2bas([range(len(data)), []], len(data))\n",
        "\n",
        "lattice_extents = {extents_stab[i] for i in stable_extents_idxs}|{top_extent, bottom_extent}\n",
        "lattice_extents = sorted(lattice_extents, key=lambda extent: extent.count(), reverse=True)"
      ]
    },
    {
      "cell_type": "code",
      "execution_count": 87,
      "metadata": {
        "id": "BgUiq8L9X67H"
      },
      "outputs": [],
      "source": [
        "parents_ordering = csp.sort_intents_inclusion(lattice_extents[::-1])\n",
        "parents_ordering = [parents[::-1] for parents in parents_ordering[::-1]]\n",
        "\n",
        "children_ordering = csp.inverse_order(parents_ordering)"
      ]
    },
    {
      "cell_type": "code",
      "execution_count": 88,
      "metadata": {
        "id": "Dx9zy963X67H"
      },
      "outputs": [],
      "source": [
        "for extent_i, children in enumerate(children_ordering):\n",
        "    for child_i in children.itersearch(True):\n",
        "        extent, child = lattice_extents[extent_i], lattice_extents[child_i]\n",
        "        assert extent & child == child, f\"{extent_i}, {child_i}\""
      ]
    },
    {
      "cell_type": "markdown",
      "metadata": {
        "id": "11sXmmgpyWWs"
      },
      "source": [
        "Visualize the lattice of intents as a `networkx` graph"
      ]
    },
    {
      "cell_type": "code",
      "source": [
        "lattice_intents = [cartesian_ps.intent(data, extent_ba.itersearch(True)) for extent_ba in lattice_extents]"
      ],
      "metadata": {
        "id": "7S3wAVwDahIq"
      },
      "execution_count": 111,
      "outputs": []
    },
    {
      "cell_type": "code",
      "source": [
        "import networkx as nx\n",
        "\n",
        "def construct_graph(extents, intents, children_ordering):\n",
        "  nodes = range(len(extents))\n",
        "  edges = [(parent, child)\n",
        "    for parent, children in enumerate(children_ordering)\n",
        "    for child in children.itersearch(True)\n",
        "  ]\n",
        "\n",
        "  node_levels = []\n",
        "  for parents_ba in parents_ordering:\n",
        "      if not parents_ba.any():\n",
        "          node_level = 0\n",
        "      else:\n",
        "          node_level = max(node_levels[parent] for parent in parents_ba.itersearch(True))+1\n",
        "      node_levels.append(node_level)\n",
        "\n",
        "  graph = nx.DiGraph()\n",
        "  graph.add_nodes_from(nodes)\n",
        "  graph.add_edges_from(edges)\n",
        "\n",
        "  for node, level in enumerate(node_levels):\n",
        "      graph.nodes[node]['level'] = level\n",
        "\n",
        "  pos = nx.drawing.layout.multipartite_layout(graph, subset_key='level')\n",
        "  pos = {k: (y, -x) for k, (x, y) in pos.items()}\n",
        "  for i in range(1, 6):\n",
        "      pos[i] = (pos[i][0], pos[i][1] + (0.1 if i % 2 else -0.1) )\n",
        "  return graph, pos"
      ],
      "metadata": {
        "id": "mmNcYM1racdI"
      },
      "execution_count": 120,
      "outputs": []
    },
    {
      "cell_type": "code",
      "source": [
        "def node_label_func(intent_idx, parents_ids, intents, column_names):\n",
        "  intent = intents[intent_idx]\n",
        "  if intent is None:\n",
        "        return ''\n",
        "\n",
        "  label = dict(enumerate(intent))\n",
        "  for parent_i in parents_ids:\n",
        "      parent = intents[parent_i]\n",
        "      label = {ps_i: val for ps_i, val in label.items() if parent[ps_i] != val}\n",
        "  label = '\\n'.join([f\"{column_names[ps_i]}: {', '.join([str(v) for v in val])}\"\n",
        "    for ps_i, val in label.items()])\n",
        "\n",
        "  return label"
      ],
      "metadata": {
        "id": "yteuvG2obLja"
      },
      "execution_count": 131,
      "outputs": []
    },
    {
      "cell_type": "code",
      "source": [
        "graph, pos = construct_graph(lattice_extents, lattice_intents, children_ordering)"
      ],
      "metadata": {
        "id": "-rn7fB2AcXG8"
      },
      "execution_count": 132,
      "outputs": []
    },
    {
      "cell_type": "code",
      "execution_count": 133,
      "metadata": {
        "id": "f5tFJW1IX67H"
      },
      "outputs": [],
      "source": [
        "node_labels = [\n",
        "  node_label_func(i, parents.itersearch(True), lattice_intents, list(df.columns))\n",
        "  for i, parents in enumerate(parents_ordering)\n",
        "]\n",
        "node_labels = [label + f\"\\n\\nsupp: {extent.count()}\"\n",
        "  for label, extent in zip(node_labels, lattice_extents)]"
      ]
    },
    {
      "cell_type": "code",
      "execution_count": 128,
      "metadata": {
        "id": "tFaYD4rkX67I"
      },
      "outputs": [],
      "source": [
        "node_sizes = [extent.count()/len(data)*20_000 for extent in lattice_extents]"
      ]
    },
    {
      "cell_type": "code",
      "execution_count": 134,
      "metadata": {
        "colab": {
          "base_uri": "https://localhost:8080/",
          "height": 368
        },
        "id": "bQ3r_yKAX67I",
        "outputId": "0d1eda88-e835-4f77-b802-5b7fa565f93a"
      },
      "outputs": [
        {
          "output_type": "display_data",
          "data": {
            "text/plain": [
              "<Figure size 1500x800 with 1 Axes>"
            ],
            "image/png": "[encoded data removed]"
          },
          "metadata": {}
        }
      ],
      "source": [
        "import matplotlib.pyplot as plt\n",
        "fig, ax = plt.subplots(figsize=(15, 8))\n",
        "\n",
        "nx.draw_networkx_edges(graph, pos=pos, ax=ax, edge_color='lightgray', arrowstyle='-')\n",
        "nx.draw_networkx_nodes(graph, pos=pos, ax=ax, alpha=1, node_size=node_sizes, node_color='lightblue')\n",
        "nx.draw_networkx_labels(graph, pos=pos, ax=ax, labels=dict(enumerate(node_labels)), font_size=5)\n",
        "\n",
        "ax.set_ylim(-0.6, 0.8)\n",
        "ax.set_xlim(-1.5, 1.5)\n",
        "plt.box(False)\n",
        "\n",
        "plt.savefig('adult_lattice.pdf')\n",
        "plt.show()"
      ]
    },
    {
      "cell_type": "code",
      "source": [
        "df['race'].value_counts()/len(df)"
      ],
      "metadata": {
        "colab": {
          "base_uri": "https://localhost:8080/"
        },
        "id": "p2wIrrYPepJN",
        "outputId": "307fb3e9-91b4-491a-d6a6-ac6a2ac9f597"
      },
      "execution_count": 96,
      "outputs": [
        {
          "output_type": "execute_result",
          "data": {
            "text/plain": [
              "White                 0.854274\n",
              "Black                 0.095943\n",
              "Asian-Pac-Islander    0.031909\n",
              "Amer-Indian-Eskimo    0.009551\n",
              "Other                 0.008323\n",
              "Name: race, dtype: float64"
            ]
          },
          "metadata": {},
          "execution_count": 96
        }
      ]
    }
  ],
  "metadata": {
    "colab": {
      "provenance": [],
      "include_colab_link": true
    },
    "kernelspec": {
      "display_name": "Python 3 (ipykernel)",
      "language": "python",
      "name": "python3"
    },
    "language_info": {
      "codemirror_mode": {
        "name": "ipython",
        "version": 3
      },
      "file_extension": ".py",
      "mimetype": "text/x-python",
      "name": "python",
      "nbconvert_exporter": "python",
      "pygments_lexer": "ipython3",
      "version": "3.11.3"
    },
    "widgets": {
      "application/vnd.jupyter.widget-state+json": {
        "8834c28521d9496fa2f18675f6290f43": {
          "model_module": "@jupyter-widgets/controls",
          "model_name": "HBoxModel",
          "model_module_version": "1.5.0",
          "state": {
            "_dom_classes": [],
            "_model_module": "@jupyter-widgets/controls",
            "_model_module_version": "1.5.0",
            "_model_name": "HBoxModel",
            "_view_count": null,
            "_view_module": "@jupyter-widgets/controls",
            "_view_module_version": "1.5.0",
            "_view_name": "HBoxView",
            "box_style": "",
            "children": [
              "IPY_MODEL_6001feaa00524ab39a0f5fea1f8e3320",
              "IPY_MODEL_bff169fdcd7a4c84b527a1a838d628f5",
              "IPY_MODEL_ed4c9945aed84dadb91b20b659a6c7cf"
            ],
            "layout": "IPY_MODEL_fcc6e6433dee4f90873c7342180ec66d"
          }
        },
        "6001feaa00524ab39a0f5fea1f8e3320": {
          "model_module": "@jupyter-widgets/controls",
          "model_name": "HTMLModel",
          "model_module_version": "1.5.0",
          "state": {
            "_dom_classes": [],
            "_model_module": "@jupyter-widgets/controls",
            "_model_module_version": "1.5.0",
            "_model_name": "HTMLModel",
            "_view_count": null,
            "_view_module": "@jupyter-widgets/controls",
            "_view_module_version": "1.5.0",
            "_view_name": "HTMLView",
            "description": "",
            "description_tooltip": null,
            "layout": "IPY_MODEL_7ac417ee56204574b70c1e0b5a3b52ca",
            "placeholder": "​",
            "style": "IPY_MODEL_b4a6990fd68a47b2aab420f340e28290",
            "value": "100%"
          }
        },
        "bff169fdcd7a4c84b527a1a838d628f5": {
          "model_module": "@jupyter-widgets/controls",
          "model_name": "FloatProgressModel",
          "model_module_version": "1.5.0",
          "state": {
            "_dom_classes": [],
            "_model_module": "@jupyter-widgets/controls",
            "_model_module_version": "1.5.0",
            "_model_name": "FloatProgressModel",
            "_view_count": null,
            "_view_module": "@jupyter-widgets/controls",
            "_view_module_version": "1.5.0",
            "_view_name": "ProgressView",
            "bar_style": "success",
            "description": "",
            "description_tooltip": null,
            "layout": "IPY_MODEL_2a94a49565964f4f8d6c48aca2f85169",
            "max": 1150,
            "min": 0,
            "orientation": "horizontal",
            "style": "IPY_MODEL_25559747c4ba44febf3aefb726616ec8",
            "value": 1150
          }
        },
        "ed4c9945aed84dadb91b20b659a6c7cf": {
          "model_module": "@jupyter-widgets/controls",
          "model_name": "HTMLModel",
          "model_module_version": "1.5.0",
          "state": {
            "_dom_classes": [],
            "_model_module": "@jupyter-widgets/controls",
            "_model_module_version": "1.5.0",
            "_model_name": "HTMLModel",
            "_view_count": null,
            "_view_module": "@jupyter-widgets/controls",
            "_view_module_version": "1.5.0",
            "_view_name": "HTMLView",
            "description": "",
            "description_tooltip": null,
            "layout": "IPY_MODEL_3eea3deec5094d7d8285d7b4b22d9e38",
            "placeholder": "​",
            "style": "IPY_MODEL_a2911f2fb68d4ee6a7908778904bad0f",
            "value": " 1150/1150 [03:26&lt;00:00, 21.67it/s]"
          }
        },
        "fcc6e6433dee4f90873c7342180ec66d": {
          "model_module": "@jupyter-widgets/base",
          "model_name": "LayoutModel",
          "model_module_version": "1.2.0",
          "state": {
            "_model_module": "@jupyter-widgets/base",
            "_model_module_version": "1.2.0",
            "_model_name": "LayoutModel",
            "_view_count": null,
            "_view_module": "@jupyter-widgets/base",
            "_view_module_version": "1.2.0",
            "_view_name": "LayoutView",
            "align_content": null,
            "align_items": null,
            "align_self": null,
            "border": null,
            "bottom": null,
            "display": null,
            "flex": null,
            "flex_flow": null,
            "grid_area": null,
            "grid_auto_columns": null,
            "grid_auto_flow": null,
            "grid_auto_rows": null,
            "grid_column": null,
            "grid_gap": null,
            "grid_row": null,
            "grid_template_areas": null,
            "grid_template_columns": null,
            "grid_template_rows": null,
            "height": null,
            "justify_content": null,
            "justify_items": null,
            "left": null,
            "margin": null,
            "max_height": null,
            "max_width": null,
            "min_height": null,
            "min_width": null,
            "object_fit": null,
            "object_position": null,
            "order": null,
            "overflow": null,
            "overflow_x": null,
            "overflow_y": null,
            "padding": null,
            "right": null,
            "top": null,
            "visibility": null,
            "width": null
          }
        },
        "7ac417ee56204574b70c1e0b5a3b52ca": {
          "model_module": "@jupyter-widgets/base",
          "model_name": "LayoutModel",
          "model_module_version": "1.2.0",
          "state": {
            "_model_module": "@jupyter-widgets/base",
            "_model_module_version": "1.2.0",
            "_model_name": "LayoutModel",
            "_view_count": null,
            "_view_module": "@jupyter-widgets/base",
            "_view_module_version": "1.2.0",
            "_view_name": "LayoutView",
            "align_content": null,
            "align_items": null,
            "align_self": null,
            "border": null,
            "bottom": null,
            "display": null,
            "flex": null,
            "flex_flow": null,
            "grid_area": null,
            "grid_auto_columns": null,
            "grid_auto_flow": null,
            "grid_auto_rows": null,
            "grid_column": null,
            "grid_gap": null,
            "grid_row": null,
            "grid_template_areas": null,
            "grid_template_columns": null,
            "grid_template_rows": null,
            "height": null,
            "justify_content": null,
            "justify_items": null,
            "left": null,
            "margin": null,
            "max_height": null,
            "max_width": null,
            "min_height": null,
            "min_width": null,
            "object_fit": null,
            "object_position": null,
            "order": null,
            "overflow": null,
            "overflow_x": null,
            "overflow_y": null,
            "padding": null,
            "right": null,
            "top": null,
            "visibility": null,
            "width": null
          }
        },
        "b4a6990fd68a47b2aab420f340e28290": {
          "model_module": "@jupyter-widgets/controls",
          "model_name": "DescriptionStyleModel",
          "model_module_version": "1.5.0",
          "state": {
            "_model_module": "@jupyter-widgets/controls",
            "_model_module_version": "1.5.0",
            "_model_name": "DescriptionStyleModel",
            "_view_count": null,
            "_view_module": "@jupyter-widgets/base",
            "_view_module_version": "1.2.0",
            "_view_name": "StyleView",
            "description_width": ""
          }
        },
        "2a94a49565964f4f8d6c48aca2f85169": {
          "model_module": "@jupyter-widgets/base",
          "model_name": "LayoutModel",
          "model_module_version": "1.2.0",
          "state": {
            "_model_module": "@jupyter-widgets/base",
            "_model_module_version": "1.2.0",
            "_model_name": "LayoutModel",
            "_view_count": null,
            "_view_module": "@jupyter-widgets/base",
            "_view_module_version": "1.2.0",
            "_view_name": "LayoutView",
            "align_content": null,
            "align_items": null,
            "align_self": null,
            "border": null,
            "bottom": null,
            "display": null,
            "flex": null,
            "flex_flow": null,
            "grid_area": null,
            "grid_auto_columns": null,
            "grid_auto_flow": null,
            "grid_auto_rows": null,
            "grid_column": null,
            "grid_gap": null,
            "grid_row": null,
            "grid_template_areas": null,
            "grid_template_columns": null,
            "grid_template_rows": null,
            "height": null,
            "justify_content": null,
            "justify_items": null,
            "left": null,
            "margin": null,
            "max_height": null,
            "max_width": null,
            "min_height": null,
            "min_width": null,
            "object_fit": null,
            "object_position": null,
            "order": null,
            "overflow": null,
            "overflow_x": null,
            "overflow_y": null,
            "padding": null,
            "right": null,
            "top": null,
            "visibility": null,
            "width": null
          }
        },
        "25559747c4ba44febf3aefb726616ec8": {
          "model_module": "@jupyter-widgets/controls",
          "model_name": "ProgressStyleModel",
          "model_module_version": "1.5.0",
          "state": {
            "_model_module": "@jupyter-widgets/controls",
            "_model_module_version": "1.5.0",
            "_model_name": "ProgressStyleModel",
            "_view_count": null,
            "_view_module": "@jupyter-widgets/base",
            "_view_module_version": "1.2.0",
            "_view_name": "StyleView",
            "bar_color": null,
            "description_width": ""
          }
        },
        "3eea3deec5094d7d8285d7b4b22d9e38": {
          "model_module": "@jupyter-widgets/base",
          "model_name": "LayoutModel",
          "model_module_version": "1.2.0",
          "state": {
            "_model_module": "@jupyter-widgets/base",
            "_model_module_version": "1.2.0",
            "_model_name": "LayoutModel",
            "_view_count": null,
            "_view_module": "@jupyter-widgets/base",
            "_view_module_version": "1.2.0",
            "_view_name": "LayoutView",
            "align_content": null,
            "align_items": null,
            "align_self": null,
            "border": null,
            "bottom": null,
            "display": null,
            "flex": null,
            "flex_flow": null,
            "grid_area": null,
            "grid_auto_columns": null,
            "grid_auto_flow": null,
            "grid_auto_rows": null,
            "grid_column": null,
            "grid_gap": null,
            "grid_row": null,
            "grid_template_areas": null,
            "grid_template_columns": null,
            "grid_template_rows": null,
            "height": null,
            "justify_content": null,
            "justify_items": null,
            "left": null,
            "margin": null,
            "max_height": null,
            "max_width": null,
            "min_height": null,
            "min_width": null,
            "object_fit": null,
            "object_position": null,
            "order": null,
            "overflow": null,
            "overflow_x": null,
            "overflow_y": null,
            "padding": null,
            "right": null,
            "top": null,
            "visibility": null,
            "width": null
          }
        },
        "a2911f2fb68d4ee6a7908778904bad0f": {
          "model_module": "@jupyter-widgets/controls",
          "model_name": "DescriptionStyleModel",
          "model_module_version": "1.5.0",
          "state": {
            "_model_module": "@jupyter-widgets/controls",
            "_model_module_version": "1.5.0",
            "_model_name": "DescriptionStyleModel",
            "_view_count": null,
            "_view_module": "@jupyter-widgets/base",
            "_view_module_version": "1.2.0",
            "_view_name": "StyleView",
            "description_width": ""
          }
        }
      }
    }
  },
  "nbformat": 4,
  "nbformat_minor": 0
}