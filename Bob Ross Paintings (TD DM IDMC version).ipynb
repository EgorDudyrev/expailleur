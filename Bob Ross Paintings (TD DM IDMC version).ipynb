{
  "nbformat": 4,
  "nbformat_minor": 0,
  "metadata": {
    "colab": {
      "provenance": [],
      "collapsed_sections": [
        "OxAUWpdMfnQO",
        "KlkiSVzWqVPn",
        "qv8B6OxdKgh8",
        "2_81sDPUKkb3",
        "cz-t34m-5jB1",
        "_rzClAH2fsTh",
        "wdSSMnKUyoeM",
        "vXAf_jbhfzqN"
      ],
      "include_colab_link": true
    },
    "kernelspec": {
      "name": "python3",
      "display_name": "Python 3"
    },
    "language_info": {
      "name": "python"
    }
  },
  "cells": [
    {
      "cell_type": "markdown",
      "metadata": {
        "id": "view-in-github",
        "colab_type": "text"
      },
      "source": [
        "<a href=\"https://colab.research.google.com/github/EgorDudyrev/expailleur/blob/main/Bob%20Ross%20Paintings%20(TD%20DM%20IDMC%20version).ipynb\" target=\"_parent\"><img src=\"https://colab.research.google.com/assets/colab-badge.svg\" alt=\"Open In Colab\"/></a>"
      ]
    },
    {
      "cell_type": "markdown",
      "source": [
        "# Some usefull functions"
      ],
      "metadata": {
        "id": "FGrx_YpYcWdI"
      }
    },
    {
      "cell_type": "code",
      "source": [
        "!pip install caspailleur --quiet  # The main subject of study in the current TD\n",
        "!pip install fcapy --quiet  # Is required to visualize the concept lattices"
      ],
      "metadata": {
        "id": "B3XKrsTnnJTM"
      },
      "execution_count": 1,
      "outputs": []
    },
    {
      "cell_type": "markdown",
      "source": [
        "# Travaux Dirigé: Study Bob Ross paintings with Caspailleur (or vice versa)\n",
        "\n",
        "![Bob Ross hardcover book photo](https://m.media-amazon.com/images/I/A1BxQEoVjjL._AC_UF1000,1000_QL80_.jpg)\n",
        "*Bob Ross: The Joy of Painting Hardcover – Illustrated, October 10, 2017 @ Available at [Amazon](https://www.amazon.com/Bob-Ross-Joy-Painting/dp/0789332973)*\n",
        "\n",
        "**Tutorial description**\n",
        "\n",
        "The tutorial consists of two parts.\n",
        "\n",
        "In *Part 1* we discuss some techniques to analyse the data: when they are usefull, when they are not, and when Formal Concept Analysis (FCA) can be of help.\n",
        "\n",
        "In *Part 2* we concentrate on the cornerstone notions of FCA and how to compute them with `caspailleur`."
      ],
      "metadata": {
        "id": "L-1zNl3YkxQ5"
      }
    },
    {
      "cell_type": "markdown",
      "source": [
        "## Load the data"
      ],
      "metadata": {
        "id": "2QF6A5Q7m701"
      }
    },
    {
      "cell_type": "markdown",
      "source": [
        "Load the dataset, described in \"A Statistical Analysis of the Work of Bob Ross\" by Walt Hickey at [FiveThirtyEight](https://fivethirtyeight.com/features/a-statistical-analysis-of-the-work-of-bob-ross/)"
      ],
      "metadata": {
        "id": "5ePLv5Xxl23f"
      }
    },
    {
      "cell_type": "code",
      "source": [
        "import pandas as pd\n",
        "\n",
        "url = 'https://pkgstore.datahub.io/five-thirty-eight/bob-ross/elements-by-episode_csv/data/c01dcab932c6e70122e9f924caece31b/elements-by-episode_csv.csv'\n",
        "df = pd.read_csv(url)\n",
        "df = df.drop(columns='title').set_index('episode')\n",
        "assert (df.values.astype(bool)==df.values).all(),  \"The data is not binary\"\n",
        "\n",
        "print(df.shape)\n",
        "df.head()"
      ],
      "metadata": {
        "colab": {
          "base_uri": "https://localhost:8080/",
          "height": 276
        },
        "id": "tf-oV3oMlvR1",
        "outputId": "4b4c0b10-16c0-44f4-881f-00ea7f9060b3"
      },
      "execution_count": 2,
      "outputs": [
        {
          "output_type": "stream",
          "name": "stdout",
          "text": [
            "(403, 67)\n"
          ]
        },
        {
          "output_type": "execute_result",
          "data": {
            "text/plain": [
              "         apple_frame  aurora_borealis  barn  beach  boat  bridge  building  \\\n",
              "episode                                                                      \n",
              "s01e01             0                0     0      0     0       0         0   \n",
              "s01e02             0                0     0      0     0       0         0   \n",
              "s01e03             0                0     0      0     0       0         0   \n",
              "s01e04             0                0     0      0     0       0         0   \n",
              "s01e05             0                0     0      0     0       0         0   \n",
              "\n",
              "         bushes  cabin  cactus  ...  tomb_frame  tree  trees  triple_frame  \\\n",
              "episode                         ...                                          \n",
              "s01e01        1      0       0  ...           0     1      1             0   \n",
              "s01e02        0      1       0  ...           0     1      1             0   \n",
              "s01e03        0      1       0  ...           0     1      1             0   \n",
              "s01e04        1      0       0  ...           0     1      1             0   \n",
              "s01e05        0      0       0  ...           0     1      1             0   \n",
              "\n",
              "         waterfall  waves  windmill  window_frame  winter  wood_framed  \n",
              "episode                                                                 \n",
              "s01e01           0      0         0             0       0            0  \n",
              "s01e02           0      0         0             0       1            0  \n",
              "s01e03           0      0         0             0       1            0  \n",
              "s01e04           0      0         0             0       0            0  \n",
              "s01e05           0      0         0             0       0            0  \n",
              "\n",
              "[5 rows x 67 columns]"
            ],
            "text/html": [
              "\n",
              "  <div id=\"df-70b3a266-594f-4e3f-8277-8dab985e7873\" class=\"colab-df-container\">\n",
              "    <div>\n",
              "<style scoped>\n",
              "    .dataframe tbody tr th:only-of-type {\n",
              "        vertical-align: middle;\n",
              "    }\n",
              "\n",
              "    .dataframe tbody tr th {\n",
              "        vertical-align: top;\n",
              "    }\n",
              "\n",
              "    .dataframe thead th {\n",
              "        text-align: right;\n",
              "    }\n",
              "</style>\n",
              "<table border=\"1\" class=\"dataframe\">\n",
              "  <thead>\n",
              "    <tr style=\"text-align: right;\">\n",
              "      <th></th>\n",
              "      <th>apple_frame</th>\n",
              "      <th>aurora_borealis</th>\n",
              "      <th>barn</th>\n",
              "      <th>beach</th>\n",
              "      <th>boat</th>\n",
              "      <th>bridge</th>\n",
              "      <th>building</th>\n",
              "      <th>bushes</th>\n",
              "      <th>cabin</th>\n",
              "      <th>cactus</th>\n",
              "      <th>...</th>\n",
              "      <th>tomb_frame</th>\n",
              "      <th>tree</th>\n",
              "      <th>trees</th>\n",
              "      <th>triple_frame</th>\n",
              "      <th>waterfall</th>\n",
              "      <th>waves</th>\n",
              "      <th>windmill</th>\n",
              "      <th>window_frame</th>\n",
              "      <th>winter</th>\n",
              "      <th>wood_framed</th>\n",
              "    </tr>\n",
              "    <tr>\n",
              "      <th>episode</th>\n",
              "      <th></th>\n",
              "      <th></th>\n",
              "      <th></th>\n",
              "      <th></th>\n",
              "      <th></th>\n",
              "      <th></th>\n",
              "      <th></th>\n",
              "      <th></th>\n",
              "      <th></th>\n",
              "      <th></th>\n",
              "      <th></th>\n",
              "      <th></th>\n",
              "      <th></th>\n",
              "      <th></th>\n",
              "      <th></th>\n",
              "      <th></th>\n",
              "      <th></th>\n",
              "      <th></th>\n",
              "      <th></th>\n",
              "      <th></th>\n",
              "      <th></th>\n",
              "    </tr>\n",
              "  </thead>\n",
              "  <tbody>\n",
              "    <tr>\n",
              "      <th>s01e01</th>\n",
              "      <td>0</td>\n",
              "      <td>0</td>\n",
              "      <td>0</td>\n",
              "      <td>0</td>\n",
              "      <td>0</td>\n",
              "      <td>0</td>\n",
              "      <td>0</td>\n",
              "      <td>1</td>\n",
              "      <td>0</td>\n",
              "      <td>0</td>\n",
              "      <td>...</td>\n",
              "      <td>0</td>\n",
              "      <td>1</td>\n",
              "      <td>1</td>\n",
              "      <td>0</td>\n",
              "      <td>0</td>\n",
              "      <td>0</td>\n",
              "      <td>0</td>\n",
              "      <td>0</td>\n",
              "      <td>0</td>\n",
              "      <td>0</td>\n",
              "    </tr>\n",
              "    <tr>\n",
              "      <th>s01e02</th>\n",
              "      <td>0</td>\n",
              "      <td>0</td>\n",
              "      <td>0</td>\n",
              "      <td>0</td>\n",
              "      <td>0</td>\n",
              "      <td>0</td>\n",
              "      <td>0</td>\n",
              "      <td>0</td>\n",
              "      <td>1</td>\n",
              "      <td>0</td>\n",
              "      <td>...</td>\n",
              "      <td>0</td>\n",
              "      <td>1</td>\n",
              "      <td>1</td>\n",
              "      <td>0</td>\n",
              "      <td>0</td>\n",
              "      <td>0</td>\n",
              "      <td>0</td>\n",
              "      <td>0</td>\n",
              "      <td>1</td>\n",
              "      <td>0</td>\n",
              "    </tr>\n",
              "    <tr>\n",
              "      <th>s01e03</th>\n",
              "      <td>0</td>\n",
              "      <td>0</td>\n",
              "      <td>0</td>\n",
              "      <td>0</td>\n",
              "      <td>0</td>\n",
              "      <td>0</td>\n",
              "      <td>0</td>\n",
              "      <td>0</td>\n",
              "      <td>1</td>\n",
              "      <td>0</td>\n",
              "      <td>...</td>\n",
              "      <td>0</td>\n",
              "      <td>1</td>\n",
              "      <td>1</td>\n",
              "      <td>0</td>\n",
              "      <td>0</td>\n",
              "      <td>0</td>\n",
              "      <td>0</td>\n",
              "      <td>0</td>\n",
              "      <td>1</td>\n",
              "      <td>0</td>\n",
              "    </tr>\n",
              "    <tr>\n",
              "      <th>s01e04</th>\n",
              "      <td>0</td>\n",
              "      <td>0</td>\n",
              "      <td>0</td>\n",
              "      <td>0</td>\n",
              "      <td>0</td>\n",
              "      <td>0</td>\n",
              "      <td>0</td>\n",
              "      <td>1</td>\n",
              "      <td>0</td>\n",
              "      <td>0</td>\n",
              "      <td>...</td>\n",
              "      <td>0</td>\n",
              "      <td>1</td>\n",
              "      <td>1</td>\n",
              "      <td>0</td>\n",
              "      <td>0</td>\n",
              "      <td>0</td>\n",
              "      <td>0</td>\n",
              "      <td>0</td>\n",
              "      <td>0</td>\n",
              "      <td>0</td>\n",
              "    </tr>\n",
              "    <tr>\n",
              "      <th>s01e05</th>\n",
              "      <td>0</td>\n",
              "      <td>0</td>\n",
              "      <td>0</td>\n",
              "      <td>0</td>\n",
              "      <td>0</td>\n",
              "      <td>0</td>\n",
              "      <td>0</td>\n",
              "      <td>0</td>\n",
              "      <td>0</td>\n",
              "      <td>0</td>\n",
              "      <td>...</td>\n",
              "      <td>0</td>\n",
              "      <td>1</td>\n",
              "      <td>1</td>\n",
              "      <td>0</td>\n",
              "      <td>0</td>\n",
              "      <td>0</td>\n",
              "      <td>0</td>\n",
              "      <td>0</td>\n",
              "      <td>0</td>\n",
              "      <td>0</td>\n",
              "    </tr>\n",
              "  </tbody>\n",
              "</table>\n",
              "<p>5 rows × 67 columns</p>\n",
              "</div>\n",
              "    <div class=\"colab-df-buttons\">\n",
              "\n",
              "  <div class=\"colab-df-container\">\n",
              "    <button class=\"colab-df-convert\" onclick=\"convertToInteractive('df-70b3a266-594f-4e3f-8277-8dab985e7873')\"\n",
              "            title=\"Convert this dataframe to an interactive table.\"\n",
              "            style=\"display:none;\">\n",
              "\n",
              "  <svg xmlns=\"http://www.w3.org/2000/svg\" height=\"24px\" viewBox=\"0 -960 960 960\">\n",
              "    <path d=\"M120-120v-720h720v720H120Zm60-500h600v-160H180v160Zm220 220h160v-160H400v160Zm0 220h160v-160H400v160ZM180-400h160v-160H180v160Zm440 0h160v-160H620v160ZM180-180h160v-160H180v160Zm440 0h160v-160H620v160Z\"/>\n",
              "  </svg>\n",
              "    </button>\n",
              "\n",
              "  <style>\n",
              "    .colab-df-container {\n",
              "      display:flex;\n",
              "      gap: 12px;\n",
              "    }\n",
              "\n",
              "    .colab-df-convert {\n",
              "      background-color: #E8F0FE;\n",
              "      border: none;\n",
              "      border-radius: 50%;\n",
              "      cursor: pointer;\n",
              "      display: none;\n",
              "      fill: #1967D2;\n",
              "      height: 32px;\n",
              "      padding: 0 0 0 0;\n",
              "      width: 32px;\n",
              "    }\n",
              "\n",
              "    .colab-df-convert:hover {\n",
              "      background-color: #E2EBFA;\n",
              "      box-shadow: 0px 1px 2px rgba(60, 64, 67, 0.3), 0px 1px 3px 1px rgba(60, 64, 67, 0.15);\n",
              "      fill: #174EA6;\n",
              "    }\n",
              "\n",
              "    .colab-df-buttons div {\n",
              "      margin-bottom: 4px;\n",
              "    }\n",
              "\n",
              "    [theme=dark] .colab-df-convert {\n",
              "      background-color: #3B4455;\n",
              "      fill: #D2E3FC;\n",
              "    }\n",
              "\n",
              "    [theme=dark] .colab-df-convert:hover {\n",
              "      background-color: #434B5C;\n",
              "      box-shadow: 0px 1px 3px 1px rgba(0, 0, 0, 0.15);\n",
              "      filter: drop-shadow(0px 1px 2px rgba(0, 0, 0, 0.3));\n",
              "      fill: #FFFFFF;\n",
              "    }\n",
              "  </style>\n",
              "\n",
              "    <script>\n",
              "      const buttonEl =\n",
              "        document.querySelector('#df-70b3a266-594f-4e3f-8277-8dab985e7873 button.colab-df-convert');\n",
              "      buttonEl.style.display =\n",
              "        google.colab.kernel.accessAllowed ? 'block' : 'none';\n",
              "\n",
              "      async function convertToInteractive(key) {\n",
              "        const element = document.querySelector('#df-70b3a266-594f-4e3f-8277-8dab985e7873');\n",
              "        const dataTable =\n",
              "          await google.colab.kernel.invokeFunction('convertToInteractive',\n",
              "                                                    [key], {});\n",
              "        if (!dataTable) return;\n",
              "\n",
              "        const docLinkHtml = 'Like what you see? Visit the ' +\n",
              "          '<a target=\"_blank\" href=https://colab.research.google.com/notebooks/data_table.ipynb>data table notebook</a>'\n",
              "          + ' to learn more about interactive tables.';\n",
              "        element.innerHTML = '';\n",
              "        dataTable['output_type'] = 'display_data';\n",
              "        await google.colab.output.renderOutput(dataTable, element);\n",
              "        const docLink = document.createElement('div');\n",
              "        docLink.innerHTML = docLinkHtml;\n",
              "        element.appendChild(docLink);\n",
              "      }\n",
              "    </script>\n",
              "  </div>\n",
              "\n",
              "\n",
              "<div id=\"df-d33af99c-eac4-485d-a8af-dafff2923a64\">\n",
              "  <button class=\"colab-df-quickchart\" onclick=\"quickchart('df-d33af99c-eac4-485d-a8af-dafff2923a64')\"\n",
              "            title=\"Suggest charts.\"\n",
              "            style=\"display:none;\">\n",
              "\n",
              "<svg xmlns=\"http://www.w3.org/2000/svg\" height=\"24px\"viewBox=\"0 0 24 24\"\n",
              "     width=\"24px\">\n",
              "    <g>\n",
              "        <path d=\"M19 3H5c-1.1 0-2 .9-2 2v14c0 1.1.9 2 2 2h14c1.1 0 2-.9 2-2V5c0-1.1-.9-2-2-2zM9 17H7v-7h2v7zm4 0h-2V7h2v10zm4 0h-2v-4h2v4z\"/>\n",
              "    </g>\n",
              "</svg>\n",
              "  </button>\n",
              "\n",
              "<style>\n",
              "  .colab-df-quickchart {\n",
              "      --bg-color: #E8F0FE;\n",
              "      --fill-color: #1967D2;\n",
              "      --hover-bg-color: #E2EBFA;\n",
              "      --hover-fill-color: #174EA6;\n",
              "      --disabled-fill-color: #AAA;\n",
              "      --disabled-bg-color: #DDD;\n",
              "  }\n",
              "\n",
              "  [theme=dark] .colab-df-quickchart {\n",
              "      --bg-color: #3B4455;\n",
              "      --fill-color: #D2E3FC;\n",
              "      --hover-bg-color: #434B5C;\n",
              "      --hover-fill-color: #FFFFFF;\n",
              "      --disabled-bg-color: #3B4455;\n",
              "      --disabled-fill-color: #666;\n",
              "  }\n",
              "\n",
              "  .colab-df-quickchart {\n",
              "    background-color: var(--bg-color);\n",
              "    border: none;\n",
              "    border-radius: 50%;\n",
              "    cursor: pointer;\n",
              "    display: none;\n",
              "    fill: var(--fill-color);\n",
              "    height: 32px;\n",
              "    padding: 0;\n",
              "    width: 32px;\n",
              "  }\n",
              "\n",
              "  .colab-df-quickchart:hover {\n",
              "    background-color: var(--hover-bg-color);\n",
              "    box-shadow: 0 1px 2px rgba(60, 64, 67, 0.3), 0 1px 3px 1px rgba(60, 64, 67, 0.15);\n",
              "    fill: var(--button-hover-fill-color);\n",
              "  }\n",
              "\n",
              "  .colab-df-quickchart-complete:disabled,\n",
              "  .colab-df-quickchart-complete:disabled:hover {\n",
              "    background-color: var(--disabled-bg-color);\n",
              "    fill: var(--disabled-fill-color);\n",
              "    box-shadow: none;\n",
              "  }\n",
              "\n",
              "  .colab-df-spinner {\n",
              "    border: 2px solid var(--fill-color);\n",
              "    border-color: transparent;\n",
              "    border-bottom-color: var(--fill-color);\n",
              "    animation:\n",
              "      spin 1s steps(1) infinite;\n",
              "  }\n",
              "\n",
              "  @keyframes spin {\n",
              "    0% {\n",
              "      border-color: transparent;\n",
              "      border-bottom-color: var(--fill-color);\n",
              "      border-left-color: var(--fill-color);\n",
              "    }\n",
              "    20% {\n",
              "      border-color: transparent;\n",
              "      border-left-color: var(--fill-color);\n",
              "      border-top-color: var(--fill-color);\n",
              "    }\n",
              "    30% {\n",
              "      border-color: transparent;\n",
              "      border-left-color: var(--fill-color);\n",
              "      border-top-color: var(--fill-color);\n",
              "      border-right-color: var(--fill-color);\n",
              "    }\n",
              "    40% {\n",
              "      border-color: transparent;\n",
              "      border-right-color: var(--fill-color);\n",
              "      border-top-color: var(--fill-color);\n",
              "    }\n",
              "    60% {\n",
              "      border-color: transparent;\n",
              "      border-right-color: var(--fill-color);\n",
              "    }\n",
              "    80% {\n",
              "      border-color: transparent;\n",
              "      border-right-color: var(--fill-color);\n",
              "      border-bottom-color: var(--fill-color);\n",
              "    }\n",
              "    90% {\n",
              "      border-color: transparent;\n",
              "      border-bottom-color: var(--fill-color);\n",
              "    }\n",
              "  }\n",
              "</style>\n",
              "\n",
              "  <script>\n",
              "    async function quickchart(key) {\n",
              "      const quickchartButtonEl =\n",
              "        document.querySelector('#' + key + ' button');\n",
              "      quickchartButtonEl.disabled = true;  // To prevent multiple clicks.\n",
              "      quickchartButtonEl.classList.add('colab-df-spinner');\n",
              "      try {\n",
              "        const charts = await google.colab.kernel.invokeFunction(\n",
              "            'suggestCharts', [key], {});\n",
              "      } catch (error) {\n",
              "        console.error('Error during call to suggestCharts:', error);\n",
              "      }\n",
              "      quickchartButtonEl.classList.remove('colab-df-spinner');\n",
              "      quickchartButtonEl.classList.add('colab-df-quickchart-complete');\n",
              "    }\n",
              "    (() => {\n",
              "      let quickchartButtonEl =\n",
              "        document.querySelector('#df-d33af99c-eac4-485d-a8af-dafff2923a64 button');\n",
              "      quickchartButtonEl.style.display =\n",
              "        google.colab.kernel.accessAllowed ? 'block' : 'none';\n",
              "    })();\n",
              "  </script>\n",
              "</div>\n",
              "    </div>\n",
              "  </div>\n"
            ]
          },
          "metadata": {},
          "execution_count": 2
        }
      ]
    },
    {
      "cell_type": "markdown",
      "source": [
        "# Part 1. Common ways to Analyze the data"
      ],
      "metadata": {
        "id": "5K63h6xDnAJ4"
      }
    },
    {
      "cell_type": "markdown",
      "source": [
        "## Bar plot"
      ],
      "metadata": {
        "id": "xeXSaErtoXJL"
      }
    },
    {
      "cell_type": "code",
      "source": [
        "import seaborn as sns\n",
        "import matplotlib.pyplot as plt"
      ],
      "metadata": {
        "id": "0NjUZY1o9ZhD"
      },
      "execution_count": 3,
      "outputs": []
    },
    {
      "cell_type": "code",
      "source": [
        "s = df.sum(0).sort_values(ascending=False).head()\n",
        "sns.barplot(y=s.index, x=s.values)\n",
        "plt.xlabel('# paintings')\n",
        "plt.title('The most frequent attributes')\n",
        "plt.show()"
      ],
      "metadata": {
        "colab": {
          "base_uri": "https://localhost:8080/",
          "height": 471
        },
        "id": "vywu5hZH9XFD",
        "outputId": "c2eed39e-1eeb-47e3-eb58-cded9c469b25"
      },
      "execution_count": 4,
      "outputs": [
        {
          "output_type": "display_data",
          "data": {
            "text/plain": [
              "<Figure size 640x480 with 1 Axes>"
            ],
            "image/png": "[encoded data removed]"
          },
          "metadata": {}
        }
      ]
    },
    {
      "cell_type": "markdown",
      "source": [
        "**Pros**\n",
        "* Easy to draw\n",
        "* Easy to read.\n",
        "\n",
        "**Cons**\n",
        "* Can only show a few \"intersting\" attributes. A plot with, say, 20 attributes becomes hard to read;\n",
        "* Does not highlight the dependencies between features:\n",
        "  * e.g. that the number of paintings with \"trees\" is included in the number of paintings with \"tree\"."
      ],
      "metadata": {
        "id": "4FMOvV2WnQQG"
      }
    },
    {
      "cell_type": "markdown",
      "source": [
        "## Histogram"
      ],
      "metadata": {
        "id": "3lPGasS-oa70"
      }
    },
    {
      "cell_type": "code",
      "source": [
        "s = df.sum(1)\n",
        "sns.displot(s)\n",
        "plt.xlabel('# attributes per painting')\n",
        "plt.ylabel('# paintings')\n",
        "plt.title('Distribution of the amount of attributes per painting')\n",
        "plt.show()"
      ],
      "metadata": {
        "colab": {
          "base_uri": "https://localhost:8080/",
          "height": 547
        },
        "id": "IsRZeXhBp4F4",
        "outputId": "2e84a3fc-9fe1-415f-f249-815519c18fd3"
      },
      "execution_count": 5,
      "outputs": [
        {
          "output_type": "display_data",
          "data": {
            "text/plain": [
              "<Figure size 500x500 with 1 Axes>"
            ],
            "image/png": "[encoded data removed]"
          },
          "metadata": {}
        }
      ]
    },
    {
      "cell_type": "markdown",
      "source": [
        "**Pros**\n",
        "* Easy to draw.\n",
        "* Easy to read, if the axes are well explained\n",
        "\n",
        "**Cons**\n",
        "* Only shows the distribution among one axis.\n",
        "* The attributes should be carefully constructed."
      ],
      "metadata": {
        "id": "JsTKKuowsHjV"
      }
    },
    {
      "cell_type": "markdown",
      "source": [
        "## PCA"
      ],
      "metadata": {
        "id": "BLhIC2o7s6FP"
      }
    },
    {
      "cell_type": "code",
      "source": [
        "from sklearn.decomposition import PCA"
      ],
      "metadata": {
        "id": "P9iiAz6G-BYy"
      },
      "execution_count": 6,
      "outputs": []
    },
    {
      "cell_type": "code",
      "source": [
        "pca = PCA(n_components=2)\n",
        "X_transformed = pca.fit_transform(df.values)"
      ],
      "metadata": {
        "id": "PcmIsPid-FeX"
      },
      "execution_count": 7,
      "outputs": []
    },
    {
      "cell_type": "code",
      "source": [
        "plt.figure(figsize=(15,5))\n",
        "\n",
        "plt.scatter(X_transformed[:,0], X_transformed[:,1])\n",
        "\n",
        "s = pd.Series(pca.components_[0], index=df.columns)\n",
        "s_top = s[s.abs().sort_values(ascending=False).index].head(10)\n",
        "label = 'X: ' + ''.join([[\" - \", \" + \"][weight > 0] + f\"{abs(weight):.2f}{m}\" for m, weight in s_top.items()]).strip(' + ') + f\" + <{len(s)-len(s_top)} others>\"\n",
        "plt.xlabel(label, loc='right')\n",
        "\n",
        "s = pd.Series(pca.components_[1], index=df.columns)\n",
        "s_top = s[s.abs().sort_values(ascending=False).index].head(10)\n",
        "label = 'Y: ' + ''.join([[\" - \", \" + \"][weight > 0] + f\"{abs(weight):.2f}{m}\" for m, weight in s_top.items()]).strip(' + ') + f\" + <{len(s)-len(s_top)} others>\"\n",
        "plt.ylabel(label, rotation=0, ha='left', y=1.02)\n",
        "\n",
        "plt.title('2d representation of Bob Ross paintings dataset', y=1.1, size=16)\n",
        "\n",
        "plt.tight_layout()\n",
        "plt.show()"
      ],
      "metadata": {
        "colab": {
          "base_uri": "https://localhost:8080/",
          "height": 503
        },
        "id": "u6rY9yt4-RKQ",
        "outputId": "26194ccd-a7a7-40c6-9c46-90b901d4f082"
      },
      "execution_count": 8,
      "outputs": [
        {
          "output_type": "display_data",
          "data": {
            "text/plain": [
              "<Figure size 1500x500 with 1 Axes>"
            ],
            "image/png": "[encoded data removed]"
          },
          "metadata": {}
        }
      ]
    },
    {
      "cell_type": "markdown",
      "source": [
        "**Pros**\n",
        "* Shows all the data with just one plot.\n",
        "* One can easily see two clusters (small top-left and big bottom-right).\n",
        "* The axes are more or less interpretable.\n",
        "\n",
        "**Cons**\n",
        "* Every axis summarizes _all_ attributes in the data. So it is hard to identify the attributes underlying each specific point."
      ],
      "metadata": {
        "id": "7NKzeg7GxYpw"
      }
    },
    {
      "cell_type": "markdown",
      "source": [
        "## Concept Lattice"
      ],
      "metadata": {
        "id": "GoLw-nfZzX5F"
      }
    },
    {
      "cell_type": "code",
      "source": [
        "def verbose(barray: 'frozenbitarray', names=df.columns):\n",
        "  \"Take bitarray and return a comma-separated names of representing indices of 1s\"\n",
        "  return ','.join(names[list(barray.itersearch(True))])"
      ],
      "metadata": {
        "id": "unD9gFkcXq4h"
      },
      "execution_count": 9,
      "outputs": []
    },
    {
      "cell_type": "code",
      "source": [
        "import numpy as np\n",
        "import caspailleur as csp\n",
        "\n",
        "# Step 0. Preprocess the data\n",
        "itemsets_ba = csp.np2bas(df.values)\n",
        "crosses_per_columns = list(csp.base_functions.bas2isets(csp.np2bas(df.values.T)))\n",
        "\n",
        "# Step 1. Compute all extents in intents\n",
        "intents_ba = csp.list_intents_via_LCM(itemsets_ba, min_supp = 1)\n",
        "extent_intent_map = {\n",
        "    csp.base_functions.extension(intent.itersearch(True), crosses_per_columns): intent\n",
        "    for intent in intents_ba\n",
        "}\n",
        "extents = sorted(extent_intent_map, key=lambda ext: len(ext))\n",
        "extents_ba = list(csp.base_functions.isets2bas(extents, len(itemsets_ba)))\n",
        "\n",
        "# Step 2. Find the best concepts (e.g. with the biggest stability)\n",
        "n_best = 20\n",
        "\n",
        "stabilities = list(csp.indices.delta_stability_index(extents_ba))\n",
        "best_indices = list(np.argsort(stabilities)[-n_best:])\n",
        "best_indices = sorted(best_indices, key=lambda i: extent_intent_map[extents[i]].count())\n",
        "best_extents = [extents[i] for i in best_indices]\n",
        "best_intents = [extent_intent_map[extents[i]] for i in best_indices]\n",
        "best_intents_plus_bottom = best_intents + intents_ba[-1:]\n",
        "\n",
        "# Step 3. Compute reduced intents that would make nice node titles\n",
        "children_ordering_with_bottom = csp.sort_intents_inclusion(best_intents_plus_bottom)\n",
        "children_ordering = [children[:-1] for children in children_ordering_with_bottom[:-1]]\n",
        "parents_ordering = csp.inverse_order(children_ordering)\n",
        "\n",
        "reduced_intents = []\n",
        "for intent, parents in zip(best_intents, parents_ordering):\n",
        "  reduced_intent = intent\n",
        "  for parent_i in parents.itersearch(True):\n",
        "    reduced_intent = reduced_intent & ~best_intents[parent_i]\n",
        "  reduced_intents.append(reduced_intent)\n",
        "\n",
        "reduced_intents_verb = [verbose(intent) for intent in reduced_intents]"
      ],
      "metadata": {
        "id": "45zqhX7hzmPN"
      },
      "execution_count": 10,
      "outputs": []
    },
    {
      "cell_type": "code",
      "source": [
        "from fcapy.poset import POSet\n",
        "from fcapy.visualizer import LineVizNx\n",
        "poset = POSet(best_extents)\n",
        "\n",
        "fig, ax = plt.subplots(figsize=(20,7))\n",
        "\n",
        "viz = LineVizNx()\n",
        "viz.draw_poset(\n",
        "    poset, ax=ax,\n",
        "    node_label_func = lambda el_i, P: f\"{reduced_intents_verb[el_i]}\\n\\n{len(best_extents[el_i])} paintings\",\n",
        ")\n",
        "plt.title(f\"{n_best} most stable concepts in Bob Ross data\", size=16)\n",
        "\n",
        "plt.show()"
      ],
      "metadata": {
        "colab": {
          "base_uri": "https://localhost:8080/",
          "height": 600
        },
        "id": "S8bKxI-96Vtv",
        "outputId": "689244c7-cec3-4245-e161-0a3146e4837f"
      },
      "execution_count": 11,
      "outputs": [
        {
          "output_type": "display_data",
          "data": {
            "text/plain": [
              "<Figure size 2000x700 with 1 Axes>"
            ],
            "image/png": "[encoded data removed]"
          },
          "metadata": {}
        }
      ]
    },
    {
      "cell_type": "markdown",
      "source": [
        "**Pros**\n",
        "* Shows all the data with just one plot.\n",
        "* Every node is described with just a few attributes.\n",
        "* Dependencies between attributes are visible. E.g.:\n",
        "  * \"Tree\" and \"trees\" are put together, as they often appear together\n",
        "  * Paintings with \"river\" are subset of paintings with \"tree, trees\"\n",
        "  * Paintings with \"snowy_mountain\" are subset of paintings with \"mountain\", that are subset of paintings with \"conifer\", that are subset of paintings with \"tree, trees\"\n",
        "  * There is a stable group of 77 paintings that has a lake and decidious trees.\n",
        "\n",
        "**Cons**\n",
        "* _Lots_ of boilerplate code.\n",
        "* It takes time to find the optimal positions of nodes for the best-looking visualization.\n",
        "* Becomes hard to read, when the number of nodes is big.\n",
        "\n",
        "_But learning all intrinsic FCA details is a goal of the course, so lots of intrinsic boilerplate code is, in a sence, a good thing_"
      ],
      "metadata": {
        "id": "7AGcs83q--16"
      }
    },
    {
      "cell_type": "markdown",
      "source": [
        "## Implications"
      ],
      "metadata": {
        "id": "mmCusV3OzbW6"
      }
    },
    {
      "cell_type": "code",
      "source": [
        "itemsets_ba = csp.np2bas(df.values)\n",
        "intents_ba = csp.list_intents_via_LCM(itemsets_ba, min_supp=0.05)\n",
        "keys_dict = csp.list_keys(intents_ba)\n",
        "\n",
        "# If no objects are described by all attributes,\n",
        "# then drop the keys of bottom intent from computations\n",
        "if not any(itemset_ba.all() for itemset_ba in itemsets_ba):\n",
        "  keys_dict = {key: i for key, i in keys_dict.items() if not intents_ba[i].all()}\n",
        "\n",
        "pseudo_intents = csp.list_pseudo_intents_via_keys(keys_dict.items(), intents_ba, use_tqdm=True, n_keys=len(keys_dict))\n",
        "print(len(pseudo_intents))"
      ],
      "metadata": {
        "colab": {
          "base_uri": "https://localhost:8080/"
        },
        "id": "XffqNVTHuNLx",
        "outputId": "506e3e7c-aec5-4b34-83c7-081bed9fe9f7"
      },
      "execution_count": 12,
      "outputs": [
        {
          "output_type": "stream",
          "name": "stderr",
          "text": [
            "Iterate p.intent candidates: 100%|██████████| 540/540 [00:00<00:00, 15748.33it/s]"
          ]
        },
        {
          "output_type": "stream",
          "name": "stdout",
          "text": [
            "47\n"
          ]
        },
        {
          "output_type": "stream",
          "name": "stderr",
          "text": [
            "\n"
          ]
        }
      ]
    },
    {
      "cell_type": "code",
      "source": [
        "for i, (pintent, intent_i) in enumerate(pseudo_intents):\n",
        "  pintent_verb = verbose(pintent)\n",
        "  conclusion = intents_ba[intent_i] & ~pintent\n",
        "  conclusion_verb = verbose(conclusion)\n",
        "  print(f\"{i}: {pintent_verb} => {conclusion_verb}\")"
      ],
      "metadata": {
        "colab": {
          "base_uri": "https://localhost:8080/"
        },
        "id": "jFxJESUuuIEw",
        "outputId": "53f54a70-5791-4567-c976-4993206beb6f"
      },
      "execution_count": 13,
      "outputs": [
        {
          "output_type": "stream",
          "name": "stdout",
          "text": [
            "0: winter => tree\n",
            "1: waves => ocean\n",
            "2: waterfall => tree\n",
            "3: trees => tree\n",
            "4: snowy_mountain => mountain\n",
            "5: snow => tree\n",
            "6: river => tree\n",
            "7: oval_frame => framed\n",
            "8: fog => tree\n",
            "9: deciduous => tree\n",
            "10: conifer => tree\n",
            "11: cabin => tree\n",
            "12: bushes => tree\n",
            "13: beach => ocean\n",
            "14: path,structure => tree\n",
            "15: mountain,structure => cabin,tree,trees\n",
            "16: lake,structure => tree\n",
            "17: lake,mountains => tree\n",
            "18: grass,structure => tree\n",
            "19: grass,mountains => mountain,tree\n",
            "20: cumulus,mountains => clouds,mountain,tree\n",
            "21: clouds,mountains => mountain\n",
            "22: mountain,mountains,snowy_mountain => tree\n",
            "23: mountains,river,tree => mountain\n",
            "24: deciduous,tree,winter => snow\n",
            "25: deciduous,mountains,tree => mountain\n",
            "26: cumulus,river,tree => clouds,trees\n",
            "27: conifer,framed,tree => trees\n",
            "28: conifer,deciduous,tree => trees\n",
            "29: cabin,mountain,tree => trees\n",
            "30: bushes,conifer,tree => trees\n",
            "31: conifer,mountain,tree,winter => trees\n",
            "32: conifer,mountain,snow,tree => trees\n",
            "33: clouds,grass,river,tree => trees\n",
            "34: clouds,deciduous,grass,tree => trees\n",
            "35: clouds,conifer,structure,tree => cabin\n",
            "36: clouds,conifer,river,tree => trees\n",
            "37: cabin,conifer,lake,tree => trees\n",
            "38: bushes,grass,mountain,tree => trees\n",
            "39: bushes,clouds,lake,tree => trees\n",
            "40: conifer,mountain,mountains,snowy_mountain,tree => trees\n",
            "41: conifer,mountain,mountains,river,tree => trees\n",
            "42: conifer,cumulus,mountain,snowy_mountain,tree => trees\n",
            "43: clouds,conifer,mountain,snowy_mountain,tree => trees\n",
            "44: bushes,clouds,mountain,mountains,tree => trees\n",
            "45: clouds,mountain,mountains,snowy_mountain,tree,trees => conifer\n",
            "46: bushes,mountain,mountains,snowy_mountain,tree,trees => conifer\n"
          ]
        }
      ]
    },
    {
      "cell_type": "markdown",
      "source": [
        "**Pros**\n",
        "* Represents all the data with one \"visualization\"\n",
        "* Preudo-intent basis shows the minimal amount of implications between subsets of attributes\n",
        "* Shown implications (or the absence of expected implications) give better understanding of the dataset. E.g.:\n",
        "  * \"0: winter => tree\" says that every \"winter\" painting has a \"tree\" (and not \"trees\"). So there are winter paintings with just one tree. For example s0701: https://www.youtube.com/watch?v=kdlHV6ceI_g&list=PLAEQD0ULngi5oKehJMOnVTetKSjfmFrT1\n",
        "  * \"3: trees => tree\" says that every painting with many \"trees\" has at least one \"tree\". Which is obvious. But there is no implication \"mountains => mountain\". Which is weird. Is it a bug in the data? You decide (by watching the episode s29e02 https://www.youtube.com/watch?v=2XnIdinwot0&list=PLAEQD0ULngi6c0D5_ELtW5p_NLShDktAN&index=2  )\n",
        "\n",
        "**Cons**\n",
        "* Not really a visualization\n",
        "* Needs some time to compute\n",
        "* Works nicely on highly discretised data: like binary or categorical data. Real-valued data might have too many implications due to many possible values.\n",
        "* Need some boilerplate code to be computed\n",
        "\n",
        "\n",
        "_If computation of pseudo-intents take too much time, try to increase the minimal support of intents (`min_supp` parameter). Or compute proper premises instead: their basis is not minimal, but much faster to compute_"
      ],
      "metadata": {
        "id": "RTKBOvoofBei"
      }
    },
    {
      "cell_type": "code",
      "source": [
        "print('Winter paintings with only one tree')\n",
        "df[(df['winter']&df['tree']&(1-df['trees']))==1][['winter', 'tree', 'trees']]"
      ],
      "metadata": {
        "colab": {
          "base_uri": "https://localhost:8080/",
          "height": 248
        },
        "id": "JxkN5ls-gu6p",
        "outputId": "ea2748fa-e639-4211-d2c6-5015d3a57604"
      },
      "execution_count": 14,
      "outputs": [
        {
          "output_type": "stream",
          "name": "stdout",
          "text": [
            "Winter paintings with only one tree\n"
          ]
        },
        {
          "output_type": "execute_result",
          "data": {
            "text/plain": [
              "         winter  tree  trees\n",
              "episode                     \n",
              "s07e01        1     1      0\n",
              "s08e12        1     1      0\n",
              "s22e05        1     1      0\n",
              "s23e13        1     1      0\n",
              "s25e13        1     1      0"
            ],
            "text/html": [
              "\n",
              "  <div id=\"df-545dc8ec-f6fc-4d0d-b649-7fff661a6e4f\" class=\"colab-df-container\">\n",
              "    <div>\n",
              "<style scoped>\n",
              "    .dataframe tbody tr th:only-of-type {\n",
              "        vertical-align: middle;\n",
              "    }\n",
              "\n",
              "    .dataframe tbody tr th {\n",
              "        vertical-align: top;\n",
              "    }\n",
              "\n",
              "    .dataframe thead th {\n",
              "        text-align: right;\n",
              "    }\n",
              "</style>\n",
              "<table border=\"1\" class=\"dataframe\">\n",
              "  <thead>\n",
              "    <tr style=\"text-align: right;\">\n",
              "      <th></th>\n",
              "      <th>winter</th>\n",
              "      <th>tree</th>\n",
              "      <th>trees</th>\n",
              "    </tr>\n",
              "    <tr>\n",
              "      <th>episode</th>\n",
              "      <th></th>\n",
              "      <th></th>\n",
              "      <th></th>\n",
              "    </tr>\n",
              "  </thead>\n",
              "  <tbody>\n",
              "    <tr>\n",
              "      <th>s07e01</th>\n",
              "      <td>1</td>\n",
              "      <td>1</td>\n",
              "      <td>0</td>\n",
              "    </tr>\n",
              "    <tr>\n",
              "      <th>s08e12</th>\n",
              "      <td>1</td>\n",
              "      <td>1</td>\n",
              "      <td>0</td>\n",
              "    </tr>\n",
              "    <tr>\n",
              "      <th>s22e05</th>\n",
              "      <td>1</td>\n",
              "      <td>1</td>\n",
              "      <td>0</td>\n",
              "    </tr>\n",
              "    <tr>\n",
              "      <th>s23e13</th>\n",
              "      <td>1</td>\n",
              "      <td>1</td>\n",
              "      <td>0</td>\n",
              "    </tr>\n",
              "    <tr>\n",
              "      <th>s25e13</th>\n",
              "      <td>1</td>\n",
              "      <td>1</td>\n",
              "      <td>0</td>\n",
              "    </tr>\n",
              "  </tbody>\n",
              "</table>\n",
              "</div>\n",
              "    <div class=\"colab-df-buttons\">\n",
              "\n",
              "  <div class=\"colab-df-container\">\n",
              "    <button class=\"colab-df-convert\" onclick=\"convertToInteractive('df-545dc8ec-f6fc-4d0d-b649-7fff661a6e4f')\"\n",
              "            title=\"Convert this dataframe to an interactive table.\"\n",
              "            style=\"display:none;\">\n",
              "\n",
              "  <svg xmlns=\"http://www.w3.org/2000/svg\" height=\"24px\" viewBox=\"0 -960 960 960\">\n",
              "    <path d=\"M120-120v-720h720v720H120Zm60-500h600v-160H180v160Zm220 220h160v-160H400v160Zm0 220h160v-160H400v160ZM180-400h160v-160H180v160Zm440 0h160v-160H620v160ZM180-180h160v-160H180v160Zm440 0h160v-160H620v160Z\"/>\n",
              "  </svg>\n",
              "    </button>\n",
              "\n",
              "  <style>\n",
              "    .colab-df-container {\n",
              "      display:flex;\n",
              "      gap: 12px;\n",
              "    }\n",
              "\n",
              "    .colab-df-convert {\n",
              "      background-color: #E8F0FE;\n",
              "      border: none;\n",
              "      border-radius: 50%;\n",
              "      cursor: pointer;\n",
              "      display: none;\n",
              "      fill: #1967D2;\n",
              "      height: 32px;\n",
              "      padding: 0 0 0 0;\n",
              "      width: 32px;\n",
              "    }\n",
              "\n",
              "    .colab-df-convert:hover {\n",
              "      background-color: #E2EBFA;\n",
              "      box-shadow: 0px 1px 2px rgba(60, 64, 67, 0.3), 0px 1px 3px 1px rgba(60, 64, 67, 0.15);\n",
              "      fill: #174EA6;\n",
              "    }\n",
              "\n",
              "    .colab-df-buttons div {\n",
              "      margin-bottom: 4px;\n",
              "    }\n",
              "\n",
              "    [theme=dark] .colab-df-convert {\n",
              "      background-color: #3B4455;\n",
              "      fill: #D2E3FC;\n",
              "    }\n",
              "\n",
              "    [theme=dark] .colab-df-convert:hover {\n",
              "      background-color: #434B5C;\n",
              "      box-shadow: 0px 1px 3px 1px rgba(0, 0, 0, 0.15);\n",
              "      filter: drop-shadow(0px 1px 2px rgba(0, 0, 0, 0.3));\n",
              "      fill: #FFFFFF;\n",
              "    }\n",
              "  </style>\n",
              "\n",
              "    <script>\n",
              "      const buttonEl =\n",
              "        document.querySelector('#df-545dc8ec-f6fc-4d0d-b649-7fff661a6e4f button.colab-df-convert');\n",
              "      buttonEl.style.display =\n",
              "        google.colab.kernel.accessAllowed ? 'block' : 'none';\n",
              "\n",
              "      async function convertToInteractive(key) {\n",
              "        const element = document.querySelector('#df-545dc8ec-f6fc-4d0d-b649-7fff661a6e4f');\n",
              "        const dataTable =\n",
              "          await google.colab.kernel.invokeFunction('convertToInteractive',\n",
              "                                                    [key], {});\n",
              "        if (!dataTable) return;\n",
              "\n",
              "        const docLinkHtml = 'Like what you see? Visit the ' +\n",
              "          '<a target=\"_blank\" href=https://colab.research.google.com/notebooks/data_table.ipynb>data table notebook</a>'\n",
              "          + ' to learn more about interactive tables.';\n",
              "        element.innerHTML = '';\n",
              "        dataTable['output_type'] = 'display_data';\n",
              "        await google.colab.output.renderOutput(dataTable, element);\n",
              "        const docLink = document.createElement('div');\n",
              "        docLink.innerHTML = docLinkHtml;\n",
              "        element.appendChild(docLink);\n",
              "      }\n",
              "    </script>\n",
              "  </div>\n",
              "\n",
              "\n",
              "<div id=\"df-ebd5a154-cccd-472c-986b-6478e2e14da0\">\n",
              "  <button class=\"colab-df-quickchart\" onclick=\"quickchart('df-ebd5a154-cccd-472c-986b-6478e2e14da0')\"\n",
              "            title=\"Suggest charts.\"\n",
              "            style=\"display:none;\">\n",
              "\n",
              "<svg xmlns=\"http://www.w3.org/2000/svg\" height=\"24px\"viewBox=\"0 0 24 24\"\n",
              "     width=\"24px\">\n",
              "    <g>\n",
              "        <path d=\"M19 3H5c-1.1 0-2 .9-2 2v14c0 1.1.9 2 2 2h14c1.1 0 2-.9 2-2V5c0-1.1-.9-2-2-2zM9 17H7v-7h2v7zm4 0h-2V7h2v10zm4 0h-2v-4h2v4z\"/>\n",
              "    </g>\n",
              "</svg>\n",
              "  </button>\n",
              "\n",
              "<style>\n",
              "  .colab-df-quickchart {\n",
              "      --bg-color: #E8F0FE;\n",
              "      --fill-color: #1967D2;\n",
              "      --hover-bg-color: #E2EBFA;\n",
              "      --hover-fill-color: #174EA6;\n",
              "      --disabled-fill-color: #AAA;\n",
              "      --disabled-bg-color: #DDD;\n",
              "  }\n",
              "\n",
              "  [theme=dark] .colab-df-quickchart {\n",
              "      --bg-color: #3B4455;\n",
              "      --fill-color: #D2E3FC;\n",
              "      --hover-bg-color: #434B5C;\n",
              "      --hover-fill-color: #FFFFFF;\n",
              "      --disabled-bg-color: #3B4455;\n",
              "      --disabled-fill-color: #666;\n",
              "  }\n",
              "\n",
              "  .colab-df-quickchart {\n",
              "    background-color: var(--bg-color);\n",
              "    border: none;\n",
              "    border-radius: 50%;\n",
              "    cursor: pointer;\n",
              "    display: none;\n",
              "    fill: var(--fill-color);\n",
              "    height: 32px;\n",
              "    padding: 0;\n",
              "    width: 32px;\n",
              "  }\n",
              "\n",
              "  .colab-df-quickchart:hover {\n",
              "    background-color: var(--hover-bg-color);\n",
              "    box-shadow: 0 1px 2px rgba(60, 64, 67, 0.3), 0 1px 3px 1px rgba(60, 64, 67, 0.15);\n",
              "    fill: var(--button-hover-fill-color);\n",
              "  }\n",
              "\n",
              "  .colab-df-quickchart-complete:disabled,\n",
              "  .colab-df-quickchart-complete:disabled:hover {\n",
              "    background-color: var(--disabled-bg-color);\n",
              "    fill: var(--disabled-fill-color);\n",
              "    box-shadow: none;\n",
              "  }\n",
              "\n",
              "  .colab-df-spinner {\n",
              "    border: 2px solid var(--fill-color);\n",
              "    border-color: transparent;\n",
              "    border-bottom-color: var(--fill-color);\n",
              "    animation:\n",
              "      spin 1s steps(1) infinite;\n",
              "  }\n",
              "\n",
              "  @keyframes spin {\n",
              "    0% {\n",
              "      border-color: transparent;\n",
              "      border-bottom-color: var(--fill-color);\n",
              "      border-left-color: var(--fill-color);\n",
              "    }\n",
              "    20% {\n",
              "      border-color: transparent;\n",
              "      border-left-color: var(--fill-color);\n",
              "      border-top-color: var(--fill-color);\n",
              "    }\n",
              "    30% {\n",
              "      border-color: transparent;\n",
              "      border-left-color: var(--fill-color);\n",
              "      border-top-color: var(--fill-color);\n",
              "      border-right-color: var(--fill-color);\n",
              "    }\n",
              "    40% {\n",
              "      border-color: transparent;\n",
              "      border-right-color: var(--fill-color);\n",
              "      border-top-color: var(--fill-color);\n",
              "    }\n",
              "    60% {\n",
              "      border-color: transparent;\n",
              "      border-right-color: var(--fill-color);\n",
              "    }\n",
              "    80% {\n",
              "      border-color: transparent;\n",
              "      border-right-color: var(--fill-color);\n",
              "      border-bottom-color: var(--fill-color);\n",
              "    }\n",
              "    90% {\n",
              "      border-color: transparent;\n",
              "      border-bottom-color: var(--fill-color);\n",
              "    }\n",
              "  }\n",
              "</style>\n",
              "\n",
              "  <script>\n",
              "    async function quickchart(key) {\n",
              "      const quickchartButtonEl =\n",
              "        document.querySelector('#' + key + ' button');\n",
              "      quickchartButtonEl.disabled = true;  // To prevent multiple clicks.\n",
              "      quickchartButtonEl.classList.add('colab-df-spinner');\n",
              "      try {\n",
              "        const charts = await google.colab.kernel.invokeFunction(\n",
              "            'suggestCharts', [key], {});\n",
              "      } catch (error) {\n",
              "        console.error('Error during call to suggestCharts:', error);\n",
              "      }\n",
              "      quickchartButtonEl.classList.remove('colab-df-spinner');\n",
              "      quickchartButtonEl.classList.add('colab-df-quickchart-complete');\n",
              "    }\n",
              "    (() => {\n",
              "      let quickchartButtonEl =\n",
              "        document.querySelector('#df-ebd5a154-cccd-472c-986b-6478e2e14da0 button');\n",
              "      quickchartButtonEl.style.display =\n",
              "        google.colab.kernel.accessAllowed ? 'block' : 'none';\n",
              "    })();\n",
              "  </script>\n",
              "</div>\n",
              "    </div>\n",
              "  </div>\n"
            ]
          },
          "metadata": {},
          "execution_count": 14
        }
      ]
    },
    {
      "cell_type": "code",
      "source": [
        "print('Paintings with many mountains, but with no \"mountain\" (probably a bug in the data)')\n",
        "df[(df['mountains']&(1-df['mountain']))==1][['mountain', 'mountains']]"
      ],
      "metadata": {
        "colab": {
          "base_uri": "https://localhost:8080/",
          "height": 125
        },
        "id": "SOrX_C5wtK45",
        "outputId": "7601b929-2f3d-4a1d-eb56-ca641368a851"
      },
      "execution_count": 15,
      "outputs": [
        {
          "output_type": "stream",
          "name": "stdout",
          "text": [
            "Paintings with many mountains, but with no \"mountain\" (probably a bug in the data)\n"
          ]
        },
        {
          "output_type": "execute_result",
          "data": {
            "text/plain": [
              "         mountain  mountains\n",
              "episode                     \n",
              "s29e02          0          1"
            ],
            "text/html": [
              "\n",
              "  <div id=\"df-6d2a79e0-031a-4eec-b296-a0548eac606e\" class=\"colab-df-container\">\n",
              "    <div>\n",
              "<style scoped>\n",
              "    .dataframe tbody tr th:only-of-type {\n",
              "        vertical-align: middle;\n",
              "    }\n",
              "\n",
              "    .dataframe tbody tr th {\n",
              "        vertical-align: top;\n",
              "    }\n",
              "\n",
              "    .dataframe thead th {\n",
              "        text-align: right;\n",
              "    }\n",
              "</style>\n",
              "<table border=\"1\" class=\"dataframe\">\n",
              "  <thead>\n",
              "    <tr style=\"text-align: right;\">\n",
              "      <th></th>\n",
              "      <th>mountain</th>\n",
              "      <th>mountains</th>\n",
              "    </tr>\n",
              "    <tr>\n",
              "      <th>episode</th>\n",
              "      <th></th>\n",
              "      <th></th>\n",
              "    </tr>\n",
              "  </thead>\n",
              "  <tbody>\n",
              "    <tr>\n",
              "      <th>s29e02</th>\n",
              "      <td>0</td>\n",
              "      <td>1</td>\n",
              "    </tr>\n",
              "  </tbody>\n",
              "</table>\n",
              "</div>\n",
              "    <div class=\"colab-df-buttons\">\n",
              "\n",
              "  <div class=\"colab-df-container\">\n",
              "    <button class=\"colab-df-convert\" onclick=\"convertToInteractive('df-6d2a79e0-031a-4eec-b296-a0548eac606e')\"\n",
              "            title=\"Convert this dataframe to an interactive table.\"\n",
              "            style=\"display:none;\">\n",
              "\n",
              "  <svg xmlns=\"http://www.w3.org/2000/svg\" height=\"24px\" viewBox=\"0 -960 960 960\">\n",
              "    <path d=\"M120-120v-720h720v720H120Zm60-500h600v-160H180v160Zm220 220h160v-160H400v160Zm0 220h160v-160H400v160ZM180-400h160v-160H180v160Zm440 0h160v-160H620v160ZM180-180h160v-160H180v160Zm440 0h160v-160H620v160Z\"/>\n",
              "  </svg>\n",
              "    </button>\n",
              "\n",
              "  <style>\n",
              "    .colab-df-container {\n",
              "      display:flex;\n",
              "      gap: 12px;\n",
              "    }\n",
              "\n",
              "    .colab-df-convert {\n",
              "      background-color: #E8F0FE;\n",
              "      border: none;\n",
              "      border-radius: 50%;\n",
              "      cursor: pointer;\n",
              "      display: none;\n",
              "      fill: #1967D2;\n",
              "      height: 32px;\n",
              "      padding: 0 0 0 0;\n",
              "      width: 32px;\n",
              "    }\n",
              "\n",
              "    .colab-df-convert:hover {\n",
              "      background-color: #E2EBFA;\n",
              "      box-shadow: 0px 1px 2px rgba(60, 64, 67, 0.3), 0px 1px 3px 1px rgba(60, 64, 67, 0.15);\n",
              "      fill: #174EA6;\n",
              "    }\n",
              "\n",
              "    .colab-df-buttons div {\n",
              "      margin-bottom: 4px;\n",
              "    }\n",
              "\n",
              "    [theme=dark] .colab-df-convert {\n",
              "      background-color: #3B4455;\n",
              "      fill: #D2E3FC;\n",
              "    }\n",
              "\n",
              "    [theme=dark] .colab-df-convert:hover {\n",
              "      background-color: #434B5C;\n",
              "      box-shadow: 0px 1px 3px 1px rgba(0, 0, 0, 0.15);\n",
              "      filter: drop-shadow(0px 1px 2px rgba(0, 0, 0, 0.3));\n",
              "      fill: #FFFFFF;\n",
              "    }\n",
              "  </style>\n",
              "\n",
              "    <script>\n",
              "      const buttonEl =\n",
              "        document.querySelector('#df-6d2a79e0-031a-4eec-b296-a0548eac606e button.colab-df-convert');\n",
              "      buttonEl.style.display =\n",
              "        google.colab.kernel.accessAllowed ? 'block' : 'none';\n",
              "\n",
              "      async function convertToInteractive(key) {\n",
              "        const element = document.querySelector('#df-6d2a79e0-031a-4eec-b296-a0548eac606e');\n",
              "        const dataTable =\n",
              "          await google.colab.kernel.invokeFunction('convertToInteractive',\n",
              "                                                    [key], {});\n",
              "        if (!dataTable) return;\n",
              "\n",
              "        const docLinkHtml = 'Like what you see? Visit the ' +\n",
              "          '<a target=\"_blank\" href=https://colab.research.google.com/notebooks/data_table.ipynb>data table notebook</a>'\n",
              "          + ' to learn more about interactive tables.';\n",
              "        element.innerHTML = '';\n",
              "        dataTable['output_type'] = 'display_data';\n",
              "        await google.colab.output.renderOutput(dataTable, element);\n",
              "        const docLink = document.createElement('div');\n",
              "        docLink.innerHTML = docLinkHtml;\n",
              "        element.appendChild(docLink);\n",
              "      }\n",
              "    </script>\n",
              "  </div>\n",
              "\n",
              "    </div>\n",
              "  </div>\n"
            ]
          },
          "metadata": {},
          "execution_count": 15
        }
      ]
    },
    {
      "cell_type": "markdown",
      "source": [
        "# Part 2. Computing important terms in FCA\n",
        "\n",
        "All following notions assume we are given a **formal context** $(G, M, I)$ of **objects** $G$, **attributes** $M$, and their **relation** $I \\subseteq G \\times M$.\n",
        "\n",
        "Also, we define two \"prime\" operator (that work as Galois connections):\n",
        "$$A' = \\{m \\in M \\mid \\forall g \\in A, (g, m) \\in I\\}, \\quad A \\subseteq G,$$\n",
        "$$B' = \\{g \\in G \\mid \\forall m \\in M, (g, m) \\in I\\}, \\quad B \\subseteq M.$$\n",
        "\n",
        "Given objects $A \\subseteq G$, $A'$ would be the maximal common description of objects $A$. Given description $B \\subseteq M$, $B'$ would be the maximal set of objects, described by all attributes $B$.\n",
        "\n",
        "A pair $(A, B)$ objects $A$ and attributes $B$ such that $A'=B, B'=A$ is called a **formal concept**.  \n",
        "\n",
        "_I use the term \"description\" here as a synonym to \"a subset of attributes\" because it is shorter, and generally approved by FCA community_\n",
        "\n",
        "_FCA comes from Germany, so the notation comes from German language: $G$ stands for \"​die Gegenstände\" (\"objects\"), and $M$ stands for \"​​die Merkmale\" (\"attributes\")._"
      ],
      "metadata": {
        "id": "Rz34hEIjknAA"
      }
    },
    {
      "cell_type": "markdown",
      "source": [
        "## Intents\n",
        "\n",
        "Given a subset of objects, an **intent** contains _all_ common attributes of these objects.\n",
        "\n",
        "More formally, given a subset of objects $A \\subseteq G$, **intent** $B = A'$ is the maximal description of objects $A$.\n",
        "\n",
        "More formally, **intent** $B \\subseteq M$ is a closed description, i.e. $B = B''$.\n"
      ],
      "metadata": {
        "id": "yQTO_Cm1flu2"
      }
    },
    {
      "cell_type": "markdown",
      "source": [
        "Here, double prime operator $''$ is caled a closure operator ([wiki](https://en.wikipedia.org/wiki/Closure_operator)) because it returns the maximal equvalent subset of objects/attributes.\n",
        "\n",
        "For example, if $D \\subseteq M$ is some subset of attributes, then $B = D''$ is the maximal equivalent subset of attributes. Then, $B''$ would again be equal to $B$, and $(B'')''$ would be equal to $B''$ that is equal to $B$.\n",
        "\n",
        "The similar mathematical idea of closure is used when discussing transitive closure on graphs.\n",
        "\n",
        "_Here and after, two subsets of attributes $D, E \\subseteq M$ are called equivalent if they describe the same objects $D' = E'$. Or, equivalently, they have the same closure $D''=E''$._"
      ],
      "metadata": {
        "id": "BdQwQQ9Rr27s"
      }
    },
    {
      "cell_type": "markdown",
      "source": [
        "**Finding intents**\n",
        "\n",
        "Many algorithms were developed. `caspailleur` uses LCM algorithm since it is fast and well-implemented in `scikit-mine` (git: https://github.com/scikit-mine/scikit-mine).\n",
        "\n",
        "There is also Bordat algorithm, that was covered during the lectures."
      ],
      "metadata": {
        "id": "sjJb1Obs7k81"
      }
    },
    {
      "cell_type": "code",
      "source": [
        "%%time\n",
        "itemsets_ba = csp.np2bas(df.values)\n",
        "intents_ba = csp.list_intents_via_LCM(itemsets_ba, min_supp = 1)\n",
        "print(len(intents_ba))"
      ],
      "metadata": {
        "id": "yhKt8Cs1EfPG",
        "colab": {
          "base_uri": "https://localhost:8080/"
        },
        "outputId": "a525550c-46cd-4b8e-96b3-c811d6857c6e"
      },
      "execution_count": 16,
      "outputs": [
        {
          "output_type": "stream",
          "name": "stdout",
          "text": [
            "3463\n",
            "CPU times: user 1.05 s, sys: 11.1 ms, total: 1.06 s\n",
            "Wall time: 1.83 s\n"
          ]
        }
      ]
    },
    {
      "cell_type": "code",
      "source": [
        "for intent in intents_ba[:10]:\n",
        "  print(verbose(intent))"
      ],
      "metadata": {
        "colab": {
          "base_uri": "https://localhost:8080/"
        },
        "id": "7kDOvUEiAU2E",
        "outputId": "01faff17-4f5a-4f62-ee91-b1db0e9210db"
      },
      "execution_count": 17,
      "outputs": [
        {
          "output_type": "stream",
          "name": "stdout",
          "text": [
            "\n",
            "barn\n",
            "cirrus\n",
            "cliff\n",
            "clouds\n",
            "cumulus\n",
            "fence\n",
            "flowers\n",
            "framed\n",
            "grass\n"
          ]
        }
      ]
    },
    {
      "cell_type": "markdown",
      "source": [
        "## Order of intents (i.e. lattice)\n",
        "\n",
        "We say that one formal concept is less than another when it cover the smaller set of objects or (equivalently) is has bigger description.\n",
        "\n",
        "More formally, given two concepts $(A, B), (C,D)$ the order of concepts follows the inclusion order on extents $A, C$. Or, equivalently, the order of concepts $(A, B), (C,D)$ follows the subsumption order on intents $B, D$.\n",
        "\n",
        "More formally, for two formal concepts $(A, B), (C, D)$:\n",
        "$$ (A, B) \\leq (C, D) \\iff A \\subseteq C \\ (\\text{or}\\ B \\supseteq D )$$"
      ],
      "metadata": {
        "id": "OxAUWpdMfnQO"
      }
    },
    {
      "cell_type": "code",
      "source": [
        "itemsets_ba = csp.np2bas(df.values)\n",
        "intents_ba = csp.list_intents_via_LCM(itemsets_ba)\n",
        "parents_ordering = csp.sort_intents_inclusion(intents_ba) # For the function to work properly, make sure that the last intent is the bottom (the maximal) one"
      ],
      "metadata": {
        "id": "rlves71Du8i4"
      },
      "execution_count": 18,
      "outputs": []
    },
    {
      "cell_type": "markdown",
      "source": [
        "Here we use the notion of \"children\" and \"parents\" ordering.\n",
        "\n",
        "Given a concept lattice $L$, we say that the children of a concept $(A, B)$ are the closest concepts from $L$ smaller than $(A, B)$.\n",
        "\n",
        "More formally, given a concept lattice $L$ and a concept $(A, B)$:\n",
        "$$\\text{children}\\big((A, B)\\big) = \\{(C, D) \\in L \\mid (C, D) < (A, B) \\text{ and } \\nexists (E, F) \\in L \\text{ s.t. } (C, D) < (E, F) < (A, B)\\} $$.\n",
        "\n",
        "Analogously, parents of concept $(A, B)$ are the closes concepts from lattice $L$ bigger than $(A, B)$:\n",
        "$$\\text{parents}\\big((A, B)\\big) = \\{(C, D) \\in L \\mid (A, B) < (C, D) \\text{ and } \\nexists (E, F) \\in L \\text{ s.t. } (A, B) < (E, F) < (C, D) \\} $$.\n",
        "\n",
        "\n",
        "Note that, because of the way we order formal concepts, the parent relation on concepts follows the parent relation on concept extents and children relation on concept intents."
      ],
      "metadata": {
        "id": "0x5uuJQcvEY9"
      }
    },
    {
      "cell_type": "code",
      "source": [
        "itemsets_ba = csp.np2bas(df.values)\n",
        "intents_ba = csp.list_intents_via_LCM(itemsets_ba)\n",
        "# We can also compute the transitive order of parents (or \"ancestors\") if needed\n",
        "parents_ordering, parents_ordering_trans = csp.sort_intents_inclusion(intents_ba, use_tqdm=True, return_transitive_order=True)"
      ],
      "metadata": {
        "colab": {
          "base_uri": "https://localhost:8080/"
        },
        "id": "gnr2MZqWFQja",
        "outputId": "3c8201a5-35ed-4b9f-9565-a2bbccb02a0d"
      },
      "execution_count": 19,
      "outputs": [
        {
          "output_type": "stream",
          "name": "stderr",
          "text": [
            "Sorting intents: 100%|██████████| 3463/3463 [00:00<00:00, 12800.16it/s]\n"
          ]
        }
      ]
    },
    {
      "cell_type": "code",
      "source": [
        "print('Indices of parent concept of the concept with intent #10')\n",
        "list(parents_ordering[10].itersearch(True))"
      ],
      "metadata": {
        "colab": {
          "base_uri": "https://localhost:8080/"
        },
        "id": "k__R8SIDFcon",
        "outputId": "7125a6a8-c05c-4754-e476-78e9b04d4bca"
      },
      "execution_count": 20,
      "outputs": [
        {
          "output_type": "stream",
          "name": "stdout",
          "text": [
            "Indices of parent concept of the concept with intent #10\n"
          ]
        },
        {
          "output_type": "execute_result",
          "data": {
            "text/plain": [
              "[38, 62, 72, 79, 80, 81]"
            ]
          },
          "metadata": {},
          "execution_count": 20
        }
      ]
    },
    {
      "cell_type": "code",
      "source": [
        "print('Intent #10', verbose(intents_ba[10]))\n",
        "print('Intent #38', verbose(intents_ba[38]))"
      ],
      "metadata": {
        "colab": {
          "base_uri": "https://localhost:8080/"
        },
        "id": "hDbyvQJby-or",
        "outputId": "5b131984-63eb-46d1-981c-908389e60856"
      },
      "execution_count": 21,
      "outputs": [
        {
          "output_type": "stream",
          "name": "stdout",
          "text": [
            "Intent #10 guest\n",
            "Intent #38 clouds,guest\n"
          ]
        }
      ]
    },
    {
      "cell_type": "markdown",
      "source": [
        "Intent #10 \"guest\" is included in intent #38 \"clouds,guest\". So concept #10 is bigger (i.e. more general) than concept #38.\n",
        "\n",
        "Obviously, there are no intents between intents #10 and #38, so concept #38 is a child of concept #10. Equivalently, concept #10 is a parent of a concept #38.\n",
        "\n",
        "_Every intent $B \\subseteq M, B''=B$ corresponds to formal concept $(B', B)$, so we can use this terms more or less interchangeably. It is just the order of concept and the order of intents are \"reversed\"._"
      ],
      "metadata": {
        "id": "0sQKlUBqzXD4"
      }
    },
    {
      "cell_type": "code",
      "source": [
        "list(parents_ordering[38].itersearch(True))"
      ],
      "metadata": {
        "colab": {
          "base_uri": "https://localhost:8080/"
        },
        "id": "ymdKk5f-0mx4",
        "outputId": "1a65970c-1955-4936-ab93-254065cd25db"
      },
      "execution_count": 22,
      "outputs": [
        {
          "output_type": "execute_result",
          "data": {
            "text/plain": [
              "[169, 177]"
            ]
          },
          "metadata": {},
          "execution_count": 22
        }
      ]
    },
    {
      "cell_type": "code",
      "source": [
        "print('Intent #10', verbose(intents_ba[10]))\n",
        "print('Intent #38', verbose(intents_ba[38]))\n",
        "print('Intent #169', verbose(intents_ba[169]))"
      ],
      "metadata": {
        "colab": {
          "base_uri": "https://localhost:8080/"
        },
        "id": "KLyTzku90qGS",
        "outputId": "d20a8f70-4603-4719-90f1-9ab7efdeb66a"
      },
      "execution_count": 23,
      "outputs": [
        {
          "output_type": "stream",
          "name": "stdout",
          "text": [
            "Intent #10 guest\n",
            "Intent #38 clouds,guest\n",
            "Intent #169 clouds,grass,guest\n"
          ]
        }
      ]
    },
    {
      "cell_type": "code",
      "source": [
        "intents_idxs = [10, 38, 169]\n",
        "parents_relation = [[parents_ordering[i][j] for j in intents_idxs] for i in intents_idxs]\n",
        "ancestors_relation = [[parents_ordering_trans[i][j] for j in intents_idxs] for i in intents_idxs]\n",
        "\n",
        "fig, axs = plt.subplots(1, 2, figsize=(15,5))\n",
        "\n",
        "for (ax, rel, title) in zip(axs, [parents_relation, ancestors_relation], ['Parents', 'Ancestors (transitive parents)']):\n",
        "  sns.heatmap(rel, ax=ax, annot=[['X' if v else '' for v in row] for row in rel], fmt='', cmap='Blues', cbar=False)\n",
        "  ax.set_title(f'{title} relation\\nbetween concepts, corresponding to intents', size=16)\n",
        "  ax.set_xticklabels([verbose(intents_ba[i]) for i in intents_idxs])\n",
        "  ax.set_yticklabels([verbose(intents_ba[i]) for i in intents_idxs], rotation=0)\n",
        "  ax.set_xlabel('Intents')\n",
        "  ax.set_ylabel('Intents')\n",
        "\n",
        "\n",
        "plt.tight_layout()\n",
        "plt.show()"
      ],
      "metadata": {
        "colab": {
          "base_uri": "https://localhost:8080/",
          "height": 507
        },
        "id": "Mz6RDTRt16CK",
        "outputId": "87456d51-a84d-4936-cf7d-8d5e42c98de7"
      },
      "execution_count": 24,
      "outputs": [
        {
          "output_type": "display_data",
          "data": {
            "text/plain": [
              "<Figure size 1500x500 with 2 Axes>"
            ],
            "image/png": "[encoded data removed]"
          },
          "metadata": {}
        }
      ]
    },
    {
      "cell_type": "markdown",
      "source": [
        "So, concept ({guest}', {guest}) is a transitive parent of a concept ({clouds,grass,guest}', {clouds,grass,guest}'), but not a (non-transitive) parent."
      ],
      "metadata": {
        "id": "yxIWfE2w4EE3"
      }
    },
    {
      "cell_type": "markdown",
      "source": [
        "## Interesting intents\n",
        "\n",
        "Usually, the data contains too many concepts, to go through all of them. So we should define some notion of \"interesting\" concepts.\n",
        "\n",
        "\n",
        "\n",
        "_The study of various interestingness measures of Formal concepts had been done in_\n",
        "> S.O. Kuznetsov, T. Makhalova,\n",
        "On interestingness measures of formal concepts,\n",
        "Information Sciences,\n",
        "Volumes 442–443,\n",
        "2018,\n",
        "Pages 202-219,\n",
        "ISSN 0020-0255,\n",
        "https://doi.org/10.1016/j.ins.2018.02.032."
      ],
      "metadata": {
        "id": "KlkiSVzWqVPn"
      }
    },
    {
      "cell_type": "markdown",
      "source": [
        "Two popular choices for interestingness measures:"
      ],
      "metadata": {
        "id": "n5mQNrrHKdxE"
      }
    },
    {
      "cell_type": "markdown",
      "source": [
        "### Support of a concept.\n",
        "\n",
        "**Support of a concept** $(A, B)$ shows the number of objects, described by the concept.\n",
        "\n",
        "Formally,\n",
        "$$\\text{supp}\\big((A, B)\\big) = |A|$$\n",
        "\n",
        "Analogously, **support of a description** $D \\subseteq M$ is the number of objects, described by the description:\n",
        "$$\\text{supp}(D) = |D'|, \\quad D \\subseteq M$$\n",
        "\n",
        "Sometimes, _support_ of a description is reffered to as a _frequency_ of this description. Hence, the name of the research field of _frequent itemset mining_.\n",
        "\n",
        "The idea is that more general concepts (i.e. with higher support) should be more interesting than the very precise ones (with low support)."
      ],
      "metadata": {
        "id": "qv8B6OxdKgh8"
      }
    },
    {
      "cell_type": "code",
      "source": [
        "# Preprocess the data from Pandas.DataFrame\n",
        "itemsets_ba = csp.np2bas(df.values)\n",
        "crosses_per_columns_ba = csp.np2bas(df.values.T)\n",
        "crosses_per_columns = list(csp.base_functions.bas2isets(crosses_per_columns_ba))\n",
        "\n",
        "# Compute all intents\n",
        "intents_ba = csp.list_intents_via_LCM(itemsets_ba)\n",
        "\n",
        "# Support of a concept is the cardinality of its extent\n",
        "supports = [len(csp.base_functions.extension(intent.itersearch(True), crosses_per_columns)) for intent in intents_ba]\n",
        "\n",
        "# Selecting the intents with high support\n",
        "min_supp_thold = 100\n",
        "best_intents = [intent for intent, s in zip(intents_ba, supports) if s >= min_supp_thold]\n",
        "print(f\"# intents: {len(intents_ba)},\\t # intents with support >= {min_supp_thold}: {len(best_intents)}\")"
      ],
      "metadata": {
        "colab": {
          "base_uri": "https://localhost:8080/"
        },
        "id": "CW5skGwaKm7Q",
        "outputId": "081277ca-470f-40ee-89ce-24c0265bfbf9"
      },
      "execution_count": 25,
      "outputs": [
        {
          "output_type": "stream",
          "name": "stdout",
          "text": [
            "# intents: 3463,\t # intents with support >= 100: 29\n"
          ]
        }
      ]
    },
    {
      "cell_type": "markdown",
      "source": [
        "### Stability of a concept\n",
        "\n",
        "Stability of a concept is a less trivial interestingness measure of concepts that can highlight both general and precise concepts.\n",
        "\n",
        "The formula of stability will be considered on TDs in November. Example of using the stability for selecting interesting concepts is shown in Part 1 of the tutorial.\n",
        "\n",
        "In general, the idea is that some concepts in the data are \"created by the noise\" and the other are \"more stable\". So concepts with high stability should be less noisy and more meaningfull."
      ],
      "metadata": {
        "id": "2_81sDPUKkb3"
      }
    },
    {
      "cell_type": "code",
      "source": [
        "# Preprocess the data from Pandas.DataFrame\n",
        "itemsets_ba = csp.np2bas(df.values)\n",
        "crosses_per_columns_ba = csp.np2bas(df.values.T)\n",
        "crosses_per_columns = list(csp.base_functions.bas2isets(crosses_per_columns_ba))\n",
        "\n",
        "# Compute all intents\n",
        "intents_ba = csp.list_intents_via_LCM(itemsets_ba, min_supp = 1)\n",
        "\n",
        "# Compute extents of intents, and order them by increasing cardinality\n",
        "extent_intent_map = {\n",
        "    csp.base_functions.extension(intent.itersearch(True), crosses_per_columns): intent\n",
        "    for intent in intents_ba\n",
        "}\n",
        "\n",
        "# Compute stabilites of concepts\n",
        "extents = sorted(extent_intent_map, key=lambda ext: len(ext))\n",
        "extents_ba = list(csp.base_functions.isets2bas(extents, len(itemsets_ba)))\n",
        "stabilities = list(csp.indices.delta_stability_index(extents_ba))\n",
        "\n",
        "# Select the most stable intents\n",
        "min_stability_thold = 20\n",
        "best_extents = [extent for extent, s in zip(extents, stabilities) if s >= min_stability_thold]\n",
        "best_intents = [extent_intent_map[extent] for extent in best_extents]\n",
        "\n",
        "print(f\"# intents: {len(intents_ba)},\\t # intents with stability >= {min_stability_thold}: {len(best_intents)}\")"
      ],
      "metadata": {
        "colab": {
          "base_uri": "https://localhost:8080/"
        },
        "id": "cWMBSDnHKqYV",
        "outputId": "2f53a745-63ac-4c15-aca7-5ff82d14cebc"
      },
      "execution_count": 26,
      "outputs": [
        {
          "output_type": "stream",
          "name": "stdout",
          "text": [
            "# intents: 3463,\t # intents with stability >= 20: 34\n"
          ]
        }
      ]
    },
    {
      "cell_type": "markdown",
      "source": [
        "### The need for human curator\n",
        "\n",
        "Mathematical interestingness measures can filter out many \"not-interesting\" concepts. However, the concepts that are marked as \"interesting\" can still be useless for analysis.\n",
        "\n",
        "For example, imagine that we deal with textual data and we found the concept (<texts containing article \"the\">, \"the\").\n",
        "* Is it frequent (i.e. are there many texts with article \"the\")? Definitely.\n",
        "* Is it stable? Most likely, yes.\n",
        "* Is it interesting? Most likely, no.\n",
        "\n",
        "So, a data analyst should manually check the concepts with high interestingness measures. If needed, an analyst should update the pipeline and the interestingness measures, so that the obviously bad concepts would be classified as mathematically bad."
      ],
      "metadata": {
        "id": "cz-t34m-5jB1"
      }
    },
    {
      "cell_type": "markdown",
      "source": [
        "You can also invent your own interestingness measures (if you can justify their usage).\n",
        "\n",
        "Some measures can be specific to some tasks: e.g. precision, recall, and F1-score can be considered as interesting measures of concepts, when applied to binary classification."
      ],
      "metadata": {
        "id": "KPU7FNX69uxE"
      }
    },
    {
      "cell_type": "markdown",
      "source": [
        "## Minimal descriptions"
      ],
      "metadata": {
        "id": "_rzClAH2fsTh"
      }
    },
    {
      "cell_type": "markdown",
      "source": [
        "### Keys\n",
        "\n",
        "Key is a minimal subset of attributes, selecting some specific subset of objects. That is, if we drop any attribute from the key, it will start describing some other subset of objects.\n",
        "\n",
        "Formally, given a closed description $B \\subseteq M, B''=B$, a subset of attributes $D \\subseteq M$ is called a key of the closed description $B$ if for any attribute $m \\in D$ the closure of $(D \\setminus \\{m\\})''$ does not equal to $B$:\n",
        "$$D \\text{ is a key of } B \\iff D''=B, \\forall m \\in D, (D \\setminus \\{m\\})'' \\neq B $$\n",
        "\n",
        "Sometimes, the keys are also called the minimal generators."
      ],
      "metadata": {
        "id": "io_tz6TCKIcc"
      }
    },
    {
      "cell_type": "markdown",
      "source": [
        "**Finding keys**\n",
        "\n",
        "Apparently, finding _all_ keys in the context takes about the same time as finding all key for a _single_ intent.\n",
        "\n",
        "There is a nice property for keys:\n",
        "> Every subset of a key is a key (of another intent)\n",
        "\n",
        "Or, mathematically:\n",
        "$$\\forall E \\subseteq M, (E \\text{ is a key}) \\implies (\\forall D \\subseteq E, D \\text{ is a key}).$$\n",
        "\n",
        "Therefore, if $D \\subseteq M$ is _not_ a key, then every description $E$ greater than $D$ (i.e. $D \\subset E$) is also _not_ a key.\n",
        "\n",
        "**An algorithm to find all the keys**\n",
        "\n",
        "Let $\\mathbb{D}_n$ denote keys of size $n$. That is, $\\forall D \\in \\mathbb{D}_n, D \\text{ is a key and } |D| = n$. The task is to find all keys $\\mathbb{D} = \\bigcup_{n=0}^\\infty D_n$.\n",
        "\n",
        "Note that there is always one key of size 0: $\\mathbb{D}_0 = \\{\\emptyset\\}$\n",
        "\n",
        "For $n$ in $[1, \\infty]$:\n",
        "0. if found no $\\mathbb{D}_{n-1}$ (i.e. $|\\mathbb{D}_{n-1}| = 0$) then _stop_;\n",
        "1. Initialize $\\mathbb{D}_{n} = \\emptyset$;\n",
        "2. For every key $D \\in \\mathbb{D}_{n-1}$, for every attribute $m \\in M \\setminus D$:\n",
        "  * Create candidate key $E = D \\cup \\{ b \\} $;\n",
        "  * If any subset of $E$ is not a key, then $E$ is not a key;\n",
        "  \n",
        "    (i.e. if $\\exists \\tilde{m} \\in E$ s.t. $E \\setminus \\{\\tilde{m}\\} \\not \\in \\mathbb{D}_{n-1}$ then $E$ is not a key)\n",
        "  * If the closure of $E$ equals to the closure of one of its subsets, then $E$ is not a key;\n",
        "  \n",
        "    (i.e. if $\\exists \\tilde{m} \\in E$ s.t. $(E \\setminus \\{\\tilde{m}\\})'' = E''$ then $E$ is not a key)\n",
        "  * If candidate key $E$ passed two previous checks, then it is a key. Add it to the set $\\mathbb{D}_{n}$.\n",
        "\n",
        "Together, all found sets $\\mathbb{D}_n$ form a set of keys of the context.\n",
        "\n",
        "An analogous algorithm is implemented in `caspailleur`'s `list_key` function (source code: https://github.com/EgorDudyrev/caspailleur/blob/6848fd05479a003337ca41bee8c5db66064147f1/caspailleur/mine_equivalence_classes.py#L240)"
      ],
      "metadata": {
        "id": "xOm2YH-u8krf"
      }
    },
    {
      "cell_type": "code",
      "source": [
        "itemsets_ba = csp.np2bas(df.values)\n",
        "intents_ba = csp.list_intents_via_LCM(itemsets_ba)\n",
        "keys_dict = csp.list_keys(intents_ba)"
      ],
      "metadata": {
        "id": "O4C8aZDiOGMg"
      },
      "execution_count": 27,
      "outputs": []
    },
    {
      "cell_type": "markdown",
      "source": [
        "Let us analyse the obtained keys.\n",
        "\n",
        "#### First, we want to see how many keys an intent has on average."
      ],
      "metadata": {
        "id": "wdSSMnKUyoeM"
      }
    },
    {
      "cell_type": "code",
      "source": [
        "keys_per_intent = [set() for _ in range(len(intents_ba))]\n",
        "for key, intent_i in keys_dict.items():\n",
        "  keys_per_intent[intent_i].add(key)\n",
        "\n",
        "n_keys_per_intent = pd.Series([len(keys) for keys in keys_per_intent])"
      ],
      "metadata": {
        "id": "M8OwCHuDOtIn"
      },
      "execution_count": 28,
      "outputs": []
    },
    {
      "cell_type": "code",
      "source": [
        "sns.displot(n_keys_per_intent[:-1])\n",
        "plt.yscale('log')\n",
        "plt.xlabel('# of keys per intent')\n",
        "plt.ylabel('# of intents with given # of keys')\n",
        "plt.title('Histogram for the amount of keys per single intent')\n",
        "plt.show()"
      ],
      "metadata": {
        "colab": {
          "base_uri": "https://localhost:8080/",
          "height": 547
        },
        "id": "khUlBnNKvXYh",
        "outputId": "58966e22-a7b8-402c-932f-4037e2c3fed9"
      },
      "execution_count": 29,
      "outputs": [
        {
          "output_type": "display_data",
          "data": {
            "text/plain": [
              "<Figure size 500x500 with 1 Axes>"
            ],
            "image/png": "[encoded data removed]"
          },
          "metadata": {}
        }
      ]
    },
    {
      "cell_type": "code",
      "source": [
        "print('Indices of intents with 10 keys:', list(n_keys_per_intent[n_keys_per_intent==10].index))"
      ],
      "metadata": {
        "colab": {
          "base_uri": "https://localhost:8080/"
        },
        "id": "-WQbYjh5wNhz",
        "outputId": "801ac441-2f0b-4e20-b174-5fc4c4b2bfe5"
      },
      "execution_count": 30,
      "outputs": [
        {
          "output_type": "stream",
          "name": "stdout",
          "text": [
            "Indices of intents with 10 keys: [3261, 3334, 3336, 3337, 3370, 3393, 3422, 3425]\n"
          ]
        }
      ]
    },
    {
      "cell_type": "code",
      "source": [
        "i = (n_keys_per_intent==10).argmax()\n",
        "print('Intent:', verbose(intents_ba[i]))\n",
        "print('Keys:', [verbose(key) for key in keys_per_intent[i]])"
      ],
      "metadata": {
        "colab": {
          "base_uri": "https://localhost:8080/"
        },
        "id": "Ds5zwXdKOo-L",
        "outputId": "d8674416-0761-43f2-d0f2-0b0e5bb4d7ca"
      },
      "execution_count": 31,
      "outputs": [
        {
          "output_type": "stream",
          "name": "stdout",
          "text": [
            "Intent: clouds,cumulus,moon,night,ocean,palm_trees,tree,trees,waves\n",
            "Keys: ['palm_trees,trees', 'moon,ocean', 'clouds,moon', 'cumulus,night,tree', 'cumulus,night,trees', 'palm_trees,tree', 'moon,waves', 'moon,palm_trees', 'night,palm_trees', 'cumulus,moon']\n"
          ]
        }
      ]
    },
    {
      "cell_type": "markdown",
      "source": [
        "So every painting with 'moon' and 'waves' also has 'clouds', 'cumulus', 'night', 'ocean', 'palm_trees', 'tree', and 'trees'.\n",
        "\n",
        "Implication \"moon & waves => palm_trees\" seems strange. Let us double check it"
      ],
      "metadata": {
        "id": "MvKhk2_FxKzK"
      }
    },
    {
      "cell_type": "code",
      "source": [
        "df[(df['moon']&df['waves'])==1][['palm_trees']]"
      ],
      "metadata": {
        "colab": {
          "base_uri": "https://localhost:8080/",
          "height": 109
        },
        "id": "HhP98cRFxj6P",
        "outputId": "d3473e80-dd4f-4960-bff2-22368fb2f1c0"
      },
      "execution_count": 32,
      "outputs": [
        {
          "output_type": "execute_result",
          "data": {
            "text/plain": [
              "         palm_trees\n",
              "episode            \n",
              "s03e02            1"
            ],
            "text/html": [
              "\n",
              "  <div id=\"df-17c78cab-b18c-4bb8-8606-0f736357b98e\" class=\"colab-df-container\">\n",
              "    <div>\n",
              "<style scoped>\n",
              "    .dataframe tbody tr th:only-of-type {\n",
              "        vertical-align: middle;\n",
              "    }\n",
              "\n",
              "    .dataframe tbody tr th {\n",
              "        vertical-align: top;\n",
              "    }\n",
              "\n",
              "    .dataframe thead th {\n",
              "        text-align: right;\n",
              "    }\n",
              "</style>\n",
              "<table border=\"1\" class=\"dataframe\">\n",
              "  <thead>\n",
              "    <tr style=\"text-align: right;\">\n",
              "      <th></th>\n",
              "      <th>palm_trees</th>\n",
              "    </tr>\n",
              "    <tr>\n",
              "      <th>episode</th>\n",
              "      <th></th>\n",
              "    </tr>\n",
              "  </thead>\n",
              "  <tbody>\n",
              "    <tr>\n",
              "      <th>s03e02</th>\n",
              "      <td>1</td>\n",
              "    </tr>\n",
              "  </tbody>\n",
              "</table>\n",
              "</div>\n",
              "    <div class=\"colab-df-buttons\">\n",
              "\n",
              "  <div class=\"colab-df-container\">\n",
              "    <button class=\"colab-df-convert\" onclick=\"convertToInteractive('df-17c78cab-b18c-4bb8-8606-0f736357b98e')\"\n",
              "            title=\"Convert this dataframe to an interactive table.\"\n",
              "            style=\"display:none;\">\n",
              "\n",
              "  <svg xmlns=\"http://www.w3.org/2000/svg\" height=\"24px\" viewBox=\"0 -960 960 960\">\n",
              "    <path d=\"M120-120v-720h720v720H120Zm60-500h600v-160H180v160Zm220 220h160v-160H400v160Zm0 220h160v-160H400v160ZM180-400h160v-160H180v160Zm440 0h160v-160H620v160ZM180-180h160v-160H180v160Zm440 0h160v-160H620v160Z\"/>\n",
              "  </svg>\n",
              "    </button>\n",
              "\n",
              "  <style>\n",
              "    .colab-df-container {\n",
              "      display:flex;\n",
              "      gap: 12px;\n",
              "    }\n",
              "\n",
              "    .colab-df-convert {\n",
              "      background-color: #E8F0FE;\n",
              "      border: none;\n",
              "      border-radius: 50%;\n",
              "      cursor: pointer;\n",
              "      display: none;\n",
              "      fill: #1967D2;\n",
              "      height: 32px;\n",
              "      padding: 0 0 0 0;\n",
              "      width: 32px;\n",
              "    }\n",
              "\n",
              "    .colab-df-convert:hover {\n",
              "      background-color: #E2EBFA;\n",
              "      box-shadow: 0px 1px 2px rgba(60, 64, 67, 0.3), 0px 1px 3px 1px rgba(60, 64, 67, 0.15);\n",
              "      fill: #174EA6;\n",
              "    }\n",
              "\n",
              "    .colab-df-buttons div {\n",
              "      margin-bottom: 4px;\n",
              "    }\n",
              "\n",
              "    [theme=dark] .colab-df-convert {\n",
              "      background-color: #3B4455;\n",
              "      fill: #D2E3FC;\n",
              "    }\n",
              "\n",
              "    [theme=dark] .colab-df-convert:hover {\n",
              "      background-color: #434B5C;\n",
              "      box-shadow: 0px 1px 3px 1px rgba(0, 0, 0, 0.15);\n",
              "      filter: drop-shadow(0px 1px 2px rgba(0, 0, 0, 0.3));\n",
              "      fill: #FFFFFF;\n",
              "    }\n",
              "  </style>\n",
              "\n",
              "    <script>\n",
              "      const buttonEl =\n",
              "        document.querySelector('#df-17c78cab-b18c-4bb8-8606-0f736357b98e button.colab-df-convert');\n",
              "      buttonEl.style.display =\n",
              "        google.colab.kernel.accessAllowed ? 'block' : 'none';\n",
              "\n",
              "      async function convertToInteractive(key) {\n",
              "        const element = document.querySelector('#df-17c78cab-b18c-4bb8-8606-0f736357b98e');\n",
              "        const dataTable =\n",
              "          await google.colab.kernel.invokeFunction('convertToInteractive',\n",
              "                                                    [key], {});\n",
              "        if (!dataTable) return;\n",
              "\n",
              "        const docLinkHtml = 'Like what you see? Visit the ' +\n",
              "          '<a target=\"_blank\" href=https://colab.research.google.com/notebooks/data_table.ipynb>data table notebook</a>'\n",
              "          + ' to learn more about interactive tables.';\n",
              "        element.innerHTML = '';\n",
              "        dataTable['output_type'] = 'display_data';\n",
              "        await google.colab.output.renderOutput(dataTable, element);\n",
              "        const docLink = document.createElement('div');\n",
              "        docLink.innerHTML = docLinkHtml;\n",
              "        element.appendChild(docLink);\n",
              "      }\n",
              "    </script>\n",
              "  </div>\n",
              "\n",
              "    </div>\n",
              "  </div>\n"
            ]
          },
          "metadata": {},
          "execution_count": 32
        }
      ]
    },
    {
      "cell_type": "markdown",
      "source": [
        "So there was just one episode with 'moon' and 'waves', and this episode also included palm trees.\n",
        "\n",
        "If your want to find such specific implications (that cover just one object from the data), think about specifiyng minimal support parameter (i.e. `min_supp`) when computing intents."
      ],
      "metadata": {
        "id": "lvCw9gnkx4UA"
      }
    },
    {
      "cell_type": "markdown",
      "source": [
        "### Passkeys\n",
        "\n",
        "When there are many keys corresponding to the same intent, we might want to look at the smallest of the keys. We call such smallest key a **passkey** (the word is a synonym to a \"lockpick\").\n",
        "\n",
        "More formally, **passkey** is a key of minimal size."
      ],
      "metadata": {
        "id": "-Hl0s818zA9W"
      }
    },
    {
      "cell_type": "code",
      "source": [
        "# First the index of the intent with the maximal difference in key sizes\n",
        "i = pd.Series([max(key.count() for key in keys) - min(key.count() for key in keys) for keys in keys_per_intent[:-1]]).idxmax()\n",
        "\n",
        "print('Intent:', verbose(intents_ba[i]))\n",
        "print('Keys:', [verbose(key) for key in keys_per_intent[i]])"
      ],
      "metadata": {
        "colab": {
          "base_uri": "https://localhost:8080/"
        },
        "id": "UDDJFv9Hzbme",
        "outputId": "1ce7ac80-d52a-4c44-f97c-b9dc0f9b3357"
      },
      "execution_count": 33,
      "outputs": [
        {
          "output_type": "stream",
          "name": "stdout",
          "text": [
            "Intent: deciduous,framed,grass,lake,mountain,snowy_mountain,tree,wood_framed\n",
            "Keys: ['wood_framed', 'deciduous,framed,grass,lake,snowy_mountain']\n"
          ]
        }
      ]
    },
    {
      "cell_type": "markdown",
      "source": [
        "So both 'wood_framed' and 'deciduous,framed,grass,lake,snowy_mountain' are minimal descriptions: one cannot remove a single attribute from these descriptions and still describe the same set of paintings.\n",
        "\n",
        "However, 'wood_framed' is a much shorter description that 'deciduous,framed,grass,lake,snowy_mountain'. So, in this case, both descriptions are keys, but 'wood_framed' is also a _passkey_."
      ],
      "metadata": {
        "id": "1DZg0eR_0V3m"
      }
    },
    {
      "cell_type": "markdown",
      "source": [
        "# Implications"
      ],
      "metadata": {
        "id": "ORJjCaSgft9M"
      }
    },
    {
      "cell_type": "markdown",
      "source": [
        "## Proper premises\n",
        "\n",
        "Proper premise $P$ is a subset of attributes $M$ that is 1) not closed, and 2) whose closure contains attributes, found neither in the closures of subsets of $P$ nor in $P$ itself.\n",
        "\n",
        "Mathematically,\n",
        "$$\\forall P \\subseteq M, P \\text{ is a proper premise} \\iff P'' \\neq P \\text{ and }\\bigcup_{D \\subset P} D'' \\neq P''.$$\n",
        "\n",
        "The set of proper premises, together with their closures form a **proper premise bass** or **direct canonical basis**. So all the implication in the data can be derived from the proper premises (and their closures) by appliying Armstrong rules."
      ],
      "metadata": {
        "id": "vXAf_jbhfzqN"
      }
    },
    {
      "cell_type": "markdown",
      "source": [
        "**Finding proper premises**\n",
        "\n",
        "One can show that every proper premise is a key:\n",
        "$$\\forall P \\subseteq M, P \\text{ is a proper premise} \\implies P \\text{ is a key}.$$\n",
        "\n",
        "So, the simplest way to find the proper premises is:\n",
        "1. Find all the keys (for example, via the algorithm above)\n",
        "2. For every key $D$ in the set of keys $\\mathbb{D}$:\n",
        "  * Check that $D$ is not closed, i.e. $D\\neq D''$,\n",
        "  * Check that $D''$ contains attributes, found neither in the lesser intent, nor in $D$:\n",
        "$$ D \\cup \\bigcup_{m \\in D} (D \\setminus \\{m\\})'' \\neq D''$$\n",
        "  * If key $D$ passed two previous checks, then it is also a proper premise.\n",
        "\n",
        "The analogous algorithm is used in `caspailleur` package (source code: https://github.com/EgorDudyrev/caspailleur/blob/6848fd05479a003337ca41bee8c5db66064147f1/caspailleur/implication_bases.py#L93)"
      ],
      "metadata": {
        "id": "yw-6yS02dmzT"
      }
    },
    {
      "cell_type": "code",
      "source": [
        "itemsets_ba = csp.np2bas(df.values)\n",
        "intents_ba = csp.list_intents_via_LCM(itemsets_ba, min_supp=0.05)  # Do not find intents that cover less than 5% of the objects, as they will produce too specific implications\n",
        "keys_dict = csp.list_keys(intents_ba)\n",
        "keys_dict = {key: intent_i for key, intent_i in keys_dict.items() if not intents_ba[intent_i].all()}  # Filter out keys corresponding to the bottom concept\n",
        "\n",
        "proper_premises = list(csp.iter_proper_premises_via_keys(intents_ba, keys_dict))\n",
        "print('# proper premises', len(proper_premises))"
      ],
      "metadata": {
        "id": "I7aHMPuOO5PD",
        "colab": {
          "base_uri": "https://localhost:8080/"
        },
        "outputId": "ca9c7d6b-81e2-438b-8585-b80266818084"
      },
      "execution_count": 34,
      "outputs": [
        {
          "output_type": "stream",
          "name": "stdout",
          "text": [
            "# proper premises 49\n"
          ]
        }
      ]
    },
    {
      "cell_type": "code",
      "source": [
        "for premise, intent_i in proper_premises:\n",
        "  conclusion = intents_ba[intent_i] & ~premise\n",
        "  print(verbose(premise), '=>', verbose(conclusion))"
      ],
      "metadata": {
        "colab": {
          "base_uri": "https://localhost:8080/"
        },
        "id": "4UFKnTlKPLvb",
        "outputId": "044dfbac-4952-4969-8ed9-aadf094dab5c"
      },
      "execution_count": 35,
      "outputs": [
        {
          "output_type": "stream",
          "name": "stdout",
          "text": [
            "beach => ocean\n",
            "bushes => tree\n",
            "cabin => tree\n",
            "conifer => tree\n",
            "deciduous => tree\n",
            "fog => tree\n",
            "oval_frame => framed\n",
            "river => tree\n",
            "snow => tree\n",
            "snowy_mountain => mountain\n",
            "trees => tree\n",
            "waterfall => tree\n",
            "waves => ocean\n",
            "winter => tree\n",
            "bushes,conifer => tree,trees\n",
            "cabin,mountain => tree,trees\n",
            "clouds,mountains => mountain\n",
            "conifer,deciduous => tree,trees\n",
            "conifer,framed => tree,trees\n",
            "cumulus,mountains => clouds,mountain,tree\n",
            "cumulus,river => clouds,tree,trees\n",
            "deciduous,mountains => mountain,tree\n",
            "deciduous,winter => snow,tree\n",
            "grass,mountains => mountain,tree\n",
            "grass,structure => tree\n",
            "lake,mountains => tree\n",
            "lake,structure => tree\n",
            "mountain,structure => cabin,tree,trees\n",
            "mountains,river => mountain,tree\n",
            "mountains,snowy_mountain => mountain,tree\n",
            "path,structure => tree\n",
            "bushes,clouds,lake => tree,trees\n",
            "bushes,clouds,mountains => mountain,tree,trees\n",
            "bushes,grass,mountain => tree,trees\n",
            "cabin,conifer,lake => tree,trees\n",
            "clouds,conifer,river => tree,trees\n",
            "clouds,conifer,snowy_mountain => mountain,tree,trees\n",
            "clouds,conifer,structure => cabin,tree\n",
            "clouds,deciduous,grass => tree,trees\n",
            "clouds,grass,river => tree,trees\n",
            "conifer,cumulus,snowy_mountain => mountain,tree,trees\n",
            "conifer,mountain,snow => tree,trees\n",
            "conifer,mountain,winter => tree,trees\n",
            "conifer,mountains,river => mountain,tree,trees\n",
            "conifer,mountains,snowy_mountain => mountain,tree,trees\n",
            "conifer,snow,snowy_mountain => mountain,tree,trees\n",
            "conifer,snowy_mountain,winter => mountain,tree,trees\n",
            "bushes,mountains,snowy_mountain,trees => conifer,mountain,tree\n",
            "clouds,mountains,snowy_mountain,trees => conifer,mountain,tree\n"
          ]
        }
      ]
    },
    {
      "cell_type": "markdown",
      "source": [
        "## Pseudo-intents\n",
        "\n",
        "\n",
        "Pseudo-intent $P$ is a subset of attributes $M$ that is 1) not closed, and 2) contains the closures of all lesser pseudo-intents.\n",
        "\n",
        "Mathematically,\n",
        "$$\\forall P \\subseteq M, P \\text{ is a pseudo-intent} \\iff P'' \\neq P \\text{ and } Q'' \\subset P \\text{ for every pseudo-intent } Q \\subset P.$$\n",
        "\n",
        "The set of pseudo-intents, together with their closures form a **pseudo-intent basis** or **Duquenne-Guigues basis** or **canonical basis** or **stembase**. So all the implication in the data can be derived from the proper premises (and their closures) by appliying Armstrong rules.\n",
        "\n",
        "An important property of this basis is that it is _cardinality-minimal_. That is it contains the smallest amount of implications. The drawback is that this basis is sometimes hard to compute."
      ],
      "metadata": {
        "id": "urSIKnnmf1mv"
      }
    },
    {
      "cell_type": "markdown",
      "source": [
        "**Finding pseudo-intents**\n",
        "\n",
        "One can show that every pseudo-intent is a saturated key. That is, given a set of (lesser) pseudo-intents $\\mathbb{P}$, and a set of keys $\\mathbb{D}$:\n",
        "$$\\forall P \\subseteq M, P \\text{ is a pseudo-intent } \\implies \\exists D \\in \\mathbb{D}, \\text{saturate}(D, \\mathbb{P}) = P.$$\n",
        "\n",
        "The function $\\text{saturate}(D, \\mathbb{P})$ updates description $D$ so that it would satisfy implications from $\\mathbb{P}$.\n",
        "\n",
        "Algorithm of **saturating** $D$ with $\\mathbb{P}$:\n",
        "0. Initialise $D_\\text{sat} = D$,\n",
        "1. Find a premise $P \\in \\mathbb{P}$ such that $P \\subset D_\\text{sat}, P'' \\not \\subset D_\\text{sat}$,\n",
        "2. Replace $D_\\text{sat}$ with $D_\\text{sat} \\cup P''$\n",
        "3. Repeat steps 1-2 untill no premises found in step 1 (i.e. repeat while $\\exists P \\in \\mathbb{P}, \\text{ s.t. } P \\subset D_\\text{sat}, P'' \\not \\subset D_\\text{sat})$)\n",
        "The resulting $D_\\text{sat}$ would be a saturated version of description $D$, w.r.t. premises $\\mathbb{P}$.\n",
        "\n",
        "There are many algorithms aimed to find all pseudo-intents in an optimal way.\n",
        "Here, we provide an algorithm, that might be not optimal but relatively simple.\n",
        "\n",
        "Algorithm to **compute all pseudo-intents**\n",
        "0. Initialise the set of pseudo-intents $\\mathbb{P} = \\emptyset$;\n",
        "1. Iterate through every key $D$ in the data, ordered by increasing cardinality:\n",
        "  * Compute the saturated version of the key: $D_\\text{sat} = \\text{saturate}(D, \\mathbb{P})$,\n",
        "  * Check if the saturated key is not closed $D_\\text{sat}'' \\neq D_\\text{sat}$,\n",
        "  * If $D_\\text{sat}$ has passed the previous check then it is a pseudo-intent. So add it to the set $\\mathbb{P}$, otherwise go to the next key $D$ in Step 1.\n",
        "  * Go through every pseudo-intent $P \\in \\mathbb{P}$, and replace it with its new saturated version $P_\\text{sat} = \\text{saturate}(P, \\mathbb{P})$;\n",
        "  * Remove the pseudo-intents $P \\in \\mathbb{P}$ that now became closed (i.e. P''=P).\n",
        "In the end, the set $\\mathbb{P}$ would contain all pseudo-intents from the context.\n",
        "\n",
        "The analogous algorithm is used in `caspailleur` package (source code: https://github.com/EgorDudyrev/caspailleur/blob/6848fd05479a003337ca41bee8c5db66064147f1/caspailleur/implication_bases.py#L116)"
      ],
      "metadata": {
        "id": "8tIhf7hu99QV"
      }
    },
    {
      "cell_type": "code",
      "source": [
        "itemsets_ba = csp.np2bas(df.values)\n",
        "intents_ba = csp.list_intents_via_LCM(itemsets_ba, min_supp=0.05)  # Do not find intents that cover less than 5% of the objects, as they will produce too specific implications\n",
        "keys_dict = csp.list_keys(intents_ba)\n",
        "keys_dict = {key: intent_i for key, intent_i in keys_dict.items() if not intents_ba[intent_i].all()}  # Filter out keys corresponding to the bottom concept\n",
        "\n",
        "pseudo_intents = csp.list_pseudo_intents_via_keys(keys_dict.items(), intents_ba, use_tqdm=True, n_keys=len(keys_dict))\n",
        "print()\n",
        "print('# pseudo-intents', len(pseudo_intents))"
      ],
      "metadata": {
        "id": "JdqUDJMHPn_Y",
        "colab": {
          "base_uri": "https://localhost:8080/"
        },
        "outputId": "c11bebec-915f-4429-b657-8b837a98e2d1"
      },
      "execution_count": 36,
      "outputs": [
        {
          "output_type": "stream",
          "name": "stderr",
          "text": [
            "Iterate p.intent candidates: 100%|██████████| 540/540 [00:00<00:00, 9101.78it/s]"
          ]
        },
        {
          "output_type": "stream",
          "name": "stdout",
          "text": [
            "\n",
            "# pseudo-intents 47\n"
          ]
        },
        {
          "output_type": "stream",
          "name": "stderr",
          "text": [
            "\n"
          ]
        }
      ]
    },
    {
      "cell_type": "markdown",
      "source": [
        "So we have 47 pseudo-intents versus 49 proper premises"
      ],
      "metadata": {
        "id": "IZQE3jLFJNb4"
      }
    },
    {
      "cell_type": "code",
      "source": [
        "for pintent, intent_i in pseudo_intents:\n",
        "  conclusion = intents_ba[intent_i] & ~pintent\n",
        "  print(verbose(pintent), '=>', verbose(conclusion))"
      ],
      "metadata": {
        "colab": {
          "base_uri": "https://localhost:8080/"
        },
        "id": "QgE9dwreH__N",
        "outputId": "e6b653d8-e0ea-47d6-a6b1-866a25fc57b2"
      },
      "execution_count": 37,
      "outputs": [
        {
          "output_type": "stream",
          "name": "stdout",
          "text": [
            "winter => tree\n",
            "waves => ocean\n",
            "waterfall => tree\n",
            "trees => tree\n",
            "snowy_mountain => mountain\n",
            "snow => tree\n",
            "river => tree\n",
            "oval_frame => framed\n",
            "fog => tree\n",
            "deciduous => tree\n",
            "conifer => tree\n",
            "cabin => tree\n",
            "bushes => tree\n",
            "beach => ocean\n",
            "path,structure => tree\n",
            "mountain,structure => cabin,tree,trees\n",
            "lake,structure => tree\n",
            "lake,mountains => tree\n",
            "grass,structure => tree\n",
            "grass,mountains => mountain,tree\n",
            "cumulus,mountains => clouds,mountain,tree\n",
            "clouds,mountains => mountain\n",
            "mountain,mountains,snowy_mountain => tree\n",
            "mountains,river,tree => mountain\n",
            "deciduous,tree,winter => snow\n",
            "deciduous,mountains,tree => mountain\n",
            "cumulus,river,tree => clouds,trees\n",
            "conifer,framed,tree => trees\n",
            "conifer,deciduous,tree => trees\n",
            "cabin,mountain,tree => trees\n",
            "bushes,conifer,tree => trees\n",
            "conifer,mountain,tree,winter => trees\n",
            "conifer,mountain,snow,tree => trees\n",
            "clouds,grass,river,tree => trees\n",
            "clouds,deciduous,grass,tree => trees\n",
            "clouds,conifer,structure,tree => cabin\n",
            "clouds,conifer,river,tree => trees\n",
            "cabin,conifer,lake,tree => trees\n",
            "bushes,grass,mountain,tree => trees\n",
            "bushes,clouds,lake,tree => trees\n",
            "conifer,mountain,mountains,snowy_mountain,tree => trees\n",
            "conifer,mountain,mountains,river,tree => trees\n",
            "conifer,cumulus,mountain,snowy_mountain,tree => trees\n",
            "clouds,conifer,mountain,snowy_mountain,tree => trees\n",
            "bushes,clouds,mountain,mountains,tree => trees\n",
            "clouds,mountain,mountains,snowy_mountain,tree,trees => conifer\n",
            "bushes,mountain,mountains,snowy_mountain,tree,trees => conifer\n"
          ]
        }
      ]
    }
  ]
}