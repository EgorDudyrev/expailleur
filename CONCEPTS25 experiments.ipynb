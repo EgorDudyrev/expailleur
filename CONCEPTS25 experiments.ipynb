{
 "cells": [
  {
   "cell_type": "markdown",
   "id": "c923b86e-fd57-4064-916e-0ac8e9850c20",
   "metadata": {},
   "source": [
    "The notebook runs the benchmark experiments for the paper on Atomic Patterns for CONCEPTS'25 conference."
   ]
  },
  {
   "cell_type": "code",
   "execution_count": 1,
   "id": "1152b57a-30f8-4e7a-9993-6f235c38b9aa",
   "metadata": {},
   "outputs": [
    {
     "name": "stdout",
     "output_type": "stream",
     "text": [
      "======================================== System Information ========================================\n",
      "System: Darwin\n",
      "Node Name: macegor.loria.fr\n",
      "Release: 24.5.0\n",
      "Version: Darwin Kernel Version 24.5.0: Tue Apr 22 19:54:25 PDT 2025; root:xnu-11417.121.6~2/RELEASE_ARM64_T6020\n",
      "Machine: arm64\n",
      "Processor: arm\n",
      "======================================== CPU Info ========================================\n",
      "Physical cores: 12\n",
      "Total cores: 12\n"
     ]
    }
   ],
   "source": [
    "import platform\n",
    "import psutil\n",
    "\n",
    "print(\"=\"*40, \"System Information\", \"=\"*40)\n",
    "uname = platform.uname()\n",
    "print(f\"System: {uname.system}\")\n",
    "print(f\"Node Name: {uname.node}\")\n",
    "print(f\"Release: {uname.release}\")\n",
    "print(f\"Version: {uname.version}\")\n",
    "print(f\"Machine: {uname.machine}\")\n",
    "print(f\"Processor: {uname.processor}\")\n",
    "\n",
    "# let's print CPU information\n",
    "print(\"=\"*40, \"CPU Info\", \"=\"*40)\n",
    "# number of cores\n",
    "print(\"Physical cores:\", psutil.cpu_count(logical=False))\n",
    "print(\"Total cores:\", psutil.cpu_count(logical=True))"
   ]
  },
  {
   "cell_type": "code",
   "execution_count": 2,
   "id": "5992e86d-7f31-4b11-b472-b8b25732abbb",
   "metadata": {},
   "outputs": [],
   "source": [
    "!pip install --upgrade --quiet paspailleur==0.1.0"
   ]
  },
  {
   "cell_type": "markdown",
   "id": "d757188f-119c-418f-82e0-fab5ab3492a9",
   "metadata": {},
   "source": [
    "# Prepare the data"
   ]
  },
  {
   "cell_type": "markdown",
   "id": "b59db5f0-48b7-499b-861e-d605390808a5",
   "metadata": {},
   "source": [
    "## Download the data"
   ]
  },
  {
   "cell_type": "code",
   "execution_count": 3,
   "id": "b60be1ee-92f7-486b-b3e7-60d404a9fcc3",
   "metadata": {},
   "outputs": [
    {
     "data": {
      "text/html": [
       "<div>\n",
       "<style scoped>\n",
       "    .dataframe tbody tr th:only-of-type {\n",
       "        vertical-align: middle;\n",
       "    }\n",
       "\n",
       "    .dataframe tbody tr th {\n",
       "        vertical-align: top;\n",
       "    }\n",
       "\n",
       "    .dataframe thead th {\n",
       "        text-align: right;\n",
       "    }\n",
       "</style>\n",
       "<table border=\"1\" class=\"dataframe\">\n",
       "  <thead>\n",
       "    <tr style=\"text-align: right;\">\n",
       "      <th></th>\n",
       "      <th>Survived</th>\n",
       "      <th>Pclass</th>\n",
       "      <th>Name</th>\n",
       "      <th>Sex</th>\n",
       "      <th>Age</th>\n",
       "      <th>SibSp</th>\n",
       "      <th>Parch</th>\n",
       "      <th>Ticket</th>\n",
       "      <th>Fare</th>\n",
       "      <th>Cabin</th>\n",
       "      <th>Embarked</th>\n",
       "    </tr>\n",
       "    <tr>\n",
       "      <th>PassengerId</th>\n",
       "      <th></th>\n",
       "      <th></th>\n",
       "      <th></th>\n",
       "      <th></th>\n",
       "      <th></th>\n",
       "      <th></th>\n",
       "      <th></th>\n",
       "      <th></th>\n",
       "      <th></th>\n",
       "      <th></th>\n",
       "      <th></th>\n",
       "    </tr>\n",
       "  </thead>\n",
       "  <tbody>\n",
       "    <tr>\n",
       "      <th>1</th>\n",
       "      <td>0</td>\n",
       "      <td>3</td>\n",
       "      <td>Braund, Mr. Owen Harris</td>\n",
       "      <td>male</td>\n",
       "      <td>22.0</td>\n",
       "      <td>1</td>\n",
       "      <td>0</td>\n",
       "      <td>A/5 21171</td>\n",
       "      <td>7.2500</td>\n",
       "      <td>NaN</td>\n",
       "      <td>S</td>\n",
       "    </tr>\n",
       "    <tr>\n",
       "      <th>2</th>\n",
       "      <td>1</td>\n",
       "      <td>1</td>\n",
       "      <td>Cumings, Mrs. John Bradley (Florence Briggs Th...</td>\n",
       "      <td>female</td>\n",
       "      <td>38.0</td>\n",
       "      <td>1</td>\n",
       "      <td>0</td>\n",
       "      <td>PC 17599</td>\n",
       "      <td>71.2833</td>\n",
       "      <td>C85</td>\n",
       "      <td>C</td>\n",
       "    </tr>\n",
       "    <tr>\n",
       "      <th>3</th>\n",
       "      <td>1</td>\n",
       "      <td>3</td>\n",
       "      <td>Heikkinen, Miss. Laina</td>\n",
       "      <td>female</td>\n",
       "      <td>26.0</td>\n",
       "      <td>0</td>\n",
       "      <td>0</td>\n",
       "      <td>STON/O2. 3101282</td>\n",
       "      <td>7.9250</td>\n",
       "      <td>NaN</td>\n",
       "      <td>S</td>\n",
       "    </tr>\n",
       "    <tr>\n",
       "      <th>4</th>\n",
       "      <td>1</td>\n",
       "      <td>1</td>\n",
       "      <td>Futrelle, Mrs. Jacques Heath (Lily May Peel)</td>\n",
       "      <td>female</td>\n",
       "      <td>35.0</td>\n",
       "      <td>1</td>\n",
       "      <td>0</td>\n",
       "      <td>113803</td>\n",
       "      <td>53.1000</td>\n",
       "      <td>C123</td>\n",
       "      <td>S</td>\n",
       "    </tr>\n",
       "    <tr>\n",
       "      <th>5</th>\n",
       "      <td>0</td>\n",
       "      <td>3</td>\n",
       "      <td>Allen, Mr. William Henry</td>\n",
       "      <td>male</td>\n",
       "      <td>35.0</td>\n",
       "      <td>0</td>\n",
       "      <td>0</td>\n",
       "      <td>373450</td>\n",
       "      <td>8.0500</td>\n",
       "      <td>NaN</td>\n",
       "      <td>S</td>\n",
       "    </tr>\n",
       "  </tbody>\n",
       "</table>\n",
       "</div>"
      ],
      "text/plain": [
       "             Survived  Pclass  \\\n",
       "PassengerId                     \n",
       "1                   0       3   \n",
       "2                   1       1   \n",
       "3                   1       3   \n",
       "4                   1       1   \n",
       "5                   0       3   \n",
       "\n",
       "                                                          Name     Sex   Age  \\\n",
       "PassengerId                                                                    \n",
       "1                                      Braund, Mr. Owen Harris    male  22.0   \n",
       "2            Cumings, Mrs. John Bradley (Florence Briggs Th...  female  38.0   \n",
       "3                                       Heikkinen, Miss. Laina  female  26.0   \n",
       "4                 Futrelle, Mrs. Jacques Heath (Lily May Peel)  female  35.0   \n",
       "5                                     Allen, Mr. William Henry    male  35.0   \n",
       "\n",
       "             SibSp  Parch            Ticket     Fare Cabin Embarked  \n",
       "PassengerId                                                          \n",
       "1                1      0         A/5 21171   7.2500   NaN        S  \n",
       "2                1      0          PC 17599  71.2833   C85        C  \n",
       "3                0      0  STON/O2. 3101282   7.9250   NaN        S  \n",
       "4                1      0            113803  53.1000  C123        S  \n",
       "5                0      0            373450   8.0500   NaN        S  "
      ]
     },
     "execution_count": 3,
     "metadata": {},
     "output_type": "execute_result"
    }
   ],
   "source": [
    "import pandas as pd\n",
    "\n",
    "url = 'https://raw.githubusercontent.com/datasciencedojo/datasets/refs/heads/master/titanic.csv'\n",
    "df = pd.read_csv(url, index_col=0)\n",
    "df.head()"
   ]
  },
  {
   "cell_type": "code",
   "execution_count": 4,
   "id": "60e3e48a-0a52-4ea6-9aae-19a3a78827d0",
   "metadata": {},
   "outputs": [],
   "source": [
    "df = df.drop(columns=['Embarked'])  # remove categorical column as CategorySetPattern is not covered in the paper\n",
    "df['Sex'] = df['Sex']=='male'  # convert categorical column to numerical one\n",
    "df['Fare'] = df['Fare'].astype(int)  # the only discretisation we run"
   ]
  },
  {
   "cell_type": "markdown",
   "id": "6c736ad0-c068-4ccf-9d96-3ba1f8ad6f8e",
   "metadata": {},
   "source": [
    "Match every column to one of the build-in Patterns"
   ]
  },
  {
   "cell_type": "markdown",
   "id": "26f0ea6c-7c8e-4ad7-bd5e-cfc19c5f8d7b",
   "metadata": {},
   "source": [
    "## Define patterns for every column"
   ]
  },
  {
   "cell_type": "code",
   "execution_count": 5,
   "id": "8055d31b-3a77-4d6f-8bfe-71f4fad4fedc",
   "metadata": {},
   "outputs": [],
   "source": [
    "from paspailleur.pattern_structures import built_in_patterns as bip"
   ]
  },
  {
   "cell_type": "code",
   "execution_count": 6,
   "id": "fc451134-d221-44e9-9af3-df70c35b8a42",
   "metadata": {},
   "outputs": [],
   "source": [
    "class SurvivedPattern(bip.IntervalPattern):\n",
    "    BoundsUniverse = tuple(sorted(df['Survived'].unique()))\n",
    "\n",
    "class PclassPattern(bip.IntervalPattern):\n",
    "    BoundsUniverse = tuple(sorted(df['Pclass'].unique()))\n",
    "\n",
    "class NamePattern(bip.NgramSetPattern):\n",
    "    ...\n",
    "\n",
    "class SexPattern(bip.IntervalPattern):\n",
    "    BoundsUniverse = tuple(sorted(df['Sex'].unique()))\n",
    "\n",
    "class AgePattern(bip.IntervalPattern):\n",
    "    BoundsUniverse = tuple(sorted(df['Age'].unique()))\n",
    "\n",
    "class SibSpPattern(bip.IntervalPattern):\n",
    "    BoundsUniverse = tuple(sorted(df['SibSp'].unique()))\n",
    "\n",
    "class ParchPattern(bip.IntervalPattern):\n",
    "    BoundsUniverse = tuple(sorted(df['Parch'].unique()))\n",
    "\n",
    "class TicketPattern(bip.NgramSetPattern):\n",
    "    def parse_string_description(self, value: str) -> set[tuple[str, ...]]:\n",
    "        return {('<start>',)+ tuple(value) + ('<stop>',)}\n",
    "\n",
    "    def __repr__(self):\n",
    "        txt = [''.join(seq) for seq in self.value]\n",
    "        pattern_verb = \"{'\" + \"', '\".join(txt) + \"'}\"\n",
    "        return pattern_verb\n",
    "\n",
    "class FarePattern(bip.IntervalPattern):\n",
    "    BoundsUniverse = tuple(sorted(df['Fare'].unique()))\n",
    "\n",
    "class CabinPattern(bip.NgramSetPattern):\n",
    "    def parse_string_description(self, value: str) -> set[tuple[str, ...]]:\n",
    "        return {('<start>',) + tuple(value) + ('<stop>',)}\n",
    "\n",
    "    def __repr__(self):\n",
    "        txt = [''.join(seq) for seq in self.value]\n",
    "        pattern_verb = \"{'\" + \"', '\".join(txt) + \"'}\"\n",
    "        return pattern_verb\n",
    "\n",
    "\n",
    "class PassengerPattern(bip.CartesianPattern):\n",
    "    DimensionTypes = {\n",
    "        'Survived': SurvivedPattern, 'Pclass': PclassPattern, 'Name': NamePattern,\n",
    "        'Sex': SexPattern, 'Age': AgePattern, 'SibSp': SibSpPattern, 'Parch': ParchPattern,\n",
    "        'Ticket': TicketPattern, 'Fare': FarePattern, 'Cabin': CabinPattern,\n",
    "    }"
   ]
  },
  {
   "cell_type": "code",
   "execution_count": 7,
   "id": "2ad446eb-d1de-4f21-9cde-906c9741b033",
   "metadata": {},
   "outputs": [],
   "source": [
    "for f in df.columns:\n",
    "    # replace the None values with minimal patterns per dimension\n",
    "    df[f] = df[f].fillna(PassengerPattern.DimensionTypes[f].get_min_pattern())"
   ]
  },
  {
   "cell_type": "markdown",
   "id": "7f6c68e0-b1db-438a-8e29-bc0a864519f6",
   "metadata": {},
   "source": [
    "## Compute statistics on the data: Table 2 in the paper"
   ]
  },
  {
   "cell_type": "code",
   "execution_count": 8,
   "id": "a8b4e8dc-1427-4f6e-a9c5-da8a230d0cea",
   "metadata": {},
   "outputs": [
    {
     "data": {
      "application/vnd.jupyter.widget-view+json": {
       "model_id": "6f259dd40e874c4baa981c6f85d9a6c8",
       "version_major": 2,
       "version_minor": 0
      },
      "text/plain": [
       "Compute atomic extents:   0%|          | 0/891 [00:00<?, ?it/s]"
      ]
     },
     "metadata": {},
     "output_type": "display_data"
    },
    {
     "data": {
      "application/vnd.jupyter.widget-view+json": {
       "model_id": "2dff9475453341279589bf6666be742e",
       "version_major": 2,
       "version_minor": 0
      },
      "text/plain": [
       "Compute order of patterns:   0%|          | 0/20947 [00:00<?, ?it/s]"
      ]
     },
     "metadata": {},
     "output_type": "display_data"
    },
    {
     "name": "stdout",
     "output_type": "stream",
     "text": [
      "CPU times: user 25 s, sys: 553 ms, total: 25.5 s\n",
      "Wall time: 25.7 s\n"
     ]
    }
   ],
   "source": [
    "%%time\n",
    "from paspailleur.pattern_structures.pattern_structure import PatternStructure\n",
    "\n",
    "ps = PatternStructure(PassengerPattern)\n",
    "ps.fit(df.to_dict('index'), use_tqdm=True, min_atom_support=1)"
   ]
  },
  {
   "cell_type": "code",
   "execution_count": 9,
   "id": "a38d6398-14dc-4e77-8c11-2812b61d585d",
   "metadata": {},
   "outputs": [
    {
     "data": {
      "text/html": [
       "<div>\n",
       "<style scoped>\n",
       "    .dataframe tbody tr th:only-of-type {\n",
       "        vertical-align: middle;\n",
       "    }\n",
       "\n",
       "    .dataframe tbody tr th {\n",
       "        vertical-align: top;\n",
       "    }\n",
       "\n",
       "    .dataframe thead th {\n",
       "        text-align: right;\n",
       "    }\n",
       "</style>\n",
       "<table border=\"1\" class=\"dataframe\">\n",
       "  <thead>\n",
       "    <tr style=\"text-align: right;\">\n",
       "      <th></th>\n",
       "      <th>type</th>\n",
       "      <th>count</th>\n",
       "    </tr>\n",
       "  </thead>\n",
       "  <tbody>\n",
       "    <tr>\n",
       "      <th>Ticket</th>\n",
       "      <td>Sequence</td>\n",
       "      <td>11601</td>\n",
       "    </tr>\n",
       "    <tr>\n",
       "      <th>Name</th>\n",
       "      <td>Sequence</td>\n",
       "      <td>7279</td>\n",
       "    </tr>\n",
       "    <tr>\n",
       "      <th>Cabin</th>\n",
       "      <td>Sequence</td>\n",
       "      <td>1281</td>\n",
       "    </tr>\n",
       "    <tr>\n",
       "      <th>Fare</th>\n",
       "      <td>Interval</td>\n",
       "      <td>362</td>\n",
       "    </tr>\n",
       "    <tr>\n",
       "      <th>Age</th>\n",
       "      <td>Interval</td>\n",
       "      <td>350</td>\n",
       "    </tr>\n",
       "    <tr>\n",
       "      <th>SibSp</th>\n",
       "      <td>Interval</td>\n",
       "      <td>26</td>\n",
       "    </tr>\n",
       "    <tr>\n",
       "      <th>Parch</th>\n",
       "      <td>Interval</td>\n",
       "      <td>26</td>\n",
       "    </tr>\n",
       "    <tr>\n",
       "      <th>Pclass</th>\n",
       "      <td>Interval</td>\n",
       "      <td>10</td>\n",
       "    </tr>\n",
       "    <tr>\n",
       "      <th>Survived</th>\n",
       "      <td>Interval</td>\n",
       "      <td>6</td>\n",
       "    </tr>\n",
       "    <tr>\n",
       "      <th>Sex</th>\n",
       "      <td>Interval</td>\n",
       "      <td>6</td>\n",
       "    </tr>\n",
       "  </tbody>\n",
       "</table>\n",
       "</div>"
      ],
      "text/plain": [
       "              type  count\n",
       "Ticket    Sequence  11601\n",
       "Name      Sequence   7279\n",
       "Cabin     Sequence   1281\n",
       "Fare      Interval    362\n",
       "Age       Interval    350\n",
       "SibSp     Interval     26\n",
       "Parch     Interval     26\n",
       "Pclass    Interval     10\n",
       "Survived  Interval      6\n",
       "Sex       Interval      6"
      ]
     },
     "execution_count": 9,
     "metadata": {},
     "output_type": "execute_result"
    }
   ],
   "source": [
    "atoms_df = pd.Series([next(iter(atom.value)) for atom in ps.atomic_patterns]).value_counts()\n",
    "#atoms_df = atoms_df.reset_index()\n",
    "atoms_df = atoms_df.to_frame()\n",
    "for f in ['Ticket', 'Name', 'Cabin']:\n",
    "    atoms_df.loc[f, 'type'] = 'Sequence'\n",
    "atoms_df['type'] = atoms_df['type'].fillna('Interval')\n",
    "\n",
    "atoms_df = atoms_df[['type', 'count']]\n",
    "atoms_df = atoms_df.sort_values(['type', 'count'], ascending=False)\n",
    "atoms_df"
   ]
  },
  {
   "cell_type": "code",
   "execution_count": 10,
   "id": "9b63df00-07ed-4d6c-8bff-8eea90bf6dfb",
   "metadata": {},
   "outputs": [],
   "source": [
    "supmin_atoms,_ = ps._filter_atomic_patterns_by_support('minimal')\n",
    "supmax_atoms, _ = ps._filter_atomic_patterns_by_support('maximal')\n",
    "\n",
    "atoms_df['count sup.min'] = pd.Series([next(iter(atom.value)) for atom in supmin_atoms]).value_counts()\n",
    "atoms_df['count sup.max'] = pd.Series([next(iter(atom.value)) for atom in supmax_atoms]).value_counts()"
   ]
  },
  {
   "cell_type": "code",
   "execution_count": 11,
   "id": "8c417bfc-75d9-4cbb-a18a-234a802c752a",
   "metadata": {},
   "outputs": [],
   "source": [
    "atoms_df.loc['Total'] = atoms_df[['count', 'count sup.min', 'count sup.max']].sum(0).astype(int)\n",
    "for f in ['count sup.min', 'count sup.max', 'count']:\n",
    "    atoms_df[f] = atoms_df[f].astype(int)\n",
    "atoms_df.loc['Total', 'type'] = 'Cartesian'"
   ]
  },
  {
   "cell_type": "code",
   "execution_count": 12,
   "id": "befda31e-3d46-4245-9084-500e46fe8b58",
   "metadata": {},
   "outputs": [
    {
     "data": {
      "text/html": [
       "<div>\n",
       "<style scoped>\n",
       "    .dataframe tbody tr th:only-of-type {\n",
       "        vertical-align: middle;\n",
       "    }\n",
       "\n",
       "    .dataframe tbody tr th {\n",
       "        vertical-align: top;\n",
       "    }\n",
       "\n",
       "    .dataframe thead th {\n",
       "        text-align: right;\n",
       "    }\n",
       "</style>\n",
       "<table border=\"1\" class=\"dataframe\">\n",
       "  <thead>\n",
       "    <tr style=\"text-align: right;\">\n",
       "      <th></th>\n",
       "      <th>type</th>\n",
       "      <th>count</th>\n",
       "      <th>count sup.min</th>\n",
       "      <th>count sup.max</th>\n",
       "    </tr>\n",
       "  </thead>\n",
       "  <tbody>\n",
       "    <tr>\n",
       "      <th>Ticket</th>\n",
       "      <td>Sequence</td>\n",
       "      <td>11601</td>\n",
       "      <td>2359</td>\n",
       "      <td>1790</td>\n",
       "    </tr>\n",
       "    <tr>\n",
       "      <th>Name</th>\n",
       "      <td>Sequence</td>\n",
       "      <td>7279</td>\n",
       "      <td>2517</td>\n",
       "      <td>1427</td>\n",
       "    </tr>\n",
       "    <tr>\n",
       "      <th>Cabin</th>\n",
       "      <td>Sequence</td>\n",
       "      <td>1281</td>\n",
       "      <td>318</td>\n",
       "      <td>276</td>\n",
       "    </tr>\n",
       "    <tr>\n",
       "      <th>Fare</th>\n",
       "      <td>Interval</td>\n",
       "      <td>362</td>\n",
       "      <td>182</td>\n",
       "      <td>182</td>\n",
       "    </tr>\n",
       "    <tr>\n",
       "      <th>Age</th>\n",
       "      <td>Interval</td>\n",
       "      <td>350</td>\n",
       "      <td>176</td>\n",
       "      <td>176</td>\n",
       "    </tr>\n",
       "    <tr>\n",
       "      <th>SibSp</th>\n",
       "      <td>Interval</td>\n",
       "      <td>26</td>\n",
       "      <td>14</td>\n",
       "      <td>14</td>\n",
       "    </tr>\n",
       "    <tr>\n",
       "      <th>Parch</th>\n",
       "      <td>Interval</td>\n",
       "      <td>26</td>\n",
       "      <td>14</td>\n",
       "      <td>14</td>\n",
       "    </tr>\n",
       "    <tr>\n",
       "      <th>Pclass</th>\n",
       "      <td>Interval</td>\n",
       "      <td>10</td>\n",
       "      <td>6</td>\n",
       "      <td>6</td>\n",
       "    </tr>\n",
       "    <tr>\n",
       "      <th>Survived</th>\n",
       "      <td>Interval</td>\n",
       "      <td>6</td>\n",
       "      <td>4</td>\n",
       "      <td>4</td>\n",
       "    </tr>\n",
       "    <tr>\n",
       "      <th>Sex</th>\n",
       "      <td>Interval</td>\n",
       "      <td>6</td>\n",
       "      <td>4</td>\n",
       "      <td>4</td>\n",
       "    </tr>\n",
       "    <tr>\n",
       "      <th>Total</th>\n",
       "      <td>Cartesian</td>\n",
       "      <td>20947</td>\n",
       "      <td>5594</td>\n",
       "      <td>3893</td>\n",
       "    </tr>\n",
       "  </tbody>\n",
       "</table>\n",
       "</div>"
      ],
      "text/plain": [
       "               type  count  count sup.min  count sup.max\n",
       "Ticket     Sequence  11601           2359           1790\n",
       "Name       Sequence   7279           2517           1427\n",
       "Cabin      Sequence   1281            318            276\n",
       "Fare       Interval    362            182            182\n",
       "Age        Interval    350            176            176\n",
       "SibSp      Interval     26             14             14\n",
       "Parch      Interval     26             14             14\n",
       "Pclass     Interval     10              6              6\n",
       "Survived   Interval      6              4              4\n",
       "Sex        Interval      6              4              4\n",
       "Total     Cartesian  20947           5594           3893"
      ]
     },
     "execution_count": 12,
     "metadata": {},
     "output_type": "execute_result"
    }
   ],
   "source": [
    "atoms_df"
   ]
  },
  {
   "cell_type": "code",
   "execution_count": 13,
   "id": "0b51479a-a27d-4054-841c-6ff75ef0a763",
   "metadata": {},
   "outputs": [
    {
     "name": "stdout",
     "output_type": "stream",
     "text": [
      "\\begin{tabular}{llrrr}\n",
      "\\toprule\n",
      " & type & count & count sup.min & count sup.max \\\\\n",
      "\\midrule\n",
      "Ticket & Sequence & 11601 & 2359 & 1790 \\\\\n",
      "Name & Sequence & 7279 & 2517 & 1427 \\\\\n",
      "Cabin & Sequence & 1281 & 318 & 276 \\\\\n",
      "Fare & Interval & 362 & 182 & 182 \\\\\n",
      "Age & Interval & 350 & 176 & 176 \\\\\n",
      "SibSp & Interval & 26 & 14 & 14 \\\\\n",
      "Parch & Interval & 26 & 14 & 14 \\\\\n",
      "Pclass & Interval & 10 & 6 & 6 \\\\\n",
      "Survived & Interval & 6 & 4 & 4 \\\\\n",
      "Sex & Interval & 6 & 4 & 4 \\\\\n",
      "Total & Cartesian & 20947 & 5594 & 3893 \\\\\n",
      "\\bottomrule\n",
      "\\end{tabular}\n",
      "\n"
     ]
    }
   ],
   "source": [
    "print(atoms_df.to_latex())"
   ]
  },
  {
   "cell_type": "markdown",
   "id": "0f54de2d-bec3-4695-b6cb-a25e06d6515a",
   "metadata": {},
   "source": [
    "# Q1. Mining all concepts"
   ]
  },
  {
   "cell_type": "markdown",
   "id": "6541d1c3-583a-4479-b7d9-ed5451b16fcc",
   "metadata": {},
   "source": [
    "## Define the functions to run"
   ]
  },
  {
   "cell_type": "markdown",
   "id": "971cc1ec-3732-4397-9dfa-3ae505ed0199",
   "metadata": {},
   "source": [
    "Packages to track the running of the experiments"
   ]
  },
  {
   "cell_type": "code",
   "execution_count": 14,
   "id": "5dd82733-1810-4ff7-b178-2b9293c3a41b",
   "metadata": {},
   "outputs": [],
   "source": [
    "from tqdm.notebook import tqdm\n",
    "from datetime import datetime\n",
    "from timeout_function_decorator.timeout_decorator import timeout"
   ]
  },
  {
   "cell_type": "code",
   "execution_count": 15,
   "id": "80ed4210-b305-4c8e-8c61-c9173b6216e1",
   "metadata": {},
   "outputs": [],
   "source": [
    "import caspailleur as csp\n",
    "from paspailleur import algorithms as algos"
   ]
  },
  {
   "cell_type": "code",
   "execution_count": 16,
   "id": "86835478-50bb-4584-aec0-0e34fd6e7af4",
   "metadata": {},
   "outputs": [],
   "source": [
    "from bitarray import bitarray, frozenbitarray as fbarray\n",
    "from bitarray.util import zeros"
   ]
  },
  {
   "cell_type": "markdown",
   "id": "8c092f13-28b5-4956-a83d-b7ea40562434",
   "metadata": {},
   "source": [
    "Function to run CbOI algorithm and to abbort the computation if they take more that `timelimit` seconds"
   ]
  },
  {
   "cell_type": "code",
   "execution_count": 17,
   "id": "058a98c1-c0b1-4628-99f3-04005a46c9b2",
   "metadata": {},
   "outputs": [],
   "source": [
    "def mine_atomised_intents_cboi(atomic_patterns, superatoms_order, timelimit=3600, min_support=0):\n",
    "    try:\n",
    "        t1 = datetime.now()\n",
    "        concepts_iterator = algos.mine_equivalence_classes.iter_intents_via_cboi(\n",
    "            atomic_patterns=atomic_patterns,\n",
    "            superatoms_order=superatoms_order,\n",
    "            min_support=min_support, yield_pattern_intents=False\n",
    "        )\n",
    "        concepts = timeout(timelimit)(list)(concepts_iterator)\n",
    "        t2 = datetime.now()\n",
    "    except TimeoutError:\n",
    "        return None, None\n",
    "    intents = [intent for intent, extent in concepts]\n",
    "    return intents, (t2-t1).total_seconds()"
   ]
  },
  {
   "cell_type": "markdown",
   "id": "52e9ce1b-705d-49f8-8e2f-41646a44214f",
   "metadata": {},
   "source": [
    "Function to run LCM algorithm and to abbort the computation if they take more that `timelimit` seconds"
   ]
  },
  {
   "cell_type": "code",
   "execution_count": 18,
   "id": "85be181e-e63a-4dca-b354-d958bc7d410f",
   "metadata": {},
   "outputs": [
    {
     "name": "stdout",
     "output_type": "stream",
     "text": [
      "skmine.__version__='1.0.0'\n"
     ]
    }
   ],
   "source": [
    "import skmine\n",
    "print(f\"{skmine.__version__=}\")\n",
    "from skmine.itemsets import LCM\n",
    "\n",
    "def mine_atomised_intents_lcm(itemsets, timelimit=3600, min_support=1):\n",
    "    try:\n",
    "        t1 = datetime.now()\n",
    "        lcm = LCM(min_supp=min_support)\n",
    "        closed_itemsets_df = timeout(timelimit)(lcm.fit_transform)(itemsets)\n",
    "        t2 = datetime.now()\n",
    "    except TimeoutError:\n",
    "        return None, None\n",
    "    return closed_itemsets_df, (t2-t1).total_seconds()\n",
    "\n",
    "def lcm_output_to_ba(lcm_df, n_atomic_patterns) -> set[fbarray]:\n",
    "    intents_lcm_ba = set(csp.io.isets2bas(list(map(set,lcm_df['itemset'].values)), n_atomic_patterns))\n",
    "    bottom_intent = ~fbarray(zeros(n_atomic_patterns))\n",
    "    if bottom_intent not in intents_lcm_ba:\n",
    "        intents_lcm_ba.add(bottom_intent)\n",
    "    return intents_lcm_ba\n",
    "\n",
    "# Silence warning of numpy and pandas packages that appear while running LCM algorithm\n",
    "import warnings\n",
    "warnings.simplefilter(action='ignore', category=FutureWarning)"
   ]
  },
  {
   "cell_type": "markdown",
   "id": "8fb80ee0-35c1-4eeb-a046-4bb786e6a99a",
   "metadata": {},
   "source": [
    "Function to run meet-CbO algorithm and to abbort the computation if they take more that `timelimit` seconds"
   ]
  },
  {
   "cell_type": "code",
   "execution_count": 19,
   "id": "c714daf4-ab56-441e-a48b-94092b9d6b42",
   "metadata": {},
   "outputs": [],
   "source": [
    "def mine_intents_meet_cbo(objects_patterns, timelimit=3600):\n",
    "    try:\n",
    "        t1 = datetime.now()\n",
    "        concepts_iterator = algos.mine_equivalence_classes.iter_intents_via_ocbo(\n",
    "            objects_patterns=objects_patterns,\n",
    "        )\n",
    "        concepts = timeout(timelimit)(list)(concepts_iterator)\n",
    "        t2 = datetime.now()\n",
    "    except TimeoutError:\n",
    "        return None, None\n",
    "    intents = [intent for intent, extent in concepts]\n",
    "    return intents, (t2-t1).total_seconds()"
   ]
  },
  {
   "cell_type": "markdown",
   "id": "f8694a15-be9a-4803-a717-c4871d1b361d",
   "metadata": {},
   "source": [
    "Function to convert patterns from their atomic representation into the actual Paterns"
   ]
  },
  {
   "cell_type": "code",
   "execution_count": 20,
   "id": "4d27854c-2f69-45c6-9fb4-528eb4388ac2",
   "metadata": {},
   "outputs": [],
   "source": [
    "def patternise_descriptions(atomised_descriptions: list[bitarray], atomic_patterns, subatoms_order):\n",
    "    t1 = datetime.now()\n",
    "    patterns = [algos.base_functions.patternise_description(ba, atomic_patterns, subatoms_order, trusted_input=True)\n",
    "                for ba in atomised_descriptions]\n",
    "    return patterns, (datetime.now()-t1).total_seconds()"
   ]
  },
  {
   "cell_type": "markdown",
   "id": "4dba9a56-0cda-4842-961f-9ffa8af7c895",
   "metadata": {},
   "source": [
    "## Run the experiments"
   ]
  },
  {
   "cell_type": "code",
   "execution_count": 21,
   "id": "b060b3d0-5147-49eb-b777-139e8ba87c91",
   "metadata": {},
   "outputs": [],
   "source": [
    "TIMELIMIT = 60*10  # 10 minutes"
   ]
  },
  {
   "cell_type": "markdown",
   "id": "4d0bf4b8-837d-4991-8941-5f487f51db4b",
   "metadata": {},
   "source": [
    "Compute atomic patterns (and their statistics) for varying number of objects"
   ]
  },
  {
   "cell_type": "code",
   "execution_count": 22,
   "id": "f52c47f1-0db8-415e-a0d8-bd0b2cf8322f",
   "metadata": {},
   "outputs": [
    {
     "data": {
      "application/vnd.jupyter.widget-view+json": {
       "model_id": "15721d88978b4caca6f871246dd6101d",
       "version_major": 2,
       "version_minor": 0
      },
      "text/plain": [
       "  0%|          | 0/7 [00:00<?, ?it/s]"
      ]
     },
     "metadata": {},
     "output_type": "display_data"
    }
   ],
   "source": [
    "n_rows_vars = [5, 10, 15, 20, 25, 50, 100]\n",
    "\n",
    "atomic_stats = dict()\n",
    "pstructures = dict()\n",
    "for n_rows in tqdm(n_rows_vars):\n",
    "    ps = PatternStructure(PassengerPattern)\n",
    "    ps.fit(df[:n_rows].to_dict('index'), compute_atomic_patterns=False)\n",
    "\n",
    "    t1 = datetime.now()\n",
    "    ps.init_atomic_patterns()\n",
    "    t2 = datetime.now()\n",
    "    pstructures[n_rows] = ps\n",
    "\n",
    "    atomic_stats[n_rows] = {\n",
    "        'time atomise': (t2-t1).total_seconds(),\n",
    "        '#atoms': len(ps._atomic_patterns),\n",
    "        '#supmax atoms': len(ps._filter_atomic_patterns_by_support('maximal')[0]),\n",
    "        '#supmin atoms': len(ps._filter_atomic_patterns_by_support('minimal')[0]),\n",
    "        '#min atom support': min(extent.count() for extent in ps._atomic_patterns.values()),\n",
    "    }"
   ]
  },
  {
   "cell_type": "markdown",
   "id": "9b13e554-cf8d-4344-92ba-8af4c0ade079",
   "metadata": {},
   "source": [
    "Compute the running time of CbOI algorithm and how much time it takes to join atomic representations of intents into Patterns"
   ]
  },
  {
   "cell_type": "code",
   "execution_count": 23,
   "id": "18036787-0dba-4328-9e54-a3e1130a289f",
   "metadata": {},
   "outputs": [
    {
     "data": {
      "application/vnd.jupyter.widget-view+json": {
       "model_id": "0810b85677c1426fa1b9c2a6ab7d7374",
       "version_major": 2,
       "version_minor": 0
      },
      "text/plain": [
       "  0%|          | 0/7 [00:00<?, ?it/s]"
      ]
     },
     "metadata": {},
     "output_type": "display_data"
    }
   ],
   "source": [
    "stats_cboi = dict()\n",
    "stats_join = dict()\n",
    "for n_rows in tqdm(n_rows_vars):\n",
    "    atomic_patterns, atomic_order = pstructures[n_rows]._filter_atomic_patterns_by_support('maximal')\n",
    "\n",
    "    intents, dt = mine_atomised_intents_cboi(atomic_patterns, atomic_order, timelimit=TIMELIMIT)\n",
    "    if intents is None:\n",
    "        break\n",
    "    stats_cboi[n_rows] = {'#intents cboi': len(intents), 'time cboi': dt}\n",
    "\n",
    "    subatoms_order = csp.inverse_order(atomic_order)\n",
    "    pattern_intents, dt = patternise_descriptions(intents, list(atomic_patterns), subatoms_order)\n",
    "    stats_join[n_rows] = {'time': dt}"
   ]
  },
  {
   "cell_type": "markdown",
   "id": "3fed3aea-2839-49a9-8cf1-ca18cb597afd",
   "metadata": {},
   "source": [
    "Compute the running time of CbO (i.e. CbOI withoit Implications)"
   ]
  },
  {
   "cell_type": "code",
   "execution_count": 24,
   "id": "3a1c85fb-a760-4216-8c4e-5a8174e3e98d",
   "metadata": {},
   "outputs": [
    {
     "data": {
      "application/vnd.jupyter.widget-view+json": {
       "model_id": "93cbb48fd239442e9494edf265d477de",
       "version_major": 2,
       "version_minor": 0
      },
      "text/plain": [
       "  0%|          | 0/7 [00:00<?, ?it/s]"
      ]
     },
     "metadata": {},
     "output_type": "display_data"
    }
   ],
   "source": [
    "stats_cbo = dict()\n",
    "for n_rows in tqdm(n_rows_vars):\n",
    "    atomic_patterns, _ = pstructures[n_rows]._filter_atomic_patterns_by_support('maximal')\n",
    "    emptyorder = [zeros(len(atomic_patterns)) for _ in atomic_patterns]\n",
    "\n",
    "    intents, dt = mine_atomised_intents_cboi(atomic_patterns, emptyorder, timelimit=TIMELIMIT)\n",
    "    if intents is None:\n",
    "        break\n",
    "    stats_cbo[n_rows] = {'#intents cbo': len(intents), 'time cbo': dt}"
   ]
  },
  {
   "cell_type": "markdown",
   "id": "c8320902-36ff-40fc-883f-c7af04888efd",
   "metadata": {},
   "source": [
    "Compute the running time of LCM"
   ]
  },
  {
   "cell_type": "code",
   "execution_count": 25,
   "id": "94b066af-5f8c-4b53-aaaf-4dd8b761521b",
   "metadata": {},
   "outputs": [
    {
     "data": {
      "application/vnd.jupyter.widget-view+json": {
       "model_id": "58e232e5973a48b19e1bc9cd753d73d6",
       "version_major": 2,
       "version_minor": 0
      },
      "text/plain": [
       "  0%|          | 0/7 [00:00<?, ?it/s]"
      ]
     },
     "metadata": {},
     "output_type": "display_data"
    }
   ],
   "source": [
    "stats_lcm = dict()\n",
    "for n_rows in tqdm(n_rows_vars):\n",
    "    atomic_patterns, _ = pstructures[n_rows]._filter_atomic_patterns_by_support('maximal')\n",
    "    itemsets = csp.io.to_itemsets(csp.io.transpose_context(list(atomic_patterns.values())))\n",
    "\n",
    "    intents, dt = mine_atomised_intents_lcm(itemsets, timelimit=TIMELIMIT)\n",
    "    if intents is None:\n",
    "        break\n",
    "    stats_lcm[n_rows] = {'#intents lcm': len(intents), 'time lcm': dt}"
   ]
  },
  {
   "cell_type": "markdown",
   "id": "57921d68-5ef8-4507-85d7-496960e96ed8",
   "metadata": {},
   "source": [
    "Compute the running time of meet-CbO"
   ]
  },
  {
   "cell_type": "code",
   "execution_count": 26,
   "id": "893a8bf7-8a02-477b-84a2-27f2666a8b1a",
   "metadata": {},
   "outputs": [
    {
     "data": {
      "application/vnd.jupyter.widget-view+json": {
       "model_id": "5aaf3edf10ac423e9a15ce82acbe1b45",
       "version_major": 2,
       "version_minor": 0
      },
      "text/plain": [
       "  0%|          | 0/7 [00:00<?, ?it/s]"
      ]
     },
     "metadata": {},
     "output_type": "display_data"
    }
   ],
   "source": [
    "stats_mcbo = dict()\n",
    "for n_rows in tqdm(n_rows_vars):\n",
    "    objects_patterns = [PassengerPattern(row) for row in df[:n_rows].to_dict('index').values()]\n",
    "\n",
    "    intents, dt = mine_intents_meet_cbo(objects_patterns, timelimit=TIMELIMIT)\n",
    "    if intents is None:\n",
    "        break\n",
    "    stats_mcbo[n_rows] = {'#intents mcbo': len(intents), 'time mcbo': dt}"
   ]
  },
  {
   "cell_type": "markdown",
   "id": "fae881ae-55e1-476f-a85c-cde79b8f3569",
   "metadata": {},
   "source": [
    "Combine all the information into a single table"
   ]
  },
  {
   "cell_type": "code",
   "execution_count": 27,
   "id": "fbde0de5-b2d4-427b-bda5-c37470e99a60",
   "metadata": {},
   "outputs": [
    {
     "data": {
      "text/html": [
       "<div>\n",
       "<style scoped>\n",
       "    .dataframe tbody tr th:only-of-type {\n",
       "        vertical-align: middle;\n",
       "    }\n",
       "\n",
       "    .dataframe tbody tr th {\n",
       "        vertical-align: top;\n",
       "    }\n",
       "\n",
       "    .dataframe thead th {\n",
       "        text-align: right;\n",
       "    }\n",
       "</style>\n",
       "<table border=\"1\" class=\"dataframe\">\n",
       "  <thead>\n",
       "    <tr style=\"text-align: right;\">\n",
       "      <th></th>\n",
       "      <th>#objects</th>\n",
       "      <th>#atoms</th>\n",
       "      <th>#intents</th>\n",
       "      <th>time mcbo</th>\n",
       "      <th>time cboi</th>\n",
       "      <th>time cbo</th>\n",
       "      <th>time lcm</th>\n",
       "      <th>time atomise</th>\n",
       "      <th>time join</th>\n",
       "    </tr>\n",
       "  </thead>\n",
       "  <tbody>\n",
       "    <tr>\n",
       "      <th>0</th>\n",
       "      <td>5</td>\n",
       "      <td>1000.0</td>\n",
       "      <td>28.0</td>\n",
       "      <td>0.183288</td>\n",
       "      <td>0.001532</td>\n",
       "      <td>0.002761</td>\n",
       "      <td>0.089254</td>\n",
       "      <td>1.393421</td>\n",
       "      <td>0.014668</td>\n",
       "    </tr>\n",
       "    <tr>\n",
       "      <th>1</th>\n",
       "      <td>10</td>\n",
       "      <td>1283.0</td>\n",
       "      <td>321.0</td>\n",
       "      <td>2.613420</td>\n",
       "      <td>0.017405</td>\n",
       "      <td>0.044953</td>\n",
       "      <td>0.134519</td>\n",
       "      <td>1.275252</td>\n",
       "      <td>0.147767</td>\n",
       "    </tr>\n",
       "    <tr>\n",
       "      <th>2</th>\n",
       "      <td>15</td>\n",
       "      <td>1498.0</td>\n",
       "      <td>1438.0</td>\n",
       "      <td>30.180839</td>\n",
       "      <td>0.075889</td>\n",
       "      <td>0.272960</td>\n",
       "      <td>0.678007</td>\n",
       "      <td>1.415559</td>\n",
       "      <td>0.627547</td>\n",
       "    </tr>\n",
       "    <tr>\n",
       "      <th>3</th>\n",
       "      <td>20</td>\n",
       "      <td>1656.0</td>\n",
       "      <td>3794.0</td>\n",
       "      <td>150.704337</td>\n",
       "      <td>0.224948</td>\n",
       "      <td>0.901631</td>\n",
       "      <td>2.132762</td>\n",
       "      <td>1.548037</td>\n",
       "      <td>1.705235</td>\n",
       "    </tr>\n",
       "    <tr>\n",
       "      <th>4</th>\n",
       "      <td>25</td>\n",
       "      <td>1784.0</td>\n",
       "      <td>8753.0</td>\n",
       "      <td>444.396787</td>\n",
       "      <td>0.550029</td>\n",
       "      <td>2.404384</td>\n",
       "      <td>5.714042</td>\n",
       "      <td>1.683326</td>\n",
       "      <td>3.895704</td>\n",
       "    </tr>\n",
       "    <tr>\n",
       "      <th>5</th>\n",
       "      <td>50</td>\n",
       "      <td>2852.0</td>\n",
       "      <td>57273.0</td>\n",
       "      <td>NaN</td>\n",
       "      <td>6.297654</td>\n",
       "      <td>28.390238</td>\n",
       "      <td>70.762380</td>\n",
       "      <td>2.574883</td>\n",
       "      <td>25.038494</td>\n",
       "    </tr>\n",
       "    <tr>\n",
       "      <th>6</th>\n",
       "      <td>100</td>\n",
       "      <td>4573.0</td>\n",
       "      <td>1054138.0</td>\n",
       "      <td>NaN</td>\n",
       "      <td>155.541369</td>\n",
       "      <td>NaN</td>\n",
       "      <td>NaN</td>\n",
       "      <td>4.264424</td>\n",
       "      <td>473.959958</td>\n",
       "    </tr>\n",
       "  </tbody>\n",
       "</table>\n",
       "</div>"
      ],
      "text/plain": [
       "   #objects  #atoms   #intents   time mcbo   time cboi   time cbo   time lcm  \\\n",
       "0         5  1000.0       28.0    0.183288    0.001532   0.002761   0.089254   \n",
       "1        10  1283.0      321.0    2.613420    0.017405   0.044953   0.134519   \n",
       "2        15  1498.0     1438.0   30.180839    0.075889   0.272960   0.678007   \n",
       "3        20  1656.0     3794.0  150.704337    0.224948   0.901631   2.132762   \n",
       "4        25  1784.0     8753.0  444.396787    0.550029   2.404384   5.714042   \n",
       "5        50  2852.0    57273.0         NaN    6.297654  28.390238  70.762380   \n",
       "6       100  4573.0  1054138.0         NaN  155.541369        NaN        NaN   \n",
       "\n",
       "   time atomise   time join  \n",
       "0      1.393421    0.014668  \n",
       "1      1.275252    0.147767  \n",
       "2      1.415559    0.627547  \n",
       "3      1.548037    1.705235  \n",
       "4      1.683326    3.895704  \n",
       "5      2.574883   25.038494  \n",
       "6      4.264424  473.959958  "
      ]
     },
     "execution_count": 27,
     "metadata": {},
     "output_type": "execute_result"
    }
   ],
   "source": [
    "stats_df = pd.concat([\n",
    "    pd.DataFrame(atomic_stats), \n",
    "    pd.DataFrame(stats_cboi), pd.DataFrame(stats_cbo), pd.DataFrame(stats_lcm), pd.DataFrame(stats_mcbo),\n",
    "    pd.DataFrame(stats_join)\n",
    "]).T\n",
    "stats_df = stats_df.rename(columns={'time': 'time join'})\n",
    "stats_df.index.name = '#objects'\n",
    "stats_df = stats_df.reset_index()\n",
    "stats_df = stats_df[:7]\n",
    "#stats_df['#atoms'] = stats_df['#atoms'].astype(int)\n",
    "stats_df['#intents'] = stats_df['#intents cboi']#.astype(int)\n",
    "stats_df = stats_df[['#objects', \n",
    "                     '#atoms', '#intents',\n",
    "                    'time mcbo', 'time cboi', 'time cbo', 'time lcm',\n",
    "                    'time atomise', 'time join']]\n",
    "stats_df"
   ]
  },
  {
   "cell_type": "code",
   "execution_count": 28,
   "id": "0a7707ee-e777-435e-96c3-712329b4978c",
   "metadata": {},
   "outputs": [
    {
     "name": "stdout",
     "output_type": "stream",
     "text": [
      "\\begin{tabular}{rrrrrrrrr}\n",
      "\\toprule\n",
      "#objects & #atoms & #intents & time mcbo & time cboi & time cbo & time lcm & time atomise & time join \\\\\n",
      "\\midrule\n",
      "5 & 1000.000 & 28.000 & 0.183 & 0.002 & 0.003 & 0.089 & 1.393 & 0.015 \\\\\n",
      "10 & 1283.000 & 321.000 & 2.613 & 0.017 & 0.045 & 0.135 & 1.275 & 0.148 \\\\\n",
      "15 & 1498.000 & 1438.000 & 30.181 & 0.076 & 0.273 & 0.678 & 1.416 & 0.628 \\\\\n",
      "20 & 1656.000 & 3794.000 & 150.704 & 0.225 & 0.902 & 2.133 & 1.548 & 1.705 \\\\\n",
      "25 & 1784.000 & 8753.000 & 444.397 & 0.550 & 2.404 & 5.714 & 1.683 & 3.896 \\\\\n",
      "50 & 2852.000 & 57273.000 &  & 6.298 & 28.390 & 70.762 & 2.575 & 25.038 \\\\\n",
      "100 & 4573.000 & 1054138.000 &  & 155.541 &  &  & 4.264 & 473.960 \\\\\n",
      "\\bottomrule\n",
      "\\end{tabular}\n",
      "\n"
     ]
    }
   ],
   "source": [
    "ltx = stats_df.to_latex(float_format=\"%.3f\", index=False, na_rep='')\n",
    "print(ltx)"
   ]
  },
  {
   "cell_type": "markdown",
   "id": "90a8c21f-5bcb-4602-99f7-1e1bbdd31caf",
   "metadata": {},
   "source": [
    "# Q2. Mining frequent intents"
   ]
  },
  {
   "cell_type": "code",
   "execution_count": 29,
   "id": "282068bf-ef6f-4935-a7e2-48abe1a8f958",
   "metadata": {},
   "outputs": [
    {
     "name": "stdout",
     "output_type": "stream",
     "text": [
      "5\n"
     ]
    }
   ],
   "source": [
    "min_supports = [800, 700, 600, 500, 400]\n",
    "print(len(min_supports))"
   ]
  },
  {
   "cell_type": "markdown",
   "id": "ce3c2a71-0ba9-40c4-8a55-4588d8375968",
   "metadata": {},
   "source": [
    "Compute atomic patterns for every minimal support threshold"
   ]
  },
  {
   "cell_type": "code",
   "execution_count": 30,
   "id": "886e7d3b-4648-4317-ae7c-aec541483abf",
   "metadata": {},
   "outputs": [
    {
     "data": {
      "application/vnd.jupyter.widget-view+json": {
       "model_id": "e285017dab3249e898c64e64b5efc2f8",
       "version_major": 2,
       "version_minor": 0
      },
      "text/plain": [
       "  0%|          | 0/5 [00:00<?, ?it/s]"
      ]
     },
     "metadata": {},
     "output_type": "display_data"
    }
   ],
   "source": [
    "pstructures_freq = {}\n",
    "atomic_freq_stats = {}\n",
    "for min_support in tqdm(min_supports):\n",
    "    t1 = datetime.now()\n",
    "    ps = PatternStructure(PassengerPattern)\n",
    "    ps.fit(df.to_dict('index'), min_atom_support=min_support)\n",
    "    t2 = datetime.now()\n",
    "    \n",
    "    pstructures_freq[min_support] = ps\n",
    "    atomic_freq_stats[min_support] = {\n",
    "        '#atoms': len(ps._atomic_patterns),\n",
    "        '#minsup atoms': len(ps._filter_atomic_patterns_by_support('minimal')[0]),\n",
    "        '#maxsup atoms': len(ps._filter_atomic_patterns_by_support('maximal')[0]),\n",
    "        'time atomise': (t2-t1).total_seconds()\n",
    "    }"
   ]
  },
  {
   "cell_type": "markdown",
   "id": "74194e78-8a3c-4e82-af09-9eed0f15254f",
   "metadata": {},
   "source": [
    "Mine frequent atomic intents with CbOI"
   ]
  },
  {
   "cell_type": "code",
   "execution_count": 31,
   "id": "0100d5c2-7f6e-4f76-bb9c-c2ec459e067c",
   "metadata": {},
   "outputs": [
    {
     "data": {
      "application/vnd.jupyter.widget-view+json": {
       "model_id": "e183b90ed99241159cd6551f587581a4",
       "version_major": 2,
       "version_minor": 0
      },
      "text/plain": [
       "  0%|          | 0/5 [00:00<?, ?it/s]"
      ]
     },
     "metadata": {},
     "output_type": "display_data"
    }
   ],
   "source": [
    "stats_freq_cboi = {}\n",
    "for min_support in tqdm(min_supports):\n",
    "    maxsup_atoms, maxsup_order = pstructures_freq[min_support]._filter_atomic_patterns_by_support('maximal')\n",
    "\n",
    "    intents, dt = mine_atomised_intents_cboi(maxsup_atoms, maxsup_order, timelimit=TIMELIMIT, min_support=min_support)\n",
    "    if intents is None: break\n",
    "    stats_freq_cboi[min_support] = {'#intents cboi': len(intents), 'time cboi': dt}"
   ]
  },
  {
   "cell_type": "markdown",
   "id": "b7c62d32-7fbb-4fbf-9fb7-db806cff890d",
   "metadata": {},
   "source": [
    "Mine frequent atomic intents with CbO"
   ]
  },
  {
   "cell_type": "code",
   "execution_count": 32,
   "id": "3cd45665-5146-4b71-b12c-092e5a0a9096",
   "metadata": {},
   "outputs": [
    {
     "data": {
      "application/vnd.jupyter.widget-view+json": {
       "model_id": "ebeb6446e91f44a7a74d9e3717da25dd",
       "version_major": 2,
       "version_minor": 0
      },
      "text/plain": [
       "  0%|          | 0/5 [00:00<?, ?it/s]"
      ]
     },
     "metadata": {},
     "output_type": "display_data"
    }
   ],
   "source": [
    "stats_freq_cbo = {}\n",
    "for min_support in tqdm(min_supports):\n",
    "    maxsup_atoms, _ = pstructures_freq[min_support]._filter_atomic_patterns_by_support('maximal')\n",
    "    emptyorder = [zeros(len(maxsup_atoms)) for _ in maxsup_atoms]\n",
    "\n",
    "    intents, dt = mine_atomised_intents_cboi(maxsup_atoms, emptyorder, timelimit=TIMELIMIT, min_support=min_support)\n",
    "    if intents is None: break\n",
    "    stats_freq_cbo[min_support] = {'#intents cbo': len(intents), 'time cbo': dt}"
   ]
  },
  {
   "cell_type": "markdown",
   "id": "7904aff9-1bee-43a0-bc30-9b9f7175794d",
   "metadata": {},
   "source": [
    "Mine frequent atomic intents with LCM"
   ]
  },
  {
   "cell_type": "code",
   "execution_count": 33,
   "id": "a35f79ef-c423-4c56-a2d7-7f990d7d2219",
   "metadata": {},
   "outputs": [
    {
     "data": {
      "application/vnd.jupyter.widget-view+json": {
       "model_id": "fbc1a84d5d1d4888a63a37bf45ee9cbd",
       "version_major": 2,
       "version_minor": 0
      },
      "text/plain": [
       "  0%|          | 0/5 [00:00<?, ?it/s]"
      ]
     },
     "metadata": {},
     "output_type": "display_data"
    }
   ],
   "source": [
    "stats_freq_lcm = dict()\n",
    "for min_support in tqdm(min_supports):\n",
    "    atomic_patterns, _ = pstructures_freq[min_support]._filter_atomic_patterns_by_support('maximal')\n",
    "    itemsets = csp.io.to_itemsets(csp.io.transpose_context(list(atomic_patterns.values())))\n",
    "\n",
    "    intents, dt = mine_atomised_intents_lcm(itemsets, timelimit=TIMELIMIT, min_support=min_support)\n",
    "    if intents is None: break\n",
    "    stats_freq_lcm[min_support] = {'#intents lcm': len(intents), 'time lcm': dt}"
   ]
  },
  {
   "cell_type": "markdown",
   "id": "76b2f636-d1a1-4803-b875-a9a3855108bd",
   "metadata": {},
   "source": [
    "Combine all obtained results into one table"
   ]
  },
  {
   "cell_type": "code",
   "execution_count": 34,
   "id": "cea7451e-2487-48e2-93a8-99e96f47c982",
   "metadata": {},
   "outputs": [
    {
     "data": {
      "text/html": [
       "<div>\n",
       "<style scoped>\n",
       "    .dataframe tbody tr th:only-of-type {\n",
       "        vertical-align: middle;\n",
       "    }\n",
       "\n",
       "    .dataframe tbody tr th {\n",
       "        vertical-align: top;\n",
       "    }\n",
       "\n",
       "    .dataframe thead th {\n",
       "        text-align: right;\n",
       "    }\n",
       "</style>\n",
       "<table border=\"1\" class=\"dataframe\">\n",
       "  <thead>\n",
       "    <tr style=\"text-align: right;\">\n",
       "      <th></th>\n",
       "      <th>#objects</th>\n",
       "      <th>#maxsup atoms</th>\n",
       "      <th>#intents</th>\n",
       "      <th>time cboi</th>\n",
       "      <th>time cbo</th>\n",
       "      <th>time lcm</th>\n",
       "    </tr>\n",
       "  </thead>\n",
       "  <tbody>\n",
       "    <tr>\n",
       "      <th>0</th>\n",
       "      <td>800</td>\n",
       "      <td>57.0</td>\n",
       "      <td>2409.0</td>\n",
       "      <td>0.200687</td>\n",
       "      <td>0.296464</td>\n",
       "      <td>0.568086</td>\n",
       "    </tr>\n",
       "    <tr>\n",
       "      <th>1</th>\n",
       "      <td>700</td>\n",
       "      <td>100.0</td>\n",
       "      <td>7558.0</td>\n",
       "      <td>0.220971</td>\n",
       "      <td>0.542898</td>\n",
       "      <td>1.861538</td>\n",
       "    </tr>\n",
       "    <tr>\n",
       "      <th>2</th>\n",
       "      <td>600</td>\n",
       "      <td>152.0</td>\n",
       "      <td>604632.0</td>\n",
       "      <td>31.230825</td>\n",
       "      <td>108.168841</td>\n",
       "      <td>217.104065</td>\n",
       "    </tr>\n",
       "    <tr>\n",
       "      <th>3</th>\n",
       "      <td>500</td>\n",
       "      <td>185.0</td>\n",
       "      <td>3444140.0</td>\n",
       "      <td>159.801218</td>\n",
       "      <td>NaN</td>\n",
       "      <td>NaN</td>\n",
       "    </tr>\n",
       "    <tr>\n",
       "      <th>4</th>\n",
       "      <td>400</td>\n",
       "      <td>212.0</td>\n",
       "      <td>8053643.0</td>\n",
       "      <td>370.778460</td>\n",
       "      <td>NaN</td>\n",
       "      <td>NaN</td>\n",
       "    </tr>\n",
       "  </tbody>\n",
       "</table>\n",
       "</div>"
      ],
      "text/plain": [
       "   #objects  #maxsup atoms   #intents   time cboi    time cbo    time lcm\n",
       "0       800           57.0     2409.0    0.200687    0.296464    0.568086\n",
       "1       700          100.0     7558.0    0.220971    0.542898    1.861538\n",
       "2       600          152.0   604632.0   31.230825  108.168841  217.104065\n",
       "3       500          185.0  3444140.0  159.801218         NaN         NaN\n",
       "4       400          212.0  8053643.0  370.778460         NaN         NaN"
      ]
     },
     "execution_count": 34,
     "metadata": {},
     "output_type": "execute_result"
    }
   ],
   "source": [
    "stats_freq_df = pd.concat([\n",
    "    pd.DataFrame(atomic_freq_stats),\n",
    "    pd.DataFrame(stats_freq_cboi), pd.DataFrame(stats_freq_cbo), pd.DataFrame(stats_freq_lcm),\n",
    "]).T\n",
    "stats_freq_df.index.name = '#objects'\n",
    "stats_freq_df = stats_freq_df.reset_index()\n",
    "stats_freq_df['#intents'] = stats_freq_df['#intents cboi']#.astype(int)\n",
    "stats_freq_df = stats_freq_df[[\n",
    "    '#objects',\n",
    "    '#maxsup atoms', '#intents',\n",
    "    'time cboi', 'time cbo', 'time lcm',\n",
    "]]\n",
    "stats_freq_df"
   ]
  },
  {
   "cell_type": "code",
   "execution_count": 35,
   "id": "dc56453d-6ea9-4169-ad20-eab9ed1f87e7",
   "metadata": {},
   "outputs": [
    {
     "name": "stdout",
     "output_type": "stream",
     "text": [
      "\\begin{tabular}{rrrrrr}\n",
      "\\toprule\n",
      "#objects & #maxsup atoms & #intents & time cboi & time cbo & time lcm \\\\\n",
      "\\midrule\n",
      "800 & 57.00 & 2409.00 & 0.20 & 0.30 & 0.57 \\\\\n",
      "700 & 100.00 & 7558.00 & 0.22 & 0.54 & 1.86 \\\\\n",
      "600 & 152.00 & 604632.00 & 31.23 & 108.17 & 217.10 \\\\\n",
      "500 & 185.00 & 3444140.00 & 159.80 &  &  \\\\\n",
      "400 & 212.00 & 8053643.00 & 370.78 &  &  \\\\\n",
      "\\bottomrule\n",
      "\\end{tabular}\n",
      "\n"
     ]
    }
   ],
   "source": [
    "print(stats_freq_df.to_latex(float_format='%.2f', index=False, na_rep=''))"
   ]
  },
  {
   "cell_type": "markdown",
   "id": "ca235a2d-46bf-4959-beed-aba52413f403",
   "metadata": {},
   "source": [
    "# Q3. Mining frequent keys"
   ]
  },
  {
   "cell_type": "markdown",
   "id": "10ae66c0-18df-47d4-a69c-2a405f2aee2a",
   "metadata": {},
   "source": [
    "Run the function to mine frequent keys (aka frequent minimal generators)"
   ]
  },
  {
   "cell_type": "code",
   "execution_count": 36,
   "id": "7c6ad621-e0c0-4b87-9d7c-7e12e78e96b3",
   "metadata": {},
   "outputs": [],
   "source": [
    "def mine_keys_talkygi(atomic_patterns, superatoms_order, min_support, timelimit=3600):\n",
    "    try:\n",
    "        t1 = datetime.now()\n",
    "        keys_iterator = algos.mine_equivalence_classes.iter_keys_via_talky_gi(\n",
    "            atomic_patterns, superatoms_order, min_support=min_support, yield_pattern_keys=False\n",
    "        )\n",
    "        keys = timeout(timelimit)(list)(keys_iterator)\n",
    "        t2 = datetime.now()\n",
    "    except TimeoutError:\n",
    "        return None, None\n",
    "    return keys, (t2-t1).total_seconds()"
   ]
  },
  {
   "cell_type": "markdown",
   "id": "f1243f93-5395-48ba-9600-f777cf317bfd",
   "metadata": {},
   "source": [
    "Compute keys (i.e. minimal generators) using Talky-GI algorithm"
   ]
  },
  {
   "cell_type": "code",
   "execution_count": 37,
   "id": "c6a15968-07be-4b4c-af23-f249c1788165",
   "metadata": {},
   "outputs": [
    {
     "data": {
      "application/vnd.jupyter.widget-view+json": {
       "model_id": "7c017b3a17114b2cbcc9d290579292cd",
       "version_major": 2,
       "version_minor": 0
      },
      "text/plain": [
       "  0%|          | 0/5 [00:00<?, ?it/s]"
      ]
     },
     "metadata": {},
     "output_type": "display_data"
    }
   ],
   "source": [
    "stats_talkygi = {}\n",
    "for min_support in tqdm(min_supports):\n",
    "    minsup_atoms, minsup_order = pstructures_freq[min_support]._filter_atomic_patterns_by_support('minimal')\n",
    "    minsup_subatoms_order = algos.base_functions.inverse_order(minsup_order)\n",
    "    \n",
    "    keys, dt = mine_keys_talkygi(minsup_atoms, minsup_order, min_support, timelimit=TIMELIMIT)\n",
    "    if keys is None: break\n",
    "    stats_talkygi[min_support] = {'#keys talkygi': len(keys), 'time talkygi': dt}"
   ]
  },
  {
   "cell_type": "markdown",
   "id": "f7e2f042-d498-4735-ad95-07562cae5af5",
   "metadata": {},
   "source": [
    "Compute keys (i.e. minimal generators) using Talky-G algorithm"
   ]
  },
  {
   "cell_type": "code",
   "execution_count": 38,
   "id": "f41abfe8-01bb-4ab1-ab35-314f5e5ba8be",
   "metadata": {},
   "outputs": [
    {
     "name": "stdout",
     "output_type": "stream",
     "text": [
      "ERROR! Session/line number was not unique in database. History logging moved to new session 1868\n"
     ]
    },
    {
     "data": {
      "application/vnd.jupyter.widget-view+json": {
       "model_id": "08fc19ff1f1d4911a6d11467a68c00a2",
       "version_major": 2,
       "version_minor": 0
      },
      "text/plain": [
       "  0%|          | 0/5 [00:00<?, ?it/s]"
      ]
     },
     "metadata": {},
     "output_type": "display_data"
    }
   ],
   "source": [
    "stats_talkyg = {}\n",
    "for min_support in tqdm(min_supports):\n",
    "    minsup_atoms, _ = pstructures_freq[min_support]._filter_atomic_patterns_by_support('minimal')\n",
    "    emptyorder = [zeros(len(minsup_atoms)) for _ in minsup_atoms]\n",
    "    \n",
    "    keys, dt = mine_keys_talkygi(minsup_atoms, emptyorder, min_support, timelimit=TIMELIMIT)\n",
    "    if keys is None: break\n",
    "    stats_talkyg[min_support] = {'#keys talkyg': len(keys), 'time talkyg': dt}"
   ]
  },
  {
   "cell_type": "code",
   "execution_count": 39,
   "id": "b8e3545b-34e8-4a11-b615-05ff00c117cb",
   "metadata": {},
   "outputs": [
    {
     "data": {
      "text/html": [
       "<div>\n",
       "<style scoped>\n",
       "    .dataframe tbody tr th:only-of-type {\n",
       "        vertical-align: middle;\n",
       "    }\n",
       "\n",
       "    .dataframe tbody tr th {\n",
       "        vertical-align: top;\n",
       "    }\n",
       "\n",
       "    .dataframe thead th {\n",
       "        text-align: right;\n",
       "    }\n",
       "</style>\n",
       "<table border=\"1\" class=\"dataframe\">\n",
       "  <thead>\n",
       "    <tr style=\"text-align: right;\">\n",
       "      <th></th>\n",
       "      <th>#objects</th>\n",
       "      <th>#minsup atoms</th>\n",
       "      <th>#keys talkygi</th>\n",
       "      <th>time talkygi</th>\n",
       "      <th>#keys talkyg</th>\n",
       "      <th>time talkyg</th>\n",
       "    </tr>\n",
       "  </thead>\n",
       "  <tbody>\n",
       "    <tr>\n",
       "      <th>0</th>\n",
       "      <td>800</td>\n",
       "      <td>57.0</td>\n",
       "      <td>2409.0</td>\n",
       "      <td>0.167434</td>\n",
       "      <td>2425.0</td>\n",
       "      <td>0.273879</td>\n",
       "    </tr>\n",
       "    <tr>\n",
       "      <th>1</th>\n",
       "      <td>700</td>\n",
       "      <td>100.0</td>\n",
       "      <td>7612.0</td>\n",
       "      <td>0.299887</td>\n",
       "      <td>7735.0</td>\n",
       "      <td>0.559552</td>\n",
       "    </tr>\n",
       "    <tr>\n",
       "      <th>2</th>\n",
       "      <td>600</td>\n",
       "      <td>152.0</td>\n",
       "      <td>608342.0</td>\n",
       "      <td>29.088621</td>\n",
       "      <td>701639.0</td>\n",
       "      <td>59.457724</td>\n",
       "    </tr>\n",
       "    <tr>\n",
       "      <th>3</th>\n",
       "      <td>500</td>\n",
       "      <td>185.0</td>\n",
       "      <td>3459158.0</td>\n",
       "      <td>183.897075</td>\n",
       "      <td>4147580.0</td>\n",
       "      <td>346.352084</td>\n",
       "    </tr>\n",
       "    <tr>\n",
       "      <th>4</th>\n",
       "      <td>400</td>\n",
       "      <td>212.0</td>\n",
       "      <td>8115532.0</td>\n",
       "      <td>426.562943</td>\n",
       "      <td>NaN</td>\n",
       "      <td>NaN</td>\n",
       "    </tr>\n",
       "  </tbody>\n",
       "</table>\n",
       "</div>"
      ],
      "text/plain": [
       "   #objects  #minsup atoms  #keys talkygi  time talkygi  #keys talkyg  \\\n",
       "0       800           57.0         2409.0      0.167434        2425.0   \n",
       "1       700          100.0         7612.0      0.299887        7735.0   \n",
       "2       600          152.0       608342.0     29.088621      701639.0   \n",
       "3       500          185.0      3459158.0    183.897075     4147580.0   \n",
       "4       400          212.0      8115532.0    426.562943           NaN   \n",
       "\n",
       "   time talkyg  \n",
       "0     0.273879  \n",
       "1     0.559552  \n",
       "2    59.457724  \n",
       "3   346.352084  \n",
       "4          NaN  "
      ]
     },
     "execution_count": 39,
     "metadata": {},
     "output_type": "execute_result"
    }
   ],
   "source": [
    "stats_freq_df = pd.concat([\n",
    "    pd.DataFrame(atomic_freq_stats),\n",
    "    pd.DataFrame(stats_talkygi), pd.DataFrame(stats_talkyg),\n",
    "]).T\n",
    "stats_freq_df.index.name = '#objects'\n",
    "stats_freq_df = stats_freq_df.reset_index()\n",
    "\n",
    "stats_freq_df = stats_freq_df[[\n",
    "    '#objects', \n",
    "    '#minsup atoms', \n",
    "    '#keys talkygi', 'time talkygi',\n",
    "    '#keys talkyg', 'time talkyg'\n",
    "]]\n",
    "stats_freq_df"
   ]
  },
  {
   "cell_type": "code",
   "execution_count": 40,
   "id": "9c02cc9d-1dec-4036-bef7-0ad1a384061c",
   "metadata": {},
   "outputs": [
    {
     "name": "stdout",
     "output_type": "stream",
     "text": [
      "\\begin{tabular}{rrrrrr}\n",
      "\\toprule\n",
      "#objects & #minsup atoms & #keys talkygi & time talkygi & #keys talkyg & time talkyg \\\\\n",
      "\\midrule\n",
      "800 & 57.00 & 2409.00 & 0.17 & 2425.00 & 0.27 \\\\\n",
      "700 & 100.00 & 7612.00 & 0.30 & 7735.00 & 0.56 \\\\\n",
      "600 & 152.00 & 608342.00 & 29.09 & 701639.00 & 59.46 \\\\\n",
      "500 & 185.00 & 3459158.00 & 183.90 & 4147580.00 & 346.35 \\\\\n",
      "400 & 212.00 & 8115532.00 & 426.56 &  &  \\\\\n",
      "\\bottomrule\n",
      "\\end{tabular}\n",
      "\n"
     ]
    }
   ],
   "source": [
    "print(stats_freq_df.to_latex(float_format='%.2f', index=False, na_rep=''))"
   ]
  },
  {
   "cell_type": "markdown",
   "id": "0d2d3e92-0de3-4d40-a546-fb8635a60c7c",
   "metadata": {},
   "source": [
    "Find examples of \"redundant\" keys outputted by Talky-G"
   ]
  },
  {
   "cell_type": "code",
   "execution_count": 41,
   "id": "c750ac34-6055-4bcf-8504-37424d022f4c",
   "metadata": {},
   "outputs": [],
   "source": [
    "ps = pstructures_freq[800]\n",
    "atomic_patterns, superatoms_order = ps._filter_atomic_patterns_by_support('minimal')\n",
    "emptyorder = [zeros(len(atomic_patterns)) for _ in atomic_patterns]\n",
    "subatoms_order = algos.base_functions.inverse_order(superatoms_order)"
   ]
  },
  {
   "cell_type": "code",
   "execution_count": 42,
   "id": "40c2cb7b-15ef-4cee-b456-a4f538702540",
   "metadata": {},
   "outputs": [],
   "source": [
    "keys_per_extent = {}\n",
    "for key, extent in mine_keys_talkygi(atomic_patterns, emptyorder, 800)[0]:\n",
    "    keys_per_extent[extent] = keys_per_extent.get(extent, set()) | {key}\n",
    "\n",
    "keys_per_extent_impl = {}\n",
    "for key, extent in mine_keys_talkygi(atomic_patterns, superatoms_order, 800)[0]:\n",
    "    keys_per_extent_impl[extent] = keys_per_extent_impl.get(extent, set()) | {key}"
   ]
  },
  {
   "cell_type": "code",
   "execution_count": 43,
   "id": "a926a31a-0b68-40e9-9a4f-6f5cc85297e0",
   "metadata": {},
   "outputs": [],
   "source": [
    "extents_diff_keys = [extent for extent in keys_per_extent_impl if keys_per_extent[extent]!=keys_per_extent_impl[extent]]\n",
    "extent = min(extents_diff_keys, key=lambda extent: min(ba.count() for ba in keys_per_extent_impl[extent]))\n",
    "#extent"
   ]
  },
  {
   "cell_type": "markdown",
   "id": "3ece9218-f15f-4f74-962d-8e5af90aaeee",
   "metadata": {},
   "source": [
    "Minimal generators of `extent` according to Talky-G"
   ]
  },
  {
   "cell_type": "code",
   "execution_count": 44,
   "id": "d0ac548f-6969-4d40-955c-ab57cf78f9f2",
   "metadata": {},
   "outputs": [
    {
     "data": {
      "text/plain": [
       "[{'Fare': < 263.0, 'SibSp': < 2.0}, {'Fare': < 262.0, 'SibSp': < 2.0}]"
      ]
     },
     "execution_count": 44,
     "metadata": {},
     "output_type": "execute_result"
    }
   ],
   "source": [
    "patternise_descriptions(keys_per_extent[extent], list(atomic_patterns), subatoms_order)[0]"
   ]
  },
  {
   "cell_type": "markdown",
   "id": "6d8f5d5f-f33e-48a0-928c-2a88aeb0f094",
   "metadata": {},
   "source": [
    "Minimal generators of `extent` according to Talky-GI"
   ]
  },
  {
   "cell_type": "code",
   "execution_count": 45,
   "id": "cc8263d5-a386-48fb-a1f1-0f850f27ed36",
   "metadata": {},
   "outputs": [
    {
     "data": {
      "text/plain": [
       "[{'Fare': < 263.0, 'SibSp': < 2.0}]"
      ]
     },
     "execution_count": 45,
     "metadata": {},
     "output_type": "execute_result"
    }
   ],
   "source": [
    "patternise_descriptions(keys_per_extent_impl[extent], list(atomic_patterns), subatoms_order)[0]"
   ]
  }
 ],
 "metadata": {
  "kernelspec": {
   "display_name": "Python 3 (ipykernel)",
   "language": "python",
   "name": "python3"
  },
  "language_info": {
   "codemirror_mode": {
    "name": "ipython",
    "version": 3
   },
   "file_extension": ".py",
   "mimetype": "text/x-python",
   "name": "python",
   "nbconvert_exporter": "python",
   "pygments_lexer": "ipython3",
   "version": "3.11.3"
  },
  "widgets": {
   "application/vnd.jupyter.widget-state+json": {
    "state": {
     "00ed26cfcc1b4e5182154314f304a4cc": {
      "model_module": "@jupyter-widgets/base",
      "model_module_version": "2.0.0",
      "model_name": "LayoutModel",
      "state": {}
     },
     "04470a3a751346c3ada25d37c1f907f2": {
      "model_module": "@jupyter-widgets/controls",
      "model_module_version": "2.0.0",
      "model_name": "HTMLStyleModel",
      "state": {
       "description_width": "",
       "font_size": null,
       "text_color": null
      }
     },
     "066cfdec22394da884eef71cc10f7871": {
      "model_module": "@jupyter-widgets/controls",
      "model_module_version": "2.0.0",
      "model_name": "ProgressStyleModel",
      "state": {
       "description_width": ""
      }
     },
     "069be92519e54784b67a47216c369bd2": {
      "model_module": "@jupyter-widgets/controls",
      "model_module_version": "2.0.0",
      "model_name": "HTMLStyleModel",
      "state": {
       "description_width": "",
       "font_size": null,
       "text_color": null
      }
     },
     "0772fc32227a44f38b11af792ed70abb": {
      "model_module": "@jupyter-widgets/base",
      "model_module_version": "2.0.0",
      "model_name": "LayoutModel",
      "state": {}
     },
     "0810b85677c1426fa1b9c2a6ab7d7374": {
      "model_module": "@jupyter-widgets/controls",
      "model_module_version": "2.0.0",
      "model_name": "HBoxModel",
      "state": {
       "children": [
        "IPY_MODEL_65b63a7ea4644c4bab08337252cda7e2",
        "IPY_MODEL_79805c21498c4e31b9dc596f0191fe12",
        "IPY_MODEL_503a919c821d435daa3d3cc849fc428b"
       ],
       "layout": "IPY_MODEL_5d32df7f718c4801af9278c98f907bc8"
      }
     },
     "083926f29c6141819d7adb8b77729cc9": {
      "model_module": "@jupyter-widgets/controls",
      "model_module_version": "2.0.0",
      "model_name": "HTMLStyleModel",
      "state": {
       "description_width": "",
       "font_size": null,
       "text_color": null
      }
     },
     "08fc19ff1f1d4911a6d11467a68c00a2": {
      "model_module": "@jupyter-widgets/controls",
      "model_module_version": "2.0.0",
      "model_name": "HBoxModel",
      "state": {
       "children": [
        "IPY_MODEL_9297353d426a466e84d44dd9aea2aeb0",
        "IPY_MODEL_b8af095315fe4f7d8adf770342daddd3",
        "IPY_MODEL_f83bcd0575f84d0592e43f4981d755dd"
       ],
       "layout": "IPY_MODEL_905bfe35e0104c539435d1505f9866f0"
      }
     },
     "0ca0f5678dec4eec99f6b5167f077392": {
      "model_module": "@jupyter-widgets/controls",
      "model_module_version": "2.0.0",
      "model_name": "ProgressStyleModel",
      "state": {
       "description_width": ""
      }
     },
     "0e6186b03922459699f3b297a9cea504": {
      "model_module": "@jupyter-widgets/base",
      "model_module_version": "2.0.0",
      "model_name": "LayoutModel",
      "state": {}
     },
     "0ea0552792e64693a3db70dc87882457": {
      "model_module": "@jupyter-widgets/controls",
      "model_module_version": "2.0.0",
      "model_name": "HTMLModel",
      "state": {
       "layout": "IPY_MODEL_3d75207f1a804e3a8a39fed5ffa1f0ac",
       "style": "IPY_MODEL_1d0491f1aec14a94a16c537d799ae11b",
       "value": " 60%"
      }
     },
     "101eda6ea1d9412e8630ee53850e4a0f": {
      "model_module": "@jupyter-widgets/controls",
      "model_module_version": "2.0.0",
      "model_name": "HTMLStyleModel",
      "state": {
       "description_width": "",
       "font_size": null,
       "text_color": null
      }
     },
     "15721d88978b4caca6f871246dd6101d": {
      "model_module": "@jupyter-widgets/controls",
      "model_module_version": "2.0.0",
      "model_name": "HBoxModel",
      "state": {
       "children": [
        "IPY_MODEL_a6492cc6608e4c2580e930076d03b615",
        "IPY_MODEL_83a2aa92ec404cb7aac8e66fe94fe478",
        "IPY_MODEL_54467a8835c64f7eb52e87c7983f0e6d"
       ],
       "layout": "IPY_MODEL_dd7d9f5a785c4d32ab65d822f2dceee6"
      }
     },
     "17ab9f6f2ddb473293497186244df73b": {
      "model_module": "@jupyter-widgets/controls",
      "model_module_version": "2.0.0",
      "model_name": "HTMLStyleModel",
      "state": {
       "description_width": "",
       "font_size": null,
       "text_color": null
      }
     },
     "18daa497acea4e20a4d81fb257f7ff3b": {
      "model_module": "@jupyter-widgets/base",
      "model_module_version": "2.0.0",
      "model_name": "LayoutModel",
      "state": {}
     },
     "1b257a33bc4e4a4689fadeb8a08da8c2": {
      "model_module": "@jupyter-widgets/base",
      "model_module_version": "2.0.0",
      "model_name": "LayoutModel",
      "state": {}
     },
     "1d0491f1aec14a94a16c537d799ae11b": {
      "model_module": "@jupyter-widgets/controls",
      "model_module_version": "2.0.0",
      "model_name": "HTMLStyleModel",
      "state": {
       "description_width": "",
       "font_size": null,
       "text_color": null
      }
     },
     "1d5aa78def2e4fae99b4c5b20222e574": {
      "model_module": "@jupyter-widgets/base",
      "model_module_version": "2.0.0",
      "model_name": "LayoutModel",
      "state": {}
     },
     "201c68c63cd74007adbd8dd39ce18fad": {
      "model_module": "@jupyter-widgets/controls",
      "model_module_version": "2.0.0",
      "model_name": "HTMLModel",
      "state": {
       "layout": "IPY_MODEL_7f2642009b364661bc304bdeb25de406",
       "style": "IPY_MODEL_17ab9f6f2ddb473293497186244df73b",
       "value": " 5/5 [09:26&lt;00:00, 180.52s/it]"
      }
     },
     "231c6afa79134806a4a5741813bab749": {
      "model_module": "@jupyter-widgets/controls",
      "model_module_version": "2.0.0",
      "model_name": "HTMLModel",
      "state": {
       "layout": "IPY_MODEL_86e155bead204340bd7fcedeed9238ec",
       "style": "IPY_MODEL_4fa81bb3170a4fe69428c9b5c46f0c5c",
       "value": "100%"
      }
     },
     "23788828065f4e95b1f3d807eb0091f3": {
      "model_module": "@jupyter-widgets/base",
      "model_module_version": "2.0.0",
      "model_name": "LayoutModel",
      "state": {}
     },
     "254b3f22bbba406e93855abdc6277da5": {
      "model_module": "@jupyter-widgets/controls",
      "model_module_version": "2.0.0",
      "model_name": "FloatProgressModel",
      "state": {
       "bar_style": "success",
       "layout": "IPY_MODEL_f40b94928d8f4f48b33a40b0f7ea8e53",
       "max": 5,
       "style": "IPY_MODEL_066cfdec22394da884eef71cc10f7871",
       "value": 5
      }
     },
     "2898e600668c4cddbfc0cc334bbf5e18": {
      "model_module": "@jupyter-widgets/controls",
      "model_module_version": "2.0.0",
      "model_name": "HTMLStyleModel",
      "state": {
       "description_width": "",
       "font_size": null,
       "text_color": null
      }
     },
     "2a0a69218962400aa498c6c6ec466144": {
      "model_module": "@jupyter-widgets/base",
      "model_module_version": "2.0.0",
      "model_name": "LayoutModel",
      "state": {}
     },
     "2dff9475453341279589bf6666be742e": {
      "model_module": "@jupyter-widgets/controls",
      "model_module_version": "2.0.0",
      "model_name": "HBoxModel",
      "state": {
       "children": [
        "IPY_MODEL_d3bd60eff4ce45d68cc6e6c3ec26ab55",
        "IPY_MODEL_e2aae4d5064b4977b72b970ed06dde14",
        "IPY_MODEL_49ae3ea4736545638c8feabbe739f408"
       ],
       "layout": "IPY_MODEL_486c5855ea30464283b30771b13f363a"
      }
     },
     "31df2fae4ef44318ae9322f66a05b2be": {
      "model_module": "@jupyter-widgets/base",
      "model_module_version": "2.0.0",
      "model_name": "LayoutModel",
      "state": {}
     },
     "322f20c9d1d046358b05e043f637397d": {
      "model_module": "@jupyter-widgets/base",
      "model_module_version": "2.0.0",
      "model_name": "LayoutModel",
      "state": {}
     },
     "32be195c968644fcbd8a4ac1eb0d0339": {
      "model_module": "@jupyter-widgets/controls",
      "model_module_version": "2.0.0",
      "model_name": "HTMLStyleModel",
      "state": {
       "description_width": "",
       "font_size": null,
       "text_color": null
      }
     },
     "342f419479db4b7d9aa2e60edf5a4cbd": {
      "model_module": "@jupyter-widgets/controls",
      "model_module_version": "2.0.0",
      "model_name": "ProgressStyleModel",
      "state": {
       "description_width": ""
      }
     },
     "3aff1b4616d24a49b27e859e287d89dd": {
      "model_module": "@jupyter-widgets/controls",
      "model_module_version": "2.0.0",
      "model_name": "HTMLModel",
      "state": {
       "layout": "IPY_MODEL_18daa497acea4e20a4d81fb257f7ff3b",
       "style": "IPY_MODEL_da5e51387ae34a888c54e6171291dd3f",
       "value": " 71%"
      }
     },
     "3d75207f1a804e3a8a39fed5ffa1f0ac": {
      "model_module": "@jupyter-widgets/base",
      "model_module_version": "2.0.0",
      "model_name": "LayoutModel",
      "state": {}
     },
     "3dc166c7dcce466ebf5a59af259ee1c0": {
      "model_module": "@jupyter-widgets/controls",
      "model_module_version": "2.0.0",
      "model_name": "HTMLStyleModel",
      "state": {
       "description_width": "",
       "font_size": null,
       "text_color": null
      }
     },
     "3fde028d3fdd46d986058a23e0161bdb": {
      "model_module": "@jupyter-widgets/base",
      "model_module_version": "2.0.0",
      "model_name": "LayoutModel",
      "state": {}
     },
     "3ffcbb93909f474592a168dc72de79e5": {
      "model_module": "@jupyter-widgets/controls",
      "model_module_version": "2.0.0",
      "model_name": "HTMLStyleModel",
      "state": {
       "description_width": "",
       "font_size": null,
       "text_color": null
      }
     },
     "41c10cedcb1246dc884d83a4cbfabfd6": {
      "model_module": "@jupyter-widgets/base",
      "model_module_version": "2.0.0",
      "model_name": "LayoutModel",
      "state": {}
     },
     "427c231f7a344bf3a000351787f83876": {
      "model_module": "@jupyter-widgets/base",
      "model_module_version": "2.0.0",
      "model_name": "LayoutModel",
      "state": {}
     },
     "42d6ea43d57c47568908e1a356949a01": {
      "model_module": "@jupyter-widgets/controls",
      "model_module_version": "2.0.0",
      "model_name": "ProgressStyleModel",
      "state": {
       "description_width": ""
      }
     },
     "436d6b8021724483b38d692a89d1cf17": {
      "model_module": "@jupyter-widgets/base",
      "model_module_version": "2.0.0",
      "model_name": "LayoutModel",
      "state": {}
     },
     "44a92ff0ca9e480183ff75542fb9d38b": {
      "model_module": "@jupyter-widgets/base",
      "model_module_version": "2.0.0",
      "model_name": "LayoutModel",
      "state": {}
     },
     "4595a96ec9d346afa94c46a048de5afb": {
      "model_module": "@jupyter-widgets/base",
      "model_module_version": "2.0.0",
      "model_name": "LayoutModel",
      "state": {}
     },
     "486c5855ea30464283b30771b13f363a": {
      "model_module": "@jupyter-widgets/base",
      "model_module_version": "2.0.0",
      "model_name": "LayoutModel",
      "state": {}
     },
     "49ae3ea4736545638c8feabbe739f408": {
      "model_module": "@jupyter-widgets/controls",
      "model_module_version": "2.0.0",
      "model_name": "HTMLModel",
      "state": {
       "layout": "IPY_MODEL_4bb1b943de594809bceb536693666f40",
       "style": "IPY_MODEL_5140b9120bba49e49ff3a064e672448d",
       "value": " 20947/20947 [00:18&lt;00:00, 22.40it/s]"
      }
     },
     "4b517af726cd496d8bd6d658bb142819": {
      "model_module": "@jupyter-widgets/base",
      "model_module_version": "2.0.0",
      "model_name": "LayoutModel",
      "state": {}
     },
     "4bb1b943de594809bceb536693666f40": {
      "model_module": "@jupyter-widgets/base",
      "model_module_version": "2.0.0",
      "model_name": "LayoutModel",
      "state": {}
     },
     "4ec40120cbae47d8a1b86530c5863ba6": {
      "model_module": "@jupyter-widgets/base",
      "model_module_version": "2.0.0",
      "model_name": "LayoutModel",
      "state": {}
     },
     "4fa81bb3170a4fe69428c9b5c46f0c5c": {
      "model_module": "@jupyter-widgets/controls",
      "model_module_version": "2.0.0",
      "model_name": "HTMLStyleModel",
      "state": {
       "description_width": "",
       "font_size": null,
       "text_color": null
      }
     },
     "503a919c821d435daa3d3cc849fc428b": {
      "model_module": "@jupyter-widgets/controls",
      "model_module_version": "2.0.0",
      "model_name": "HTMLModel",
      "state": {
       "layout": "IPY_MODEL_41c10cedcb1246dc884d83a4cbfabfd6",
       "style": "IPY_MODEL_32be195c968644fcbd8a4ac1eb0d0339",
       "value": " 7/7 [11:08&lt;00:00, 195.08s/it]"
      }
     },
     "5140b9120bba49e49ff3a064e672448d": {
      "model_module": "@jupyter-widgets/controls",
      "model_module_version": "2.0.0",
      "model_name": "HTMLStyleModel",
      "state": {
       "description_width": "",
       "font_size": null,
       "text_color": null
      }
     },
     "54204daece6741afbac3e96eda3cf626": {
      "model_module": "@jupyter-widgets/base",
      "model_module_version": "2.0.0",
      "model_name": "LayoutModel",
      "state": {}
     },
     "54467a8835c64f7eb52e87c7983f0e6d": {
      "model_module": "@jupyter-widgets/controls",
      "model_module_version": "2.0.0",
      "model_name": "HTMLModel",
      "state": {
       "layout": "IPY_MODEL_c719b75e08d042318873af18285742a3",
       "style": "IPY_MODEL_dbe12b58ee374159b5bc6ad4e83575d0",
       "value": " 7/7 [00:14&lt;00:00,  2.71s/it]"
      }
     },
     "5539c33911f64af6b157b6f19ab70c8b": {
      "model_module": "@jupyter-widgets/base",
      "model_module_version": "2.0.0",
      "model_name": "LayoutModel",
      "state": {}
     },
     "58006a40c79449e2bb9627398b935a39": {
      "model_module": "@jupyter-widgets/controls",
      "model_module_version": "2.0.0",
      "model_name": "HTMLStyleModel",
      "state": {
       "description_width": "",
       "font_size": null,
       "text_color": null
      }
     },
     "58e232e5973a48b19e1bc9cd753d73d6": {
      "model_module": "@jupyter-widgets/controls",
      "model_module_version": "2.0.0",
      "model_name": "HBoxModel",
      "state": {
       "children": [
        "IPY_MODEL_f298a4cc195d41aa98fb10d3a378f916",
        "IPY_MODEL_c89897ab773d4ee5b48b613675d28dcb",
        "IPY_MODEL_fd9474b1f3f045388f3156ff46ac29be"
       ],
       "layout": "IPY_MODEL_44a92ff0ca9e480183ff75542fb9d38b"
      }
     },
     "590acb6eb6ca4604a97ddec79e98155c": {
      "model_module": "@jupyter-widgets/base",
      "model_module_version": "2.0.0",
      "model_name": "LayoutModel",
      "state": {}
     },
     "5aaf3edf10ac423e9a15ce82acbe1b45": {
      "model_module": "@jupyter-widgets/controls",
      "model_module_version": "2.0.0",
      "model_name": "HBoxModel",
      "state": {
       "children": [
        "IPY_MODEL_3aff1b4616d24a49b27e859e287d89dd",
        "IPY_MODEL_a0ee2a5bd4c642ebb2125a6bb83bdab3",
        "IPY_MODEL_5b1c0934bdde4963a2df29d45825485c"
       ],
       "layout": "IPY_MODEL_71660e74a8574b38975bcfc0318afd8e"
      }
     },
     "5ada034015824dc2a45515b7f5282d2b": {
      "model_module": "@jupyter-widgets/controls",
      "model_module_version": "2.0.0",
      "model_name": "ProgressStyleModel",
      "state": {
       "description_width": ""
      }
     },
     "5b1c0934bdde4963a2df29d45825485c": {
      "model_module": "@jupyter-widgets/controls",
      "model_module_version": "2.0.0",
      "model_name": "HTMLModel",
      "state": {
       "layout": "IPY_MODEL_ba7b33a9c29046a2bd631f015bcd59d9",
       "style": "IPY_MODEL_b8f24cee98494ed1891432bde4a96571",
       "value": " 5/7 [20:28&lt;06:48, 204.03s/it]"
      }
     },
     "5cd7acb7619948adbf990a5b96260e09": {
      "model_module": "@jupyter-widgets/controls",
      "model_module_version": "2.0.0",
      "model_name": "HTMLStyleModel",
      "state": {
       "description_width": "",
       "font_size": null,
       "text_color": null
      }
     },
     "5d32df7f718c4801af9278c98f907bc8": {
      "model_module": "@jupyter-widgets/base",
      "model_module_version": "2.0.0",
      "model_name": "LayoutModel",
      "state": {}
     },
     "600fc2acb96e45bf8250aa695de944ce": {
      "model_module": "@jupyter-widgets/controls",
      "model_module_version": "2.0.0",
      "model_name": "HTMLStyleModel",
      "state": {
       "description_width": "",
       "font_size": null,
       "text_color": null
      }
     },
     "6187612b6576465fb7b4865c93b5d5c8": {
      "model_module": "@jupyter-widgets/controls",
      "model_module_version": "2.0.0",
      "model_name": "HTMLStyleModel",
      "state": {
       "description_width": "",
       "font_size": null,
       "text_color": null
      }
     },
     "65b63a7ea4644c4bab08337252cda7e2": {
      "model_module": "@jupyter-widgets/controls",
      "model_module_version": "2.0.0",
      "model_name": "HTMLModel",
      "state": {
       "layout": "IPY_MODEL_0772fc32227a44f38b11af792ed70abb",
       "style": "IPY_MODEL_5cd7acb7619948adbf990a5b96260e09",
       "value": "100%"
      }
     },
     "65f8bcd568d840799a639cb35be119ce": {
      "model_module": "@jupyter-widgets/controls",
      "model_module_version": "2.0.0",
      "model_name": "HTMLStyleModel",
      "state": {
       "description_width": "",
       "font_size": null,
       "text_color": null
      }
     },
     "6a1177fbd91a4951a41e712a8d9dac74": {
      "model_module": "@jupyter-widgets/controls",
      "model_module_version": "2.0.0",
      "model_name": "ProgressStyleModel",
      "state": {
       "description_width": ""
      }
     },
     "6d13d532b9a348d0b617e4caf61e0d7d": {
      "model_module": "@jupyter-widgets/controls",
      "model_module_version": "2.0.0",
      "model_name": "HTMLStyleModel",
      "state": {
       "description_width": "",
       "font_size": null,
       "text_color": null
      }
     },
     "6dee06bd870a4790bfc72dba58d2711f": {
      "model_module": "@jupyter-widgets/controls",
      "model_module_version": "2.0.0",
      "model_name": "HTMLStyleModel",
      "state": {
       "description_width": "",
       "font_size": null,
       "text_color": null
      }
     },
     "6e3e63ac630e495a83c588e889b692e5": {
      "model_module": "@jupyter-widgets/base",
      "model_module_version": "2.0.0",
      "model_name": "LayoutModel",
      "state": {}
     },
     "6f259dd40e874c4baa981c6f85d9a6c8": {
      "model_module": "@jupyter-widgets/controls",
      "model_module_version": "2.0.0",
      "model_name": "HBoxModel",
      "state": {
       "children": [
        "IPY_MODEL_db00477d843a4353b6fe93e54d78cc1a",
        "IPY_MODEL_c5a334c4d5c648a7b960fb30dc524797",
        "IPY_MODEL_d8fb1826cf164a2cb588c72ec9b0cd83"
       ],
       "layout": "IPY_MODEL_aba523f455cc4207a408067f39876694"
      }
     },
     "6f7e92cf4e6a4c1ba9a9d1b32f2759af": {
      "model_module": "@jupyter-widgets/base",
      "model_module_version": "2.0.0",
      "model_name": "LayoutModel",
      "state": {}
     },
     "70e4781a25144c30a734d541babfe2b8": {
      "model_module": "@jupyter-widgets/base",
      "model_module_version": "2.0.0",
      "model_name": "LayoutModel",
      "state": {}
     },
     "71660e74a8574b38975bcfc0318afd8e": {
      "model_module": "@jupyter-widgets/base",
      "model_module_version": "2.0.0",
      "model_name": "LayoutModel",
      "state": {}
     },
     "7193af6c2e874cada96c3b2a73d5735e": {
      "model_module": "@jupyter-widgets/base",
      "model_module_version": "2.0.0",
      "model_name": "LayoutModel",
      "state": {}
     },
     "74a9374dcf8744338496bf9727224b3d": {
      "model_module": "@jupyter-widgets/controls",
      "model_module_version": "2.0.0",
      "model_name": "HTMLModel",
      "state": {
       "layout": "IPY_MODEL_4b517af726cd496d8bd6d658bb142819",
       "style": "IPY_MODEL_d2f3d34ad9614263b76352747d461e93",
       "value": " 4/5 [06:25&lt;02:19, 139.53s/it]"
      }
     },
     "764ddc5cfae046cb86c14c8b9d8e78ba": {
      "model_module": "@jupyter-widgets/controls",
      "model_module_version": "2.0.0",
      "model_name": "HTMLModel",
      "state": {
       "layout": "IPY_MODEL_1b257a33bc4e4a4689fadeb8a08da8c2",
       "style": "IPY_MODEL_58006a40c79449e2bb9627398b935a39",
       "value": "100%"
      }
     },
     "7952b39c65fe4c25bcb62664d68321b1": {
      "model_module": "@jupyter-widgets/controls",
      "model_module_version": "2.0.0",
      "model_name": "ProgressStyleModel",
      "state": {
       "description_width": ""
      }
     },
     "79805c21498c4e31b9dc596f0191fe12": {
      "model_module": "@jupyter-widgets/controls",
      "model_module_version": "2.0.0",
      "model_name": "FloatProgressModel",
      "state": {
       "bar_style": "success",
       "layout": "IPY_MODEL_5539c33911f64af6b157b6f19ab70c8b",
       "max": 7,
       "style": "IPY_MODEL_af7afb7acebe451fa10210763c98b492",
       "value": 7
      }
     },
     "7c017b3a17114b2cbcc9d290579292cd": {
      "model_module": "@jupyter-widgets/controls",
      "model_module_version": "2.0.0",
      "model_name": "HBoxModel",
      "state": {
       "children": [
        "IPY_MODEL_231c6afa79134806a4a5741813bab749",
        "IPY_MODEL_f5374134bbfd49eb968fdde9ca2ff61f",
        "IPY_MODEL_fae6086dd375463c9f3e22e7ca00fe52"
       ],
       "layout": "IPY_MODEL_ab633b945dd143498e574752c1174eb5"
      }
     },
     "7d472069eea5447a80ff2875e785d157": {
      "model_module": "@jupyter-widgets/controls",
      "model_module_version": "2.0.0",
      "model_name": "FloatProgressModel",
      "state": {
       "bar_style": "danger",
       "layout": "IPY_MODEL_2a0a69218962400aa498c6c6ec466144",
       "max": 7,
       "style": "IPY_MODEL_5ada034015824dc2a45515b7f5282d2b",
       "value": 6
      }
     },
     "7f2642009b364661bc304bdeb25de406": {
      "model_module": "@jupyter-widgets/base",
      "model_module_version": "2.0.0",
      "model_name": "LayoutModel",
      "state": {}
     },
     "82dc4925e9e0417a95aedf915bb5049c": {
      "model_module": "@jupyter-widgets/base",
      "model_module_version": "2.0.0",
      "model_name": "LayoutModel",
      "state": {}
     },
     "83a2aa92ec404cb7aac8e66fe94fe478": {
      "model_module": "@jupyter-widgets/controls",
      "model_module_version": "2.0.0",
      "model_name": "FloatProgressModel",
      "state": {
       "bar_style": "success",
       "layout": "IPY_MODEL_f18e256bbf084268ac9dfee4b4bd8a46",
       "max": 7,
       "style": "IPY_MODEL_b60b7b539fa94cf885e587c10a77aa06",
       "value": 7
      }
     },
     "86e155bead204340bd7fcedeed9238ec": {
      "model_module": "@jupyter-widgets/base",
      "model_module_version": "2.0.0",
      "model_name": "LayoutModel",
      "state": {}
     },
     "8b049ca7193e4f99978ba9d3999f354c": {
      "model_module": "@jupyter-widgets/controls",
      "model_module_version": "2.0.0",
      "model_name": "HTMLModel",
      "state": {
       "layout": "IPY_MODEL_8b5a4790eb8643ba8591e7ac6bbb2235",
       "style": "IPY_MODEL_04470a3a751346c3ada25d37c1f907f2",
       "value": " 80%"
      }
     },
     "8b5a4790eb8643ba8591e7ac6bbb2235": {
      "model_module": "@jupyter-widgets/base",
      "model_module_version": "2.0.0",
      "model_name": "LayoutModel",
      "state": {}
     },
     "8b67caa1d73b41cdbeceaaacaa9a1f24": {
      "model_module": "@jupyter-widgets/base",
      "model_module_version": "2.0.0",
      "model_name": "LayoutModel",
      "state": {}
     },
     "905bfe35e0104c539435d1505f9866f0": {
      "model_module": "@jupyter-widgets/base",
      "model_module_version": "2.0.0",
      "model_name": "LayoutModel",
      "state": {}
     },
     "918bb581ceef4e96b7a61a160fd792fb": {
      "model_module": "@jupyter-widgets/base",
      "model_module_version": "2.0.0",
      "model_name": "LayoutModel",
      "state": {}
     },
     "91fd783af7d54f2593d90decb64ec113": {
      "model_module": "@jupyter-widgets/controls",
      "model_module_version": "2.0.0",
      "model_name": "HTMLModel",
      "state": {
       "layout": "IPY_MODEL_940895fb8b944f01ad63d4c6062029eb",
       "style": "IPY_MODEL_2898e600668c4cddbfc0cc334bbf5e18",
       "value": "100%"
      }
     },
     "92260c0ccdd34c6293aab008f47f86e5": {
      "model_module": "@jupyter-widgets/controls",
      "model_module_version": "2.0.0",
      "model_name": "ProgressStyleModel",
      "state": {
       "description_width": ""
      }
     },
     "9297353d426a466e84d44dd9aea2aeb0": {
      "model_module": "@jupyter-widgets/controls",
      "model_module_version": "2.0.0",
      "model_name": "HTMLModel",
      "state": {
       "layout": "IPY_MODEL_c7c38a357bb2432d8379b629f8238598",
       "style": "IPY_MODEL_aad79dfb787b46acbd6a6f019452827f",
       "value": " 80%"
      }
     },
     "93cbb48fd239442e9494edf265d477de": {
      "model_module": "@jupyter-widgets/controls",
      "model_module_version": "2.0.0",
      "model_name": "HBoxModel",
      "state": {
       "children": [
        "IPY_MODEL_f88d4bf8f87a4254af01bd37156ffaeb",
        "IPY_MODEL_7d472069eea5447a80ff2875e785d157",
        "IPY_MODEL_d909973ef6f547d5a9ab727076e33183"
       ],
       "layout": "IPY_MODEL_cc150af5ce6849ea91d2afaa5d7c82bb"
      }
     },
     "940895fb8b944f01ad63d4c6062029eb": {
      "model_module": "@jupyter-widgets/base",
      "model_module_version": "2.0.0",
      "model_name": "LayoutModel",
      "state": {}
     },
     "96d34d0225c74068a19214a2bfa45903": {
      "model_module": "@jupyter-widgets/controls",
      "model_module_version": "2.0.0",
      "model_name": "HTMLStyleModel",
      "state": {
       "description_width": "",
       "font_size": null,
       "text_color": null
      }
     },
     "9b4632131fd6499fa33d99d20bac8387": {
      "model_module": "@jupyter-widgets/controls",
      "model_module_version": "2.0.0",
      "model_name": "HTMLModel",
      "state": {
       "layout": "IPY_MODEL_82dc4925e9e0417a95aedf915bb5049c",
       "style": "IPY_MODEL_a4a73bf878614369a680fc6bcffc0efd",
       "value": " 3/5 [13:41&lt;03:20, 100.15s/it]"
      }
     },
     "9bdd32f0a9524926bfffb9c6fd47cc12": {
      "model_module": "@jupyter-widgets/base",
      "model_module_version": "2.0.0",
      "model_name": "LayoutModel",
      "state": {}
     },
     "9cd29277326247018540ae401caf8982": {
      "model_module": "@jupyter-widgets/base",
      "model_module_version": "2.0.0",
      "model_name": "LayoutModel",
      "state": {}
     },
     "a0ee2a5bd4c642ebb2125a6bb83bdab3": {
      "model_module": "@jupyter-widgets/controls",
      "model_module_version": "2.0.0",
      "model_name": "FloatProgressModel",
      "state": {
       "bar_style": "danger",
       "layout": "IPY_MODEL_6e3e63ac630e495a83c588e889b692e5",
       "max": 7,
       "style": "IPY_MODEL_d2468c8200444e68a2e7655185bd44a3",
       "value": 5
      }
     },
     "a2542aa4ceef4bce812d8ddefba9ce3c": {
      "model_module": "@jupyter-widgets/controls",
      "model_module_version": "2.0.0",
      "model_name": "HTMLStyleModel",
      "state": {
       "description_width": "",
       "font_size": null,
       "text_color": null
      }
     },
     "a4a73bf878614369a680fc6bcffc0efd": {
      "model_module": "@jupyter-widgets/controls",
      "model_module_version": "2.0.0",
      "model_name": "HTMLStyleModel",
      "state": {
       "description_width": "",
       "font_size": null,
       "text_color": null
      }
     },
     "a50c8585c6aa44eaaace4d73f076a87d": {
      "model_module": "@jupyter-widgets/base",
      "model_module_version": "2.0.0",
      "model_name": "LayoutModel",
      "state": {}
     },
     "a6492cc6608e4c2580e930076d03b615": {
      "model_module": "@jupyter-widgets/controls",
      "model_module_version": "2.0.0",
      "model_name": "HTMLModel",
      "state": {
       "layout": "IPY_MODEL_8b67caa1d73b41cdbeceaaacaa9a1f24",
       "style": "IPY_MODEL_600fc2acb96e45bf8250aa695de944ce",
       "value": "100%"
      }
     },
     "a92ac665c79d428f8d28161aa6e8b975": {
      "model_module": "@jupyter-widgets/controls",
      "model_module_version": "2.0.0",
      "model_name": "HTMLModel",
      "state": {
       "layout": "IPY_MODEL_6f7e92cf4e6a4c1ba9a9d1b32f2759af",
       "style": "IPY_MODEL_069be92519e54784b67a47216c369bd2",
       "value": " 60%"
      }
     },
     "aad79dfb787b46acbd6a6f019452827f": {
      "model_module": "@jupyter-widgets/controls",
      "model_module_version": "2.0.0",
      "model_name": "HTMLStyleModel",
      "state": {
       "description_width": "",
       "font_size": null,
       "text_color": null
      }
     },
     "ab633b945dd143498e574752c1174eb5": {
      "model_module": "@jupyter-widgets/base",
      "model_module_version": "2.0.0",
      "model_name": "LayoutModel",
      "state": {}
     },
     "aba523f455cc4207a408067f39876694": {
      "model_module": "@jupyter-widgets/base",
      "model_module_version": "2.0.0",
      "model_name": "LayoutModel",
      "state": {}
     },
     "ad8347b73ae24c2caf6fb5c37c5e20b4": {
      "model_module": "@jupyter-widgets/base",
      "model_module_version": "2.0.0",
      "model_name": "LayoutModel",
      "state": {}
     },
     "af7afb7acebe451fa10210763c98b492": {
      "model_module": "@jupyter-widgets/controls",
      "model_module_version": "2.0.0",
      "model_name": "ProgressStyleModel",
      "state": {
       "description_width": ""
      }
     },
     "b09180447e124fa1b6f69752f4ed71ac": {
      "model_module": "@jupyter-widgets/controls",
      "model_module_version": "2.0.0",
      "model_name": "HTMLModel",
      "state": {
       "layout": "IPY_MODEL_1d5aa78def2e4fae99b4c5b20222e574",
       "style": "IPY_MODEL_65f8bcd568d840799a639cb35be119ce",
       "value": " 3/5 [11:49&lt;01:39, 49.84s/it]"
      }
     },
     "b3a19bd2ddc9417cbea591778fcace0f": {
      "model_module": "@jupyter-widgets/base",
      "model_module_version": "2.0.0",
      "model_name": "LayoutModel",
      "state": {}
     },
     "b60b7b539fa94cf885e587c10a77aa06": {
      "model_module": "@jupyter-widgets/controls",
      "model_module_version": "2.0.0",
      "model_name": "ProgressStyleModel",
      "state": {
       "description_width": ""
      }
     },
     "b8af095315fe4f7d8adf770342daddd3": {
      "model_module": "@jupyter-widgets/controls",
      "model_module_version": "2.0.0",
      "model_name": "FloatProgressModel",
      "state": {
       "bar_style": "danger",
       "layout": "IPY_MODEL_ca056acfbacd445597bc454b27d1c6ce",
       "max": 5,
       "style": "IPY_MODEL_92260c0ccdd34c6293aab008f47f86e5",
       "value": 4
      }
     },
     "b8f24cee98494ed1891432bde4a96571": {
      "model_module": "@jupyter-widgets/controls",
      "model_module_version": "2.0.0",
      "model_name": "HTMLStyleModel",
      "state": {
       "description_width": "",
       "font_size": null,
       "text_color": null
      }
     },
     "b9a184e03f5d4cc397e2f6f2d8631146": {
      "model_module": "@jupyter-widgets/controls",
      "model_module_version": "2.0.0",
      "model_name": "HTMLStyleModel",
      "state": {
       "description_width": "",
       "font_size": null,
       "text_color": null
      }
     },
     "ba7b33a9c29046a2bd631f015bcd59d9": {
      "model_module": "@jupyter-widgets/base",
      "model_module_version": "2.0.0",
      "model_name": "LayoutModel",
      "state": {}
     },
     "bfc13efa6ee5420c8ca0e077954b6016": {
      "model_module": "@jupyter-widgets/base",
      "model_module_version": "2.0.0",
      "model_name": "LayoutModel",
      "state": {}
     },
     "c414a69cd032469899d7d3971f0eafe9": {
      "model_module": "@jupyter-widgets/controls",
      "model_module_version": "2.0.0",
      "model_name": "ProgressStyleModel",
      "state": {
       "description_width": ""
      }
     },
     "c5a334c4d5c648a7b960fb30dc524797": {
      "model_module": "@jupyter-widgets/controls",
      "model_module_version": "2.0.0",
      "model_name": "FloatProgressModel",
      "state": {
       "bar_style": "success",
       "layout": "IPY_MODEL_9bdd32f0a9524926bfffb9c6fd47cc12",
       "max": 891,
       "style": "IPY_MODEL_0ca0f5678dec4eec99f6b5167f077392",
       "value": 891
      }
     },
     "c719b75e08d042318873af18285742a3": {
      "model_module": "@jupyter-widgets/base",
      "model_module_version": "2.0.0",
      "model_name": "LayoutModel",
      "state": {}
     },
     "c7c38a357bb2432d8379b629f8238598": {
      "model_module": "@jupyter-widgets/base",
      "model_module_version": "2.0.0",
      "model_name": "LayoutModel",
      "state": {}
     },
     "c7c6edb223714fc980c85aa13c3131af": {
      "model_module": "@jupyter-widgets/controls",
      "model_module_version": "2.0.0",
      "model_name": "FloatProgressModel",
      "state": {
       "bar_style": "success",
       "layout": "IPY_MODEL_7193af6c2e874cada96c3b2a73d5735e",
       "max": 5,
       "style": "IPY_MODEL_c414a69cd032469899d7d3971f0eafe9",
       "value": 5
      }
     },
     "c89897ab773d4ee5b48b613675d28dcb": {
      "model_module": "@jupyter-widgets/controls",
      "model_module_version": "2.0.0",
      "model_name": "FloatProgressModel",
      "state": {
       "bar_style": "danger",
       "layout": "IPY_MODEL_4ec40120cbae47d8a1b86530c5863ba6",
       "max": 7,
       "style": "IPY_MODEL_ebfd21f60f094bf78cecd3aad5fd1991",
       "value": 6
      }
     },
     "c9bf803d14ac4d93b3ac89a31fb7b558": {
      "model_module": "@jupyter-widgets/base",
      "model_module_version": "2.0.0",
      "model_name": "LayoutModel",
      "state": {}
     },
     "ca056acfbacd445597bc454b27d1c6ce": {
      "model_module": "@jupyter-widgets/base",
      "model_module_version": "2.0.0",
      "model_name": "LayoutModel",
      "state": {}
     },
     "cc150af5ce6849ea91d2afaa5d7c82bb": {
      "model_module": "@jupyter-widgets/base",
      "model_module_version": "2.0.0",
      "model_name": "LayoutModel",
      "state": {}
     },
     "d0fc77a0fa8f4693adb51f9a1f9269d6": {
      "model_module": "@jupyter-widgets/controls",
      "model_module_version": "2.0.0",
      "model_name": "HBoxModel",
      "state": {
       "children": [
        "IPY_MODEL_8b049ca7193e4f99978ba9d3999f354c",
        "IPY_MODEL_d5f93e9f94bb4ef2b92428aaf3f82b34",
        "IPY_MODEL_74a9374dcf8744338496bf9727224b3d"
       ],
       "layout": "IPY_MODEL_b3a19bd2ddc9417cbea591778fcace0f"
      }
     },
     "d2468c8200444e68a2e7655185bd44a3": {
      "model_module": "@jupyter-widgets/controls",
      "model_module_version": "2.0.0",
      "model_name": "ProgressStyleModel",
      "state": {
       "description_width": ""
      }
     },
     "d2f3d34ad9614263b76352747d461e93": {
      "model_module": "@jupyter-widgets/controls",
      "model_module_version": "2.0.0",
      "model_name": "HTMLStyleModel",
      "state": {
       "description_width": "",
       "font_size": null,
       "text_color": null
      }
     },
     "d3bd60eff4ce45d68cc6e6c3ec26ab55": {
      "model_module": "@jupyter-widgets/controls",
      "model_module_version": "2.0.0",
      "model_name": "HTMLModel",
      "state": {
       "layout": "IPY_MODEL_70e4781a25144c30a734d541babfe2b8",
       "style": "IPY_MODEL_b9a184e03f5d4cc397e2f6f2d8631146",
       "value": "Compute order of patterns: 100%"
      }
     },
     "d5f93e9f94bb4ef2b92428aaf3f82b34": {
      "model_module": "@jupyter-widgets/controls",
      "model_module_version": "2.0.0",
      "model_name": "FloatProgressModel",
      "state": {
       "bar_style": "danger",
       "layout": "IPY_MODEL_427c231f7a344bf3a000351787f83876",
       "max": 5,
       "style": "IPY_MODEL_e95b9a5ca80d46a3bb757638718ba3f7",
       "value": 4
      }
     },
     "d8fb1826cf164a2cb588c72ec9b0cd83": {
      "model_module": "@jupyter-widgets/controls",
      "model_module_version": "2.0.0",
      "model_name": "HTMLModel",
      "state": {
       "layout": "IPY_MODEL_3fde028d3fdd46d986058a23e0161bdb",
       "style": "IPY_MODEL_96d34d0225c74068a19214a2bfa45903",
       "value": " 891/891 [00:03&lt;00:00, 230.36it/s]"
      }
     },
     "d909973ef6f547d5a9ab727076e33183": {
      "model_module": "@jupyter-widgets/controls",
      "model_module_version": "2.0.0",
      "model_name": "HTMLModel",
      "state": {
       "layout": "IPY_MODEL_31df2fae4ef44318ae9322f66a05b2be",
       "style": "IPY_MODEL_a2542aa4ceef4bce812d8ddefba9ce3c",
       "value": " 6/7 [10:32&lt;00:09,  9.13s/it]"
      }
     },
     "da5e51387ae34a888c54e6171291dd3f": {
      "model_module": "@jupyter-widgets/controls",
      "model_module_version": "2.0.0",
      "model_name": "HTMLStyleModel",
      "state": {
       "description_width": "",
       "font_size": null,
       "text_color": null
      }
     },
     "db00477d843a4353b6fe93e54d78cc1a": {
      "model_module": "@jupyter-widgets/controls",
      "model_module_version": "2.0.0",
      "model_name": "HTMLModel",
      "state": {
       "layout": "IPY_MODEL_4595a96ec9d346afa94c46a048de5afb",
       "style": "IPY_MODEL_6d13d532b9a348d0b617e4caf61e0d7d",
       "value": "Compute atomic extents: 100%"
      }
     },
     "dbe12b58ee374159b5bc6ad4e83575d0": {
      "model_module": "@jupyter-widgets/controls",
      "model_module_version": "2.0.0",
      "model_name": "HTMLStyleModel",
      "state": {
       "description_width": "",
       "font_size": null,
       "text_color": null
      }
     },
     "dd7d9f5a785c4d32ab65d822f2dceee6": {
      "model_module": "@jupyter-widgets/base",
      "model_module_version": "2.0.0",
      "model_name": "LayoutModel",
      "state": {}
     },
     "e183b90ed99241159cd6551f587581a4": {
      "model_module": "@jupyter-widgets/controls",
      "model_module_version": "2.0.0",
      "model_name": "HBoxModel",
      "state": {
       "children": [
        "IPY_MODEL_91fd783af7d54f2593d90decb64ec113",
        "IPY_MODEL_c7c6edb223714fc980c85aa13c3131af",
        "IPY_MODEL_201c68c63cd74007adbd8dd39ce18fad"
       ],
       "layout": "IPY_MODEL_ad8347b73ae24c2caf6fb5c37c5e20b4"
      }
     },
     "e285017dab3249e898c64e64b5efc2f8": {
      "model_module": "@jupyter-widgets/controls",
      "model_module_version": "2.0.0",
      "model_name": "HBoxModel",
      "state": {
       "children": [
        "IPY_MODEL_764ddc5cfae046cb86c14c8b9d8e78ba",
        "IPY_MODEL_254b3f22bbba406e93855abdc6277da5",
        "IPY_MODEL_f7c42661e63146b4922a7459d6edca71"
       ],
       "layout": "IPY_MODEL_23788828065f4e95b1f3d807eb0091f3"
      }
     },
     "e2aae4d5064b4977b72b970ed06dde14": {
      "model_module": "@jupyter-widgets/controls",
      "model_module_version": "2.0.0",
      "model_name": "FloatProgressModel",
      "state": {
       "bar_style": "success",
       "layout": "IPY_MODEL_0e6186b03922459699f3b297a9cea504",
       "max": 20947,
       "style": "IPY_MODEL_6a1177fbd91a4951a41e712a8d9dac74",
       "value": 20947
      }
     },
     "e95b9a5ca80d46a3bb757638718ba3f7": {
      "model_module": "@jupyter-widgets/controls",
      "model_module_version": "2.0.0",
      "model_name": "ProgressStyleModel",
      "state": {
       "description_width": ""
      }
     },
     "ebeb6446e91f44a7a74d9e3717da25dd": {
      "model_module": "@jupyter-widgets/controls",
      "model_module_version": "2.0.0",
      "model_name": "HBoxModel",
      "state": {
       "children": [
        "IPY_MODEL_a92ac665c79d428f8d28161aa6e8b975",
        "IPY_MODEL_fb0f508d7072497590237d0b930504d3",
        "IPY_MODEL_b09180447e124fa1b6f69752f4ed71ac"
       ],
       "layout": "IPY_MODEL_ec23d509bb84474ebfd3b28ffbedea84"
      }
     },
     "ebfd21f60f094bf78cecd3aad5fd1991": {
      "model_module": "@jupyter-widgets/controls",
      "model_module_version": "2.0.0",
      "model_name": "ProgressStyleModel",
      "state": {
       "description_width": ""
      }
     },
     "ec23d509bb84474ebfd3b28ffbedea84": {
      "model_module": "@jupyter-widgets/base",
      "model_module_version": "2.0.0",
      "model_name": "LayoutModel",
      "state": {}
     },
     "efa0babe2a2e47d5b4894d1f2b929369": {
      "model_module": "@jupyter-widgets/controls",
      "model_module_version": "2.0.0",
      "model_name": "FloatProgressModel",
      "state": {
       "bar_style": "danger",
       "layout": "IPY_MODEL_bfc13efa6ee5420c8ca0e077954b6016",
       "max": 5,
       "style": "IPY_MODEL_342f419479db4b7d9aa2e60edf5a4cbd",
       "value": 3
      }
     },
     "f18e256bbf084268ac9dfee4b4bd8a46": {
      "model_module": "@jupyter-widgets/base",
      "model_module_version": "2.0.0",
      "model_name": "LayoutModel",
      "state": {}
     },
     "f298a4cc195d41aa98fb10d3a378f916": {
      "model_module": "@jupyter-widgets/controls",
      "model_module_version": "2.0.0",
      "model_name": "HTMLModel",
      "state": {
       "layout": "IPY_MODEL_a50c8585c6aa44eaaace4d73f076a87d",
       "style": "IPY_MODEL_6dee06bd870a4790bfc72dba58d2711f",
       "value": " 86%"
      }
     },
     "f40b94928d8f4f48b33a40b0f7ea8e53": {
      "model_module": "@jupyter-widgets/base",
      "model_module_version": "2.0.0",
      "model_name": "LayoutModel",
      "state": {}
     },
     "f5374134bbfd49eb968fdde9ca2ff61f": {
      "model_module": "@jupyter-widgets/controls",
      "model_module_version": "2.0.0",
      "model_name": "FloatProgressModel",
      "state": {
       "bar_style": "success",
       "layout": "IPY_MODEL_322f20c9d1d046358b05e043f637397d",
       "max": 5,
       "style": "IPY_MODEL_42d6ea43d57c47568908e1a356949a01",
       "value": 5
      }
     },
     "f7c42661e63146b4922a7459d6edca71": {
      "model_module": "@jupyter-widgets/controls",
      "model_module_version": "2.0.0",
      "model_name": "HTMLModel",
      "state": {
       "layout": "IPY_MODEL_590acb6eb6ca4604a97ddec79e98155c",
       "style": "IPY_MODEL_3ffcbb93909f474592a168dc72de79e5",
       "value": " 5/5 [01:06&lt;00:00, 12.75s/it]"
      }
     },
     "f83bcd0575f84d0592e43f4981d755dd": {
      "model_module": "@jupyter-widgets/controls",
      "model_module_version": "2.0.0",
      "model_name": "HTMLModel",
      "state": {
       "layout": "IPY_MODEL_436d6b8021724483b38d692a89d1cf17",
       "style": "IPY_MODEL_6187612b6576465fb7b4865c93b5d5c8",
       "value": " 4/5 [19:13&lt;02:33, 153.86s/it]"
      }
     },
     "f88d4bf8f87a4254af01bd37156ffaeb": {
      "model_module": "@jupyter-widgets/controls",
      "model_module_version": "2.0.0",
      "model_name": "HTMLModel",
      "state": {
       "layout": "IPY_MODEL_00ed26cfcc1b4e5182154314f304a4cc",
       "style": "IPY_MODEL_083926f29c6141819d7adb8b77729cc9",
       "value": " 86%"
      }
     },
     "fae6086dd375463c9f3e22e7ca00fe52": {
      "model_module": "@jupyter-widgets/controls",
      "model_module_version": "2.0.0",
      "model_name": "HTMLModel",
      "state": {
       "layout": "IPY_MODEL_918bb581ceef4e96b7a61a160fd792fb",
       "style": "IPY_MODEL_3dc166c7dcce466ebf5a59af259ee1c0",
       "value": " 5/5 [10:42&lt;00:00, 205.95s/it]"
      }
     },
     "fb0f508d7072497590237d0b930504d3": {
      "model_module": "@jupyter-widgets/controls",
      "model_module_version": "2.0.0",
      "model_name": "FloatProgressModel",
      "state": {
       "bar_style": "danger",
       "layout": "IPY_MODEL_c9bf803d14ac4d93b3ac89a31fb7b558",
       "max": 5,
       "style": "IPY_MODEL_7952b39c65fe4c25bcb62664d68321b1",
       "value": 3
      }
     },
     "fbc1a84d5d1d4888a63a37bf45ee9cbd": {
      "model_module": "@jupyter-widgets/controls",
      "model_module_version": "2.0.0",
      "model_name": "HBoxModel",
      "state": {
       "children": [
        "IPY_MODEL_0ea0552792e64693a3db70dc87882457",
        "IPY_MODEL_efa0babe2a2e47d5b4894d1f2b929369",
        "IPY_MODEL_9b4632131fd6499fa33d99d20bac8387"
       ],
       "layout": "IPY_MODEL_54204daece6741afbac3e96eda3cf626"
      }
     },
     "fd9474b1f3f045388f3156ff46ac29be": {
      "model_module": "@jupyter-widgets/controls",
      "model_module_version": "2.0.0",
      "model_name": "HTMLModel",
      "state": {
       "layout": "IPY_MODEL_9cd29277326247018540ae401caf8982",
       "style": "IPY_MODEL_101eda6ea1d9412e8630ee53850e4a0f",
       "value": " 6/7 [11:20&lt;00:25, 25.92s/it]"
      }
     }
    },
    "version_major": 2,
    "version_minor": 0
   }
  }
 },
 "nbformat": 4,
 "nbformat_minor": 5
}
